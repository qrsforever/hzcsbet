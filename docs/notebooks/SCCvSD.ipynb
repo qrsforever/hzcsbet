{
 "cells": [
  {
   "cell_type": "markdown",
   "id": "0519b9c7",
   "metadata": {},
   "source": [
    "## Import"
   ]
  },
  {
   "cell_type": "code",
   "execution_count": 1,
   "id": "dafe7507",
   "metadata": {},
   "outputs": [
    {
     "name": "stdout",
     "output_type": "stream",
     "text": [
      "Requirement already satisfied: pyflann-py3 in /usr/local/lib/python3.8/dist-packages (0.1.0)\n",
      "\u001b[33mWARNING: Running pip as the 'root' user can result in broken permissions and conflicting behaviour with the system package manager. It is recommended to use a virtual environment instead: https://pip.pypa.io/warnings/venv\u001b[0m\u001b[33m\n",
      "\u001b[0m\u001b[33mWARNING: You are using pip version 22.0.4; however, version 23.3.1 is available.\n",
      "You should consider upgrading via the '/usr/bin/python3.8 -m pip install --upgrade pip' command.\u001b[0m\u001b[33m\n",
      "\u001b[0m"
     ]
    }
   ],
   "source": [
    "!pip3 install pyflann-py3"
   ]
  },
  {
   "cell_type": "code",
   "execution_count": 2,
   "id": "72860380",
   "metadata": {},
   "outputs": [
    {
     "name": "stdout",
     "output_type": "stream",
     "text": [
      "pytransform3d: 3.4.0\n",
      "matplotlib   : 3.5.1\n",
      "scipy        : 1.8.0\n",
      "numpy        : 1.22.3\n",
      "pyflann      : unknown\n",
      "\n"
     ]
    }
   ],
   "source": [
    "%reload_ext watermark\n",
    "%reload_ext autoreload\n",
    "%autoreload 2\n",
    "%watermark -p pytransform3d,matplotlib,scipy,numpy,pyflann\n",
    "# %watermark -p numpy,sklearn,pandas\n",
    "# %watermark -p ipywidgets,cv2,PIL,matplotlib,plotly,netron\n",
    "# %watermark -p torch,torchvision,torchaudio\n",
    "# %watermark -p tensorflow,tensorboard,tflite\n",
    "# %watermark -p onnx,tf2onnx,onnxruntime,tensorrt,tvm\n",
    "# %matplotlib inline\n",
    "# %config InlineBackend.figure_format='retina'\n",
    "# %config IPCompleter.use_jedi = False\n",
    "\n",
    "%matplotlib inline\n",
    "# %matplotlib widget\n",
    "# from IPython.display import display, Markdown, HTML, IFrame, Image, Javascript\n",
    "# from IPython.core.magic import register_line_cell_magic, register_line_magic, register_cell_magic\n",
    "# display(HTML('<style>.container { width:%d%% !important; }</style>' % 90))\n",
    "\n",
    "import sys, os, io, logging, time, random, math\n",
    "import json, base64, requests, shutil\n",
    "import argparse, shlex, signal\n",
    "import numpy as np\n",
    "import scipy.io as sio\n",
    "\n",
    "np.set_printoptions(\n",
    "    edgeitems=3, infstr='inf',\n",
    "    linewidth=75, nanstr='nan', precision=6,\n",
    "    suppress=True, threshold=100, formatter=None)\n",
    "\n",
    "argparse.ArgumentParser.exit = lambda *arg, **kwargs: _IGNORE_\n",
    "\n",
    "def _IMPORT(x, tag='main', debug=False):\n",
    "    def __request_text(url):\n",
    "        response = requests.get(url)\n",
    "        if response.status_code == 200:\n",
    "            return response.text\n",
    "        else:\n",
    "            raise RuntimeError(url)\n",
    "    try:\n",
    "        x = x.strip()\n",
    "        if x[0] == '/' or x[1] == '/':\n",
    "            with open(x) as fr:\n",
    "                x = fr.read()\n",
    "        elif 'github' in x or 'gitee' in x:\n",
    "            if x.startswith('import '):\n",
    "                x = x[7:]\n",
    "            if x.startswith('https://'):\n",
    "                x = x[8:]\n",
    "            if not x.endswith('.py'):\n",
    "                x = x + '.py'\n",
    "            x = x.replace('blob/main/', '').replace('blob/master/', '')\n",
    "            if x.startswith('raw.githubusercontent.com'):\n",
    "                x = 'https://' + x\n",
    "                x = __request_text(x)\n",
    "            elif x.startswith('github.com'):\n",
    "                x = x.replace('github.com', 'raw.githubusercontent.com')\n",
    "                mod = x.split('/')\n",
    "                x = 'https://' + '/'.join(mod[:3]) + f'/{tag}/' + '/'.join(mod[-3:])\n",
    "                x = __request_text(x)\n",
    "            elif x.startswith('gitee.com'):\n",
    "                mod = x.split('/')\n",
    "                x = 'https://' + '/'.join(mod[:3]) + f'/raw/{tag}/' + '/'.join(mod[3:])\n",
    "                x = __request_text(x)\n",
    "        if debug:\n",
    "            return x\n",
    "        else:\n",
    "            exec(x, globals())\n",
    "    except Exception as err:\n",
    "        # sys.stderr.write(f'request {x} : {err}')\n",
    "       pass\n",
    "\n",
    "def _DIR(x, dumps=True, ret=True):\n",
    "    attrs = sorted([y for y in dir(x) if not y.startswith('_')])\n",
    "    result = '%s: %s' % (str(type(x))[8:-2], json.dumps(attrs) if dumps else attrs)\n",
    "    if ret:\n",
    "        return result\n",
    "    print(result)\n",
    "\n",
    "\n",
    "###\n",
    "### Display ###\n",
    "###\n",
    "\n",
    "_IMPORT('import pandas as pd')\n",
    "_IMPORT('import cv2')\n",
    "_IMPORT('from PIL import Image')\n",
    "_IMPORT('import matplotlib.pyplot as plt')\n",
    "# _IMPORT('import plotly')\n",
    "# _IMPORT('import plotly.graph_objects as go')\n",
    "# _IMPORT('import ipywidgets as widgets')\n",
    "# _IMPORT('from ipywidgets import interact, interactive, fixed, interact_manual')\n",
    "_IMPORT('import pytransform3d.rotations')\n",
    "_IMPORT('import pytransform3d.camera')\n",
    "_IMPORT('import pytransform3d.transformations')\n",
    "_IMPORT('import pyflann')\n",
    "# plotly.offline.init_notebook_mode(connected=False)\n",
    "\n",
    "plt.rcParams['figure.figsize'] = (12.0, 8.0)\n",
    "# from matplotlib.font_manager import FontProperties\n",
    "# simsun = FontProperties(fname='/sysfonts/simsun.ttc', size=12)\n",
    "\n",
    "    \n",
    "def show_image(imgsrc, width=None, height=None, rgb=True):\n",
    "    if isinstance(imgsrc, np.ndarray):\n",
    "        plt.close('all')\n",
    "        img = imgsrc\n",
    "        if width or height:\n",
    "            if width and height:\n",
    "                size = (width, height)\n",
    "            else:\n",
    "                rate = img.shape[1] / img.shape[0]\n",
    "                if width:\n",
    "                    size = (width, int(width/rate))\n",
    "                else:\n",
    "                    size = (int(height*rate), height)\n",
    "            img = cv2.resize(img, size)\n",
    "            plt.figure(figsize=(3*int(size[0]/80+1), 3*int(size[1]/80+1)), dpi=80)\n",
    "        plt.axis('off')\n",
    "        if len(img.shape) > 2:\n",
    "            if not rgb:\n",
    "                img = cv2.cvtColor(img, cv2.COLOR_BGR2RGB)\n",
    "            plt.imshow(img);\n",
    "        else:\n",
    "            plt.imshow(img, cmap='gray');\n",
    "        return\n",
    "\n",
    "    W, H = '', ''\n",
    "    if width:\n",
    "        W = 'width=%d' % width\n",
    "    if height:\n",
    "        H = 'height=%d' % height\n",
    "    if imgsrc.startswith('http'):\n",
    "        data_url = imgsrc\n",
    "    else:\n",
    "        if len(imgsrc) > 2048:\n",
    "            data_url = 'data:image/jpg;base64,' + imgsrc\n",
    "        else:\n",
    "            img = open(imgsrc, 'rb').read()\n",
    "            data_url = 'data:image/jpg;base64,' + base64.b64encode(img).decode()\n",
    "    return HTML('<center><img %s %s src=\"%s\"/></center>' % (W, H, data_url))"
   ]
  },
  {
   "cell_type": "markdown",
   "id": "3b3a39ab",
   "metadata": {},
   "source": [
    "## Global"
   ]
  },
  {
   "cell_type": "code",
   "execution_count": 3,
   "id": "61a35f36",
   "metadata": {},
   "outputs": [],
   "source": [
    "TOP_DIR='/jupyter/hzcsbet/gamebet'\n",
    "H = 720\n",
    "W = 1280\n",
    "\n",
    "class COLORS(object):\n",
    "    # BGR\n",
    "    GREEN      = (0   , 255 , 0)\n",
    "    RED        = (0   , 0   , 255)\n",
    "    BLACK      = (0   , 0   , 0)\n",
    "    YELLOW     = (0   , 255 , 255)\n",
    "    WHITE      = (255 , 255 , 255)\n",
    "    CYAN       = (255 , 255 , 0)\n",
    "    MAGENTA    = (255 , 0   , 242)\n",
    "    GOLDEN     = (32  , 218 , 165)\n",
    "    LIGHT_BLUE = (255 , 9   , 2)\n",
    "    PURPLE     = (128 , 0   , 128)\n",
    "    CHOCOLATE  = (30  , 105 , 210)\n",
    "    PINK       = (147 , 20  , 255)\n",
    "    ORANGE     = (0   , 69  , 255)\n",
    "\n",
    "sys.path.append(f'{TOP_DIR}/python')\n",
    "\n",
    "import cv2 as cv"
   ]
  },
  {
   "cell_type": "code",
   "execution_count": 4,
   "id": "c6601c09",
   "metadata": {},
   "outputs": [],
   "source": [
    "def _print_dictkeys_shape(d):\n",
    "    for k, v in d.items():\n",
    "        if k.startswith('__'):\n",
    "            continue\n",
    "        print(f'{k}: {v.shape}')\n",
    "        \n",
    "def _print_statistics(o, prefix=''):\n",
    "    if isinstance(o, np.ndarray):\n",
    "        print(f'{prefix} mean: {o.mean()}, std: {o.std()}, max: {o.max()}, min:{o.min()}')\n",
    "    \n",
    "def _print_matrix(mat, fmt=\"g\"):\n",
    "    col_maxes = [max([len((\"{:\"+fmt+\"}\").format(x)) for x in col]) for col in mat.T]\n",
    "    for x in mat:\n",
    "        for i, y in enumerate(x):\n",
    "            print((\"{:\"+str(col_maxes[i])+fmt+\"}\").format(y), end=\"  \")\n",
    "        print(\"\")\n",
    "_print_star = lambda n = 50: print('*' * n)"
   ]
  },
  {
   "cell_type": "code",
   "execution_count": 5,
   "id": "16834493",
   "metadata": {},
   "outputs": [],
   "source": [
    "def _imshow(image, color='gray', figsize=(6, 3)):\n",
    "    plt.close('all')\n",
    "    plt.figure(figsize=figsize)\n",
    "    plt.axis('off')\n",
    "    if color == 'gray':\n",
    "        plt.imshow(image, cmap='gray')\n",
    "    else:\n",
    "        plt.imshow(cv2.cvtColor(image, cv2.COLOR_BGR2RGB))"
   ]
  },
  {
   "cell_type": "markdown",
   "id": "124aba0a",
   "metadata": {},
   "source": [
    "## Dataset"
   ]
  },
  {
   "cell_type": "markdown",
   "id": "0edc3947",
   "metadata": {},
   "source": [
    "### worldcup2014.mat"
   ]
  },
  {
   "cell_type": "code",
   "execution_count": 6,
   "id": "af0233d2",
   "metadata": {},
   "outputs": [
    {
     "name": "stdout",
     "output_type": "stream",
     "text": [
      "points: (302, 2)\n",
      "line_segment_index: (151, 2)\n",
      "grid_points: (2204, 2)\n"
     ]
    }
   ],
   "source": [
    "worldcup_2014_mat = sio.loadmat(f'{TOP_DIR}/data/worldcup2014.mat')\n",
    "_print_dictkeys_shape(worldcup_2014_mat)"
   ]
  },
  {
   "cell_type": "code",
   "execution_count": 7,
   "id": "c67ab742",
   "metadata": {},
   "outputs": [
    {
     "name": "stdout",
     "output_type": "stream",
     "text": [
      "points mean: 52.50027599999999, std: 27.479935120360008, max: 105.000552, min:0.0\n",
      "points mean: 34.001964, std: 11.397408419732242, max: 68.003928, min:0.0\n"
     ]
    }
   ],
   "source": [
    "points = worldcup_2014_mat['points']\n",
    "_print_statistics(points[:, 0], 'points'), _print_statistics(points[:, 1], 'points');"
   ]
  },
  {
   "cell_type": "code",
   "execution_count": 8,
   "id": "57d1bcb3",
   "metadata": {},
   "outputs": [
    {
     "data": {
      "text/plain": [
       "(69, 106, 3)"
      ]
     },
     "execution_count": 8,
     "metadata": {},
     "output_type": "execute_result"
    },
    {
     "data": {
      "image/png": "[encoded data removed]",
      "text/plain": [
       "<Figure size 432x216 with 1 Axes>"
      ]
     },
     "metadata": {
      "needs_background": "light"
     },
     "output_type": "display_data"
    }
   ],
   "source": [
    "w, h = int(np.ceil(points[:, 0].max())), int(np.ceil(points[:, 1].max()))\n",
    "img_soccer_field = np.zeros((h, w, 3), dtype=np.uint8)\n",
    "for idx1, idx2 in worldcup_2014_mat['line_segment_index']:\n",
    "    p1, p2 = points[idx1], points[idx2]\n",
    "    q1 = np.rint(p1).astype(np.int32)\n",
    "    q2 = np.rint(p2).astype(np.int32)\n",
    "    cv2.line(img_soccer_field, tuple(q1), tuple(q2), COLORS.WHITE)\n",
    "    \n",
    "_imshow(img_soccer_field)\n",
    "img_soccer_field.shape"
   ]
  },
  {
   "cell_type": "markdown",
   "id": "edfffac9",
   "metadata": {},
   "source": [
    "### worldcup_dataset_camera_parameter.mat"
   ]
  },
  {
   "cell_type": "code",
   "execution_count": 9,
   "id": "74017cd4",
   "metadata": {},
   "outputs": [
    {
     "name": "stdout",
     "output_type": "stream",
     "text": [
      "cc_max: (1, 3)\n",
      "cc_mean: (1, 3)\n",
      "cc_min: (1, 3)\n",
      "cc_std: (1, 3)\n",
      "fl_max: (1, 1)\n",
      "fl_mean: (1, 1)\n",
      "fl_min: (1, 1)\n",
      "fl_std: (1, 1)\n"
     ]
    }
   ],
   "source": [
    "worldcup_camera_parameter = sio.loadmat(f'{TOP_DIR}/data/worldcup_dataset_camera_parameter.mat')\n",
    "_print_dictkeys_shape(worldcup_camera_parameter)"
   ]
  },
  {
   "cell_type": "markdown",
   "id": "0e77d443",
   "metadata": {},
   "source": [
    "### worldcup_sampled_cameras.mat"
   ]
  },
  {
   "cell_type": "code",
   "execution_count": 10,
   "id": "26bc6c5a",
   "metadata": {},
   "outputs": [
    {
     "name": "stdout",
     "output_type": "stream",
     "text": [
      "pivot_cameras: (91173, 9)\n",
      "positive_cameras: (91173, 9)\n",
      "positive_ious: (91173, 1)\n"
     ]
    }
   ],
   "source": [
    "worldcup_sampled_cameras = sio.loadmat(f'{TOP_DIR}/data/worldcup_sampled_cameras.mat')\n",
    "_print_dictkeys_shape(worldcup_sampled_cameras)"
   ]
  },
  {
   "cell_type": "code",
   "execution_count": 11,
   "id": "526cd06c",
   "metadata": {},
   "outputs": [
    {
     "data": {
      "text/plain": [
       "array([[ 640.      ,  360.      , 3854.144927,    1.6884  ,    0.243943,\n",
       "          -0.213464,   51.974747,  -53.391455,   15.158311],\n",
       "       [ 640.      ,  360.      , 4992.664677,    1.724868,   -0.236567,\n",
       "           0.192668,   58.227037,  -43.640134,   13.287872],\n",
       "       [ 640.      ,  360.      , 2918.389825,    1.736694,    0.138454,\n",
       "          -0.111589,   48.270506,  -47.907207,   14.251457],\n",
       "       [ 640.      ,  360.      , 3604.84738 ,    1.772747,   -0.022877,\n",
       "           0.008633,   53.119063,  -41.81307 ,   14.684627],\n",
       "       [ 640.      ,  360.      , 2797.713665,    1.656788,   -0.239269,\n",
       "           0.21015 ,   52.201609,  -43.969138,   13.911572],\n",
       "       [ 640.      ,  360.      , 4022.714545,    1.738111,   -0.151789,\n",
       "           0.134468,   53.14781 ,  -47.103762,   12.389078]])"
      ]
     },
     "execution_count": 11,
     "metadata": {},
     "output_type": "execute_result"
    }
   ],
   "source": [
    "worldcup_sampled_cameras['pivot_cameras'][12:18]"
   ]
  },
  {
   "cell_type": "markdown",
   "id": "98bab92f",
   "metadata": {},
   "source": [
    "### features/database_camera_feature.mat"
   ]
  },
  {
   "cell_type": "code",
   "execution_count": 12,
   "id": "e4415e09",
   "metadata": {},
   "outputs": [
    {
     "name": "stdout",
     "output_type": "stream",
     "text": [
      "cameras: (91173, 9)\n",
      "features: (91173, 16)\n"
     ]
    }
   ],
   "source": [
    "database_camera_features = sio.loadmat(f'{TOP_DIR}/data/features/database_camera_feature.mat')\n",
    "_print_dictkeys_shape(database_camera_features)"
   ]
  },
  {
   "cell_type": "code",
   "execution_count": 13,
   "id": "ee01a10b",
   "metadata": {},
   "outputs": [
    {
     "data": {
      "text/plain": [
       "array([[ 640.      ,  360.      , 1843.086214,    1.668861,    0.237341,\n",
       "          -0.216936,   51.725313,  -55.24253 ,   13.741604],\n",
       "       [ 640.      ,  360.      , 2735.760138,    1.683446,   -0.439934,\n",
       "           0.380944,   55.36815 ,  -47.510307,   15.00194 ],\n",
       "       [ 640.      ,  360.      , 2636.988208,    1.710394,    0.35452 ,\n",
       "          -0.30104 ,   50.968008,  -56.355524,   13.276288],\n",
       "       [ 640.      ,  360.      , 1969.785521,    1.639676,    0.421219,\n",
       "          -0.381463,   49.688613,  -27.465165,   17.864562],\n",
       "       [ 640.      ,  360.      , 2702.236468,    1.786187,   -0.126308,\n",
       "           0.106665,   49.974861,  -54.884818,   16.401735]])"
      ]
     },
     "execution_count": 13,
     "metadata": {},
     "output_type": "execute_result"
    }
   ],
   "source": [
    "database_camera_features['cameras'][:5]"
   ]
  },
  {
   "cell_type": "code",
   "execution_count": 14,
   "id": "50ba661e",
   "metadata": {},
   "outputs": [
    {
     "data": {
      "text/plain": [
       "array([[-0.372055, -0.09087 , -0.259755, -0.208958,  0.21655 , -0.135903,\n",
       "         0.207431,  0.185724, -0.221791,  0.125692,  0.043995,  0.469147,\n",
       "        -0.093933,  0.227581,  0.495774,  0.076366],\n",
       "       [ 0.267115,  0.11651 , -0.386815, -0.154943, -0.17079 , -0.271643,\n",
       "         0.10116 , -0.144005,  0.252797,  0.299399,  0.400056, -0.09353 ,\n",
       "         0.089256,  0.375996,  0.236919,  0.282277],\n",
       "       [ 0.646169, -0.152043, -0.403935, -0.07253 , -0.016389, -0.004778,\n",
       "        -0.090194, -0.087009,  0.240885,  0.287335,  0.152687,  0.284175,\n",
       "        -0.30157 , -0.012018, -0.123235, -0.154816],\n",
       "       [-0.115721, -0.269547,  0.277795, -0.260665, -0.022519,  0.030737,\n",
       "        -0.107026, -0.235174,  0.190954,  0.126271, -0.248658, -0.424408,\n",
       "         0.493188,  0.300325,  0.230555,  0.140185],\n",
       "       [ 0.297994,  0.317869,  0.033043, -0.257077, -0.295638, -0.128306,\n",
       "         0.220009, -0.255847,  0.546875, -0.143696,  0.195117,  0.130659,\n",
       "         0.278087, -0.027115,  0.259274, -0.071265]], dtype=float32)"
      ]
     },
     "execution_count": 14,
     "metadata": {},
     "output_type": "execute_result"
    }
   ],
   "source": [
    "# calculate from siamese neural network\n",
    "database_camera_features['features'][:5]"
   ]
  },
  {
   "cell_type": "markdown",
   "id": "c65d495f",
   "metadata": {},
   "source": [
    "### features/testset_feature.mat"
   ]
  },
  {
   "cell_type": "code",
   "execution_count": 15,
   "id": "e5d52969",
   "metadata": {},
   "outputs": [
    {
     "name": "stdout",
     "output_type": "stream",
     "text": [
      "edge_distances: (180, 320, 1, 186)\n",
      "edge_map: (720, 1280, 1, 186)\n",
      "features: (16, 186)\n"
     ]
    }
   ],
   "source": [
    "testset_features = sio.loadmat(f'{TOP_DIR}/data/features/testset_feature.mat')\n",
    "_print_dictkeys_shape(testset_features)"
   ]
  },
  {
   "cell_type": "code",
   "execution_count": 16,
   "id": "ea8f71a5",
   "metadata": {},
   "outputs": [
    {
     "data": {
      "text/plain": [
       "(180, 320, 1, 4)"
      ]
     },
     "execution_count": 16,
     "metadata": {},
     "output_type": "execute_result"
    }
   ],
   "source": [
    "# calculate by cv.distanceTransform\n",
    "show_num = 4\n",
    "edge_distances_x = testset_features[\"edge_distances\"][..., :show_num]\n",
    "edge_distances_x.shape"
   ]
  },
  {
   "cell_type": "code",
   "execution_count": 17,
   "id": "ad59b9f4",
   "metadata": {},
   "outputs": [
    {
     "data": {
      "image/png": "[encoded data removed]",
      "text/plain": [
       "<Figure size 864x144 with 1 Axes>"
      ]
     },
     "metadata": {
      "needs_background": "light"
     },
     "output_type": "display_data"
    }
   ],
   "source": [
    "_imshow(np.hstack(np.split(edge_distances_x, indices_or_sections=show_num, axis=-1)).squeeze(), color='gray', figsize=(3 * show_num, 2))"
   ]
  },
  {
   "cell_type": "code",
   "execution_count": 19,
   "id": "20646287",
   "metadata": {},
   "outputs": [
    {
     "data": {
      "text/plain": [
       "(720, 1280, 1, 4)"
      ]
     },
     "execution_count": 19,
     "metadata": {},
     "output_type": "execute_result"
    }
   ],
   "source": [
    "show_num = 4\n",
    "edge_map_x = testset_features[\"edge_map\"][..., :show_num]\n",
    "edge_map_x.shape"
   ]
  },
  {
   "cell_type": "code",
   "execution_count": 20,
   "id": "a4a61bb9",
   "metadata": {},
   "outputs": [
    {
     "data": {
      "image/png": "[encoded data removed]",
      "text/plain": [
       "<Figure size 864x144 with 1 Axes>"
      ]
     },
     "metadata": {
      "needs_background": "light"
     },
     "output_type": "display_data"
    }
   ],
   "source": [
    "_imshow(np.hstack(np.split(edge_map_x, indices_or_sections=show_num, axis=-1)).squeeze(), color='gray', figsize=(3 * show_num, 2))"
   ]
  },
  {
   "cell_type": "markdown",
   "id": "7fda7820",
   "metadata": {},
   "source": [
    "### UoT_soccer/train_val.mat"
   ]
  },
  {
   "cell_type": "code",
   "execution_count": 24,
   "id": "f45458fe",
   "metadata": {},
   "outputs": [
    {
     "name": "stdout",
     "output_type": "stream",
     "text": [
      "annotation: (1, 209)\n",
      "meta: (1, 1)\n"
     ]
    }
   ],
   "source": [
    "train_val_UoT = sio.loadmat(f'{TOP_DIR}/data/UoT_soccer/train_val.mat')\n",
    "_print_dictkeys_shape(train_val_UoT)"
   ]
  },
  {
   "cell_type": "code",
   "execution_count": 25,
   "id": "5a1cc4d0",
   "metadata": {},
   "outputs": [
    {
     "data": {
      "text/plain": [
       "array([[(array(['train_val'], dtype='<U9'), array(['/Users/jimmy/Desktop/images/UoT_soccer/train_val'], dtype='<U48'))]],\n",
       "      dtype=[('data_type', 'O'), ('folder', 'O')])"
      ]
     },
     "execution_count": 25,
     "metadata": {},
     "output_type": "execute_result"
    }
   ],
   "source": [
    "train_val_UoT['meta']"
   ]
  },
  {
   "cell_type": "code",
   "execution_count": 26,
   "id": "9317a7d9",
   "metadata": {},
   "outputs": [
    {
     "data": {
      "text/plain": [
       "(numpy.void,\n",
       " (array(['1.jpg'], dtype='<U5'), array([[ -1.21252 ,   0.032872,  64.237605],\n",
       "        [ -0.004756,   0.009247, -19.363899],\n",
       "        [ -0.000126,   0.000496,  -0.053625]])))"
      ]
     },
     "execution_count": 26,
     "metadata": {},
     "output_type": "execute_result"
    }
   ],
   "source": [
    "type(train_val_UoT['annotation'][0][0]), train_val_UoT['annotation'][0][0]"
   ]
  },
  {
   "cell_type": "code",
   "execution_count": 27,
   "id": "b5926082",
   "metadata": {},
   "outputs": [
    {
     "data": {
      "text/plain": [
       "array([(array(['16.jpg'], dtype='<U6'), array([[   9.964002,    1.539575, -775.332768],\n",
       "              [  -0.422633,    0.694584,  152.285376],\n",
       "              [   0.000789,   -0.003297,    0.401312]]))                               ,\n",
       "       (array(['17.jpg'], dtype='<U6'), array([[   8.145961,    1.639647, -688.687658],\n",
       "              [  -0.217398,    0.451414,  126.647341],\n",
       "              [   0.001019,   -0.002626,    0.2949  ]]))                               ],\n",
       "      dtype=[('image_name', 'O'), ('homography', 'O')])"
      ]
     },
     "execution_count": 27,
     "metadata": {},
     "output_type": "execute_result"
    }
   ],
   "source": [
    "train_val_UoT['annotation'][0][15:17]"
   ]
  },
  {
   "cell_type": "code",
   "execution_count": 28,
   "id": "c05a613b",
   "metadata": {},
   "outputs": [
    {
     "name": "stdout",
     "output_type": "stream",
     "text": [
      "grass: (720, 1280)\n"
     ]
    }
   ],
   "source": [
    "h16_gt_mat = sio.loadmat(f'{TOP_DIR}/data/UoT_soccer/16_grass_gt.mat')\n",
    "_print_dictkeys_shape(h16_gt_mat)"
   ]
  },
  {
   "cell_type": "code",
   "execution_count": 29,
   "id": "cb64f4cd",
   "metadata": {
    "scrolled": false
   },
   "outputs": [
    {
     "data": {
      "image/png": "[encoded data removed]",
      "text/plain": [
       "<Figure size 432x216 with 1 Axes>"
      ]
     },
     "metadata": {
      "needs_background": "light"
     },
     "output_type": "display_data"
    }
   ],
   "source": [
    "_imshow(h16_gt_mat['grass'], 'gray')"
   ]
  },
  {
   "cell_type": "markdown",
   "id": "d86f54ef",
   "metadata": {},
   "source": [
    "### UoT_soccer/test.mat (same size with testset_feature.mat)"
   ]
  },
  {
   "cell_type": "code",
   "execution_count": 30,
   "id": "320cc108",
   "metadata": {},
   "outputs": [
    {
     "name": "stdout",
     "output_type": "stream",
     "text": [
      "annotation: (1, 186)\n",
      "meta: (1, 1)\n"
     ]
    }
   ],
   "source": [
    "test_UoT = sio.loadmat(f'{TOP_DIR}/data/UoT_soccer/test.mat')\n",
    "_print_dictkeys_shape(test_UoT)"
   ]
  },
  {
   "cell_type": "code",
   "execution_count": 31,
   "id": "837f2f24",
   "metadata": {},
   "outputs": [
    {
     "data": {
      "text/plain": [
       "array([(array(['16.jpg'], dtype='<U6'), array([[ 11.11628 ,  -6.766282, 188.062353],\n",
       "              [  0.440481,   0.381525, 127.388439],\n",
       "              [ -0.000302,  -0.003024,   0.402609]]))                               ,\n",
       "       (array(['17.jpg'], dtype='<U6'), array([[   1.878536,   -0.059891, -100.151941],\n",
       "              [  -0.030807,    0.022421,   28.215382],\n",
       "              [   0.000111,   -0.000737,    0.08457 ]]))                               ],\n",
       "      dtype=[('image_name', 'O'), ('homography', 'O')])"
      ]
     },
     "execution_count": 31,
     "metadata": {},
     "output_type": "execute_result"
    }
   ],
   "source": [
    "test_UoT['annotation'][0][15:17]"
   ]
  },
  {
   "cell_type": "markdown",
   "id": "dd6e715f",
   "metadata": {},
   "source": [
    "## Plot3D"
   ]
  },
  {
   "cell_type": "code",
   "execution_count": 32,
   "id": "edca5607",
   "metadata": {},
   "outputs": [
    {
     "data": {
      "text/plain": [
       "{'__header__': b'MATLAB 5.0 MAT-file, Platform: MACI64, Created on: Mon Jan 29 09:43:18 2018',\n",
       " '__version__': '1.0',\n",
       " '__globals__': [],\n",
       " 'cc_max': array([[ 60.845633, -16.741782,  23.011261]]),\n",
       " 'cc_mean': array([[ 52.366185, -45.156501,  16.821567]]),\n",
       " 'cc_min': array([[ 45.056791, -66.070204,  10.138713]]),\n",
       " 'cc_std': array([[2.231926, 9.382564, 2.948753]]),\n",
       " 'fl_max': array([[5696.984549]]),\n",
       " 'fl_mean': array([[3018.181398]]),\n",
       " 'fl_min': array([[1463.164684]]),\n",
       " 'fl_std': array([[716.068171]])}"
      ]
     },
     "execution_count": 32,
     "metadata": {},
     "output_type": "execute_result"
    }
   ],
   "source": [
    "worldcup_camera_parameter"
   ]
  },
  {
   "cell_type": "code",
   "execution_count": 33,
   "id": "8df1848a",
   "metadata": {},
   "outputs": [
    {
     "data": {
      "text/plain": [
       "(array([[ 0.996195, -0.      , -0.087156],\n",
       "        [ 0.087156,  0.      ,  0.996195],\n",
       "        [ 0.      , -1.      ,  0.      ]]),\n",
       " array([ 52.366185, -45.156501,  16.821567]))"
      ]
     },
     "execution_count": 33,
     "metadata": {},
     "output_type": "execute_result"
    },
    {
     "data": {
      "image/png": "[encoded data removed]",
      "text/plain": [
       "<Figure size 1152x576 with 1 Axes>"
      ]
     },
     "metadata": {
      "needs_background": "light"
     },
     "output_type": "display_data"
    }
   ],
   "source": [
    "img_soccer = cv2.cvtColor(img_soccer_field, cv2.COLOR_BGR2RGB)\n",
    "img_soccer = np.transpose(img_soccer, (1, 0, 2))\n",
    "\n",
    "plt.close('all')\n",
    "fig = plt.figure(figsize=(16, 8))\n",
    "ax = fig.add_subplot(111, projection='3d')\n",
    "ax.set(xlim=(-5, img_soccer.shape[0] + 5), ylim=(-45, img_soccer.shape[1] + 5), zlim=(0, 20))\n",
    "ax = pytransform3d.rotations.plot_basis(\n",
    "    ax,\n",
    "    s=10, # 基坐标大小\n",
    "    lw=3,\n",
    ")\n",
    "\n",
    "Rx_neg_90 = pytransform3d.rotations.active_matrix_from_angle(0, np.deg2rad(-90))\n",
    "Ry_pos_00 = pytransform3d.rotations.active_matrix_from_angle(1, np.deg2rad(0))\n",
    "Rz_pos_05 = pytransform3d.rotations.active_matrix_from_angle(2, np.deg2rad(5))\n",
    "# R = pytransform3d.rotations.active_matrix_from_extrinsic_euler_xyz((np.deg2rad(-90), 0, np.deg2rad(5)))\n",
    "R_c = Rz_pos_05 @ Ry_pos_00 @ Rx_neg_90 \n",
    "C = worldcup_camera_parameter['cc_mean'][0]\n",
    "ax = pytransform3d.rotations.plot_basis(\n",
    "    ax,\n",
    "    s=10, lw=3,\n",
    "    R=R_c,\n",
    "    p=C,\n",
    "    # label='Camera PTZ'\n",
    ")\n",
    "xx, yy = np.ogrid[0:img_soccer.shape[0], 0:img_soccer.shape[1]]\n",
    "# 设置x,y,z坐标轴刻度等大小\n",
    "ax.set_box_aspect((np.ptp(xx), np.ptp(yy), 20))\n",
    "ax.plot_surface(xx, yy, np.atleast_2d(0), alpha=0.75, rstride=1, cstride=1, facecolors=img_soccer.astype(np.float32) / 255.0)\n",
    "\n",
    "# Camera\n",
    "f = worldcup_camera_parameter['fl_mean'][0][0]\n",
    "sensor_size = (1280, 720)\n",
    "intrinsic_matrix = np.array([\n",
    "    [f, 0, sensor_size[0] / 2],\n",
    "    [0, f, sensor_size[1] / 2],\n",
    "    [0, 0, 1.0]\n",
    "], dtype=np.float32)\n",
    "\n",
    "# H(p) @ H(R)\n",
    "cam2world = pytransform3d.transformations.transform_from(R=R_c, p=C)\n",
    "pytransform3d.camera.plot_camera(\n",
    "    ax=ax,\n",
    "    cam2world=cam2world,\n",
    "    M=intrinsic_matrix, \n",
    "    sensor_size=sensor_size, # TODO\n",
    "    virtual_image_distance=30,\n",
    "    alpha=0.45, color='#181818'\n",
    ")\n",
    "ax.view_init(elev=30, azim=40, vertical_axis='z')\n",
    "ax.set_title(\"camera transformation\")\n",
    "ax.set_xlabel(\"X-axis\")\n",
    "ax.set_ylabel(\"Y-axis\")\n",
    "ax.set_zlabel(\"Z-axis\")\n",
    "R_c, C"
   ]
  },
  {
   "cell_type": "markdown",
   "id": "976dd16d",
   "metadata": {},
   "source": [
    "### Camera Pose\n",
    "\n",
    "Let $C$ be a column vector describing the location of the camera-center in world coordinates, and let $R_c$\n",
    "be the rotation matrix describing the camera's orientation with respect to the world coordinate axes."
   ]
  },
  {
   "cell_type": "code",
   "execution_count": 34,
   "id": "51516b00",
   "metadata": {},
   "outputs": [
    {
     "data": {
      "text/plain": [
       "array([[ 0.996195, -0.      , -0.087156,  0.      ],\n",
       "       [ 0.087156,  0.      ,  0.996195,  0.      ],\n",
       "       [ 0.      , -1.      ,  0.      ,  0.      ],\n",
       "       [ 0.      ,  0.      ,  0.      ,  1.      ]])"
      ]
     },
     "execution_count": 34,
     "metadata": {},
     "output_type": "execute_result"
    }
   ],
   "source": [
    "R_h = np.eye(4)\n",
    "R_h[:3, :3] = R_c\n",
    "R_h"
   ]
  },
  {
   "cell_type": "code",
   "execution_count": 35,
   "id": "ae582fe2",
   "metadata": {},
   "outputs": [
    {
     "data": {
      "text/plain": [
       "array([[  1.      ,   0.      ,   0.      ,  52.366185],\n",
       "       [  0.      ,   1.      ,   0.      , -45.156501],\n",
       "       [  0.      ,   0.      ,   1.      ,  16.821567],\n",
       "       [  0.      ,   0.      ,   0.      ,   1.      ]])"
      ]
     },
     "execution_count": 35,
     "metadata": {},
     "output_type": "execute_result"
    }
   ],
   "source": [
    "C_h = np.eye(4)\n",
    "C_h[:3, -1] = C\n",
    "C_h"
   ]
  },
  {
   "cell_type": "code",
   "execution_count": 36,
   "id": "ea7ebb99",
   "metadata": {},
   "outputs": [
    {
     "data": {
      "text/plain": [
       "array([[  0.996195,  -0.      ,  -0.087156,  52.366185],\n",
       "       [  0.087156,   0.      ,   0.996195, -45.156501],\n",
       "       [  0.      ,  -1.      ,   0.      ,  16.821567],\n",
       "       [  0.      ,   0.      ,   0.      ,   1.      ]])"
      ]
     },
     "execution_count": 36,
     "metadata": {},
     "output_type": "execute_result"
    }
   ],
   "source": [
    "Pose = C_h @ R_h\n",
    "Pose"
   ]
  },
  {
   "cell_type": "code",
   "execution_count": 37,
   "id": "69d87dd2",
   "metadata": {},
   "outputs": [
    {
     "data": {
      "text/plain": [
       "(array([[  0.996195,   0.087156,   0.      ,   0.      ],\n",
       "        [ -0.      ,   0.      ,  -1.      ,   0.      ],\n",
       "        [ -0.087156,   0.996195,   0.      ,   0.      ],\n",
       "        [ 52.366185, -45.156501,  16.821567,   1.      ]]),\n",
       " array([[  0.996195,   0.087156,   0.      , -48.231267],\n",
       "        [ -0.      ,   0.      ,  -1.      ,  16.821567],\n",
       "        [ -0.087156,   0.996195,   0.      ,  49.548681],\n",
       "        [  0.      ,   0.      ,   0.      ,   1.      ]]))"
      ]
     },
     "execution_count": 37,
     "metadata": {},
     "output_type": "execute_result"
    }
   ],
   "source": [
    "Pose.T, np.linalg.inv(Pose)"
   ]
  },
  {
   "cell_type": "markdown",
   "id": "76766d3f",
   "metadata": {},
   "source": [
    "### Camera Extrinsic\n",
    "\n",
    "Describes how to transform points in world coordinates to camera coordinates. The vector $t$ can be interpreted as the position of the world origin in camera coordinates, and the columns of $R$ represent represent the directions of the world-axes in camera coordinates.\n",
    "\n",
    "The extrinsic matrix is obtained by inverting the camera's pose matrix."
   ]
  },
  {
   "cell_type": "code",
   "execution_count": 38,
   "id": "d056dd4f",
   "metadata": {},
   "outputs": [
    {
     "data": {
      "text/plain": [
       "(array([[ 0.996195,  0.087156,  0.      ],\n",
       "        [-0.      ,  0.      , -1.      ],\n",
       "        [-0.087156,  0.996195,  0.      ]]),\n",
       " array([-48.231267,  16.821567,  49.548681]))"
      ]
     },
     "execution_count": 38,
     "metadata": {},
     "output_type": "execute_result"
    }
   ],
   "source": [
    "R = R_c.T\n",
    "t = -R_c.T @ C\n",
    "R, t"
   ]
  },
  {
   "cell_type": "code",
   "execution_count": null,
   "id": "43a44d5e",
   "metadata": {},
   "outputs": [],
   "source": [
    "raise"
   ]
  },
  {
   "cell_type": "markdown",
   "id": "b6618b9b",
   "metadata": {},
   "source": [
    "## Search Feature"
   ]
  },
  {
   "cell_type": "code",
   "execution_count": 44,
   "id": "349e61bd",
   "metadata": {},
   "outputs": [
    {
     "data": {
      "text/plain": [
       "(numpy.void,\n",
       " array(['16.jpg'], dtype='<U6'),\n",
       " array([[ 11.11628 ,  -6.766282, 188.062353],\n",
       "        [  0.440481,   0.381525, 127.388439],\n",
       "        [ -0.000302,  -0.003024,   0.402609]]))"
      ]
     },
     "execution_count": 44,
     "metadata": {},
     "output_type": "execute_result"
    }
   ],
   "source": [
    "query_index = 15\n",
    "struct_void = test_UoT['annotation'][0][query_index]\n",
    "type(struct_void), struct_void['image_name'], struct_void['homography']"
   ]
  },
  {
   "cell_type": "code",
   "execution_count": 45,
   "id": "ec572b13",
   "metadata": {
    "code_folding": []
   },
   "outputs": [
    {
     "data": {
      "text/plain": [
       "(array(['16.jpg'], dtype='<U6'),\n",
       " array([[ 11.11628 ,  -6.766282, 188.062353],\n",
       "        [  0.440481,   0.381525, 127.388439],\n",
       "        [ -0.000302,  -0.003024,   0.402609]]))"
      ]
     },
     "execution_count": 45,
     "metadata": {},
     "output_type": "execute_result"
    }
   ],
   "source": [
    "# ground truth homography\n",
    "test_image_name, test_gt_h = struct_void\n",
    "test_image_name, test_gt_h"
   ]
  },
  {
   "cell_type": "code",
   "execution_count": 46,
   "id": "b33e5fff",
   "metadata": {},
   "outputs": [
    {
     "data": {
      "text/plain": [
       "((16, 186), (91173, 16))"
      ]
     },
     "execution_count": 46,
     "metadata": {},
     "output_type": "execute_result"
    }
   ],
   "source": [
    "testset_features['features'].shape, database_camera_features['features'].shape"
   ]
  },
  {
   "cell_type": "code",
   "execution_count": 47,
   "id": "0ea4c3a7",
   "metadata": {},
   "outputs": [
    {
     "data": {
      "text/plain": [
       "array([ 0.025688, -0.233451, -0.096971, -0.20187 , -0.0677  ,  0.410727,\n",
       "       -0.082704,  0.275503,  0.354157,  0.520592,  0.193371,  0.137005,\n",
       "        0.227932, -0.352738, -0.097878,  0.008252], dtype=float32)"
      ]
     },
     "execution_count": 47,
     "metadata": {},
     "output_type": "execute_result"
    }
   ],
   "source": [
    "database_features, testset_feature_x = database_camera_features['features'], testset_features['features'][:, query_index]\n",
    "testset_feature_x"
   ]
  },
  {
   "cell_type": "code",
   "execution_count": 48,
   "id": "b41f8b37",
   "metadata": {},
   "outputs": [
    {
     "data": {
      "text/plain": [
       "array([74009], dtype=int32)"
      ]
     },
     "execution_count": 48,
     "metadata": {},
     "output_type": "execute_result"
    }
   ],
   "source": [
    "# %%timeit\n",
    "\n",
    "# get the similar camera feature from feature database\n",
    "flann = pyflann.FLANN()\n",
    "result, _ = flann.nn(database_features, testset_feature_x, 1, algorithm=\"kdtree\", trees=8, checks=64)\n",
    "result"
   ]
  },
  {
   "cell_type": "code",
   "execution_count": 49,
   "id": "7fc41bed",
   "metadata": {},
   "outputs": [
    {
     "data": {
      "text/plain": [
       "array([ 640.      ,  360.      , 4444.471781,    1.674882,    0.29559 ,\n",
       "         -0.259898,   51.736009,  -54.392403,   14.967156])"
      ]
     },
     "execution_count": 49,
     "metadata": {},
     "output_type": "execute_result"
    }
   ],
   "source": [
    "retrieved_camera_param = database_camera_features['cameras'][result[0]]\n",
    "retrieved_camera_param"
   ]
  },
  {
   "cell_type": "code",
   "execution_count": 50,
   "id": "e90bb265",
   "metadata": {},
   "outputs": [
    {
     "data": {
      "text/plain": [
       "(None,\n",
       " array([ 640.      ,  360.      , 4444.471781,    1.674882,    0.29559 ,\n",
       "          -0.259898,   51.736009,  -54.392403,   14.967156]))"
      ]
     },
     "execution_count": 50,
     "metadata": {},
     "output_type": "execute_result"
    },
    {
     "data": {
      "image/png": "[encoded data removed]",
      "text/plain": [
       "<Figure size 432x216 with 1 Axes>"
      ]
     },
     "metadata": {
      "needs_background": "light"
     },
     "output_type": "display_data"
    }
   ],
   "source": [
    "retrieved_image = SyntheticUtil.camera_to_edge_image(\n",
    "    retrieved_camera_param, worldcup_2014_mat['points'], worldcup_2014_mat['line_segment_index'],\n",
    "    im_h=720, im_w=1280, line_width=4)\n",
    "\n",
    "_imshow(retrieved_image), retrieved_camera_param"
   ]
  },
  {
   "cell_type": "code",
   "execution_count": 51,
   "id": "85ec7458",
   "metadata": {},
   "outputs": [
    {
     "data": {
      "text/plain": [
       "(None,\n",
       " array([ 0.025688, -0.233451, -0.096971, -0.20187 , -0.0677  ,  0.410727,\n",
       "        -0.082704,  0.275503,  0.354157,  0.520592,  0.193371,  0.137005,\n",
       "         0.227932, -0.352738, -0.097878,  0.008252], dtype=float32))"
      ]
     },
     "execution_count": 51,
     "metadata": {},
     "output_type": "execute_result"
    },
    {
     "data": {
      "image/png": "[encoded data removed]",
      "text/plain": [
       "<Figure size 432x216 with 1 Axes>"
      ]
     },
     "metadata": {
      "needs_background": "light"
     },
     "output_type": "display_data"
    }
   ],
   "source": [
    "_imshow(testset_features['edge_map'][..., query_index]), testset_features['features'][..., query_index]"
   ]
  },
  {
   "cell_type": "code",
   "execution_count": 52,
   "id": "3121e94e",
   "metadata": {},
   "outputs": [
    {
     "name": "stdout",
     "output_type": "stream",
     "text": [
      "points: (302, 2)\n",
      "line_segment_index: (151, 2)\n",
      "grid_points: (2204, 2)\n"
     ]
    }
   ],
   "source": [
    "_print_dictkeys_shape(worldcup_2014_mat)"
   ]
  },
  {
   "cell_type": "code",
   "execution_count": 53,
   "id": "43bc7015",
   "metadata": {},
   "outputs": [
    {
     "name": "stdout",
     "output_type": "stream",
     "text": [
      "edge_distances: (180, 320, 1, 186)\n",
      "edge_map: (720, 1280, 1, 186)\n",
      "features: (16, 186)\n"
     ]
    }
   ],
   "source": [
    "_print_dictkeys_shape(testset_features)"
   ]
  },
  {
   "cell_type": "markdown",
   "id": "f84c34e4",
   "metadata": {},
   "source": [
    "## Utils"
   ]
  },
  {
   "cell_type": "code",
   "execution_count": null,
   "id": "10c72e0e",
   "metadata": {
    "deletable": false,
    "editable": false,
    "run_control": {
     "frozen": true
    }
   },
   "outputs": [],
   "source": [
    "img = cv2.imread(f'{TOP_DIR}/data/16_edge_image.jpg')\n",
    "show_image(img)"
   ]
  },
  {
   "cell_type": "code",
   "execution_count": null,
   "id": "926924ee",
   "metadata": {
    "deletable": false,
    "editable": false,
    "run_control": {
     "frozen": true
    }
   },
   "outputs": [],
   "source": [
    "img = cv2.cvtColor(img, cv.COLOR_BGR2GRAY)\n",
    "show_image(img)"
   ]
  },
  {
   "cell_type": "code",
   "execution_count": null,
   "id": "e8db1aac",
   "metadata": {
    "deletable": false,
    "editable": false,
    "run_control": {
     "frozen": true
    }
   },
   "outputs": [],
   "source": [
    "_, binary_im = cv2.threshold(img, 10, 255, cv.THRESH_BINARY_INV)\n",
    "show_image(binary_im)"
   ]
  },
  {
   "cell_type": "code",
   "execution_count": null,
   "id": "5ac38b59",
   "metadata": {
    "deletable": false,
    "editable": false,
    "run_control": {
     "frozen": true
    }
   },
   "outputs": [],
   "source": [
    "dist_im = cv2.distanceTransform(binary_im, cv.DIST_L2, cv.DIST_MASK_PRECISE)\n",
    "dist_im[dist_im > 255] = 255\n",
    "dist_im = dist_im.astype(np.uint8)\n",
    "show_image(dist_im)"
   ]
  },
  {
   "cell_type": "code",
   "execution_count": null,
   "id": "a6953e28",
   "metadata": {
    "deletable": false,
    "editable": false,
    "run_control": {
     "frozen": true
    }
   },
   "outputs": [],
   "source": [
    "dist_im.max()"
   ]
  },
  {
   "cell_type": "code",
   "execution_count": null,
   "id": "aec19ab8",
   "metadata": {
    "deletable": false,
    "editable": false,
    "run_control": {
     "frozen": true
    }
   },
   "outputs": [],
   "source": [
    "train_sample_data = sio.loadmat('./worldcup_sampled_cameras.mat')"
   ]
  },
  {
   "cell_type": "code",
   "execution_count": null,
   "id": "23fca419",
   "metadata": {
    "deletable": false,
    "editable": false,
    "run_control": {
     "frozen": true
    }
   },
   "outputs": [],
   "source": [
    "train_sample_data.keys()"
   ]
  },
  {
   "cell_type": "code",
   "execution_count": null,
   "id": "25e16a94",
   "metadata": {
    "deletable": false,
    "editable": false,
    "run_control": {
     "frozen": true
    }
   },
   "outputs": [],
   "source": [
    "train_sample_data['pivot_cameras'].shape, train_sample_data['positive_cameras'].shape, train_sample_data['positive_ious'].shape"
   ]
  },
  {
   "cell_type": "code",
   "execution_count": null,
   "id": "6c69ec61",
   "metadata": {
    "deletable": false,
    "editable": false,
    "run_control": {
     "frozen": true
    }
   },
   "outputs": [],
   "source": [
    "for i in range(10000, 10100, 10):\n",
    "    pivot = train_sample_data['pivot_cameras'][i]\n",
    "    print(pivot.tolist())"
   ]
  },
  {
   "cell_type": "code",
   "execution_count": null,
   "id": "55cb0a85",
   "metadata": {
    "deletable": false,
    "editable": false,
    "run_control": {
     "frozen": true
    }
   },
   "outputs": [],
   "source": [
    "for i in range(10000, 10100, 10):\n",
    "    pivot = train_sample_data['positive_cameras'][i]\n",
    "    print(pivot.tolist())"
   ]
  },
  {
   "cell_type": "code",
   "execution_count": null,
   "id": "f7af24bd",
   "metadata": {
    "deletable": false,
    "editable": false,
    "run_control": {
     "frozen": true
    }
   },
   "outputs": [],
   "source": [
    "train_sample_data['positive_cameras'][0]"
   ]
  },
  {
   "cell_type": "markdown",
   "id": "c67f85b9",
   "metadata": {},
   "source": [
    "## Last\n",
    "\n",
    "\n",
    "$$\n",
    "(A @ B)^T = B^T @ A^T\n",
    "$$"
   ]
  },
  {
   "cell_type": "markdown",
   "id": "ad0862c0",
   "metadata": {},
   "source": [
    "### A"
   ]
  },
  {
   "cell_type": "code",
   "execution_count": 39,
   "id": "0d5fe3f2",
   "metadata": {
    "code_folding": []
   },
   "outputs": [],
   "source": [
    "class RotationUtil:\n",
    "    @staticmethod\n",
    "    def rotate_x_axis(angle):\n",
    "        \"\"\"\n",
    "        rotate coordinate with X axis\n",
    "        https://en.wikipedia.org/wiki/Rotation_matrix + transpose\n",
    "        http://mathworld.wolfram.com/RotationMatrix.html\n",
    "        :param angle: in degree\n",
    "        :return:\n",
    "        \"\"\"\n",
    "        angle = math.radians(angle)\n",
    "        s = math.sin(angle)\n",
    "        c = math.cos(angle)\n",
    "\n",
    "        r = np.asarray([[1, 0, 0],\n",
    "                        [0, c, -s],\n",
    "                        [0, s, c]])\n",
    "        r = np.transpose(r)\n",
    "        return r\n",
    "\n",
    "    @staticmethod\n",
    "    def rotate_y_axis(angle):\n",
    "        \"\"\"\n",
    "        rotate coordinate with X axis\n",
    "        :param angle:\n",
    "        :return:\n",
    "        \"\"\"\n",
    "        angle = math.radians(angle)\n",
    "        s = math.sin(angle)\n",
    "        c = math.cos(angle)\n",
    "\n",
    "        r = np.asarray([[c, 0, s],\n",
    "                        [0, 1, 0],\n",
    "                        [-s, 0, c]])\n",
    "        r = np.transpose(r)\n",
    "        return r\n",
    "\n",
    "    @staticmethod\n",
    "    def rotate_z_axis(angle):\n",
    "        \"\"\"\n",
    "\n",
    "        :param angle:\n",
    "        :return:\n",
    "        \"\"\"\n",
    "        angle = math.radians(angle)\n",
    "        s = math.sin(angle)\n",
    "        c = math.cos(angle)\n",
    "\n",
    "        r = np.asarray([[c, -s, 0],\n",
    "                        [s, c, 0],\n",
    "                        [0, 0, 1]])\n",
    "        r = np.transpose(r)\n",
    "        return r\n",
    "\n",
    "    @staticmethod\n",
    "    def pan_y_tilt_x(pan, tilt):\n",
    "        \"\"\"\n",
    "        Rotation matrix of first pan, then tilt\n",
    "        :param pan:\n",
    "        :param tilt:\n",
    "        :return:\n",
    "        \"\"\"\n",
    "        r_tilt = RotationUtil.rotate_x_axis(tilt)\n",
    "        r_pan = RotationUtil.rotate_y_axis(pan)\n",
    "        m = r_tilt @ r_pan\n",
    "        return m\n",
    "\n",
    "    #  rot_vec, _ = cv.Rodrigues(rotation)\n",
    "    @staticmethod\n",
    "    def rotation_matrix_to_Rodrigues(m):\n",
    "        assert m.shape[0] == 3 and m.shape[1] == 3\n",
    "        rot_vec, _ = cv.Rodrigues(m)\n",
    "        return rot_vec"
   ]
  },
  {
   "cell_type": "code",
   "execution_count": 40,
   "id": "f0e2f956",
   "metadata": {
    "code_folding": []
   },
   "outputs": [],
   "source": [
    "class ProjectiveCamera:\n",
    "    def __init__(self, fl, u, v, cc, rod_rot):\n",
    "        \"\"\"\n",
    "        :param fl:\n",
    "        :param u:\n",
    "        :param v:\n",
    "        :param cc:\n",
    "        :param rod_rot:\n",
    "        \"\"\"\n",
    "        self.K = np.zeros((3, 3)) # calibration matrix\n",
    "        self.camera_center = np.zeros(3)\n",
    "        self.rotation = np.zeros(3)\n",
    "\n",
    "        self.P = np.zeros((3, 4)) # projection matrix\n",
    "\n",
    "        self.set_calibration(fl, u, v)\n",
    "        self.set_camera_center(cc)\n",
    "        self.set_rotation(rod_rot)\n",
    "\n",
    "    def set_calibration(self, fl, u, v):\n",
    "        \"\"\"\n",
    "        :param fl:\n",
    "        :param u:\n",
    "        :param v:\n",
    "        :return:\n",
    "        \"\"\"\n",
    "        self.K = np.asarray([[fl, 0, u],\n",
    "                             [0, fl, v],\n",
    "                             [0, 0, 1]])\n",
    "        self._recompute_matrix()\n",
    "\n",
    "    def set_camera_center(self, cc):\n",
    "        assert cc.shape[0] == 3\n",
    "\n",
    "        self.camera_center[0] = cc[0]\n",
    "        self.camera_center[1] = cc[1]\n",
    "        self.camera_center[2] = cc[2]\n",
    "        self._recompute_matrix()\n",
    "\n",
    "    def set_rotation(self, rod_rot):\n",
    "        \"\"\"\n",
    "        :param rod_rot: Rodrigues vector\n",
    "        :return:\n",
    "        \"\"\"\n",
    "        assert rod_rot.shape[0] == 3\n",
    "\n",
    "        self.rotation[0] = rod_rot[0]\n",
    "        self.rotation[1] = rod_rot[1]\n",
    "        self.rotation[2] = rod_rot[2]\n",
    "        self._recompute_matrix()\n",
    "\n",
    "    def project_3d(self, x, y, z, w=1.0):\n",
    "        \"\"\"\n",
    "        :param x:\n",
    "        :param y:\n",
    "        :param z:\n",
    "        :return:\n",
    "        \"\"\"\n",
    "        p = np.zeros(4)\n",
    "        p[0],p[1],p[2], p[3] = x, y, z, w\n",
    "        q = self.P @ p\n",
    "        assert q[2] != 0.0\n",
    "        return (q[0]/q[2], q[1]/q[2])\n",
    "\n",
    "    def get_homography(self):\n",
    "        \"\"\"\n",
    "        homography matrix from the projection matrix\n",
    "        :return:\n",
    "        \"\"\"\n",
    "        h = self.P[:, [0, 1,3]]\n",
    "        return h\n",
    "\n",
    "\n",
    "    def _recompute_matrix(self):\n",
    "        \"\"\"\n",
    "        :return:\n",
    "        \"\"\"\n",
    "        P = np.zeros((3, 4))\n",
    "        for i in range(3):\n",
    "            P[i][i] = 1.0\n",
    "\n",
    "        for i in range(3):\n",
    "            P[i][3] = -self.camera_center[i]\n",
    "\n",
    "        r, _ = cv.Rodrigues(self.rotation)\n",
    "        #print(r)\n",
    "        #print('{} {} {}'.format(self.K.shape, r.shape, P.shape))\n",
    "        self.P = self.K @ r @ P"
   ]
  },
  {
   "cell_type": "code",
   "execution_count": 41,
   "id": "e1e3f139",
   "metadata": {
    "code_folding": []
   },
   "outputs": [],
   "source": [
    "class SyntheticUtil:\n",
    "    @staticmethod\n",
    "    def camera_to_edge_image(camera_data,\n",
    "                             model_points, model_line_segment,\n",
    "                             im_h=720, im_w=1280, line_width=4):\n",
    "        \"\"\"\n",
    "         Project (line) model images using the camera\n",
    "        :param camera_data: 9 numbers\n",
    "        :param model_points:\n",
    "        :param model_line_segment:\n",
    "        :param im_h: 720\n",
    "        :param im_w: 1280\n",
    "        :return: H * W * 3 OpenCV image\n",
    "        \"\"\"\n",
    "        assert camera_data.shape[0] == 9\n",
    "\n",
    "        u, v, fl = camera_data[0:3]\n",
    "        rod_rot = camera_data[3:6]\n",
    "        cc = camera_data[6:9]\n",
    "\n",
    "        camera = ProjectiveCamera(fl, u, v, cc, rod_rot)\n",
    "        im = np.zeros((im_h, im_w, 3), dtype=np.uint8)\n",
    "        n = model_line_segment.shape[0]\n",
    "        color = (255, 255, 255)\n",
    "        for i in range(n):\n",
    "            idx1, idx2 = model_line_segment[i][0], model_line_segment[i][1]\n",
    "            p1, p2 = model_points[idx1], model_points[idx2]\n",
    "            q1 = camera.project_3d(p1[0], p1[1], 0.0, 1.0)\n",
    "            q2 = camera.project_3d(p2[0], p2[1], 0.0, 1.0)\n",
    "            q1 = np.rint(q1).astype(np.int32)\n",
    "            q2 = np.rint(q2).astype(np.int32)\n",
    "            cv.line(im, tuple(q1), tuple(q2), color, thickness=line_width)\n",
    "        return im\n",
    "\n",
    "    @staticmethod\n",
    "    def distance_transform(img):\n",
    "        \"\"\"\n",
    "        :param img: OpenCV Image\n",
    "        :return:\n",
    "        \"\"\"\n",
    "        h, w, c = img.shape\n",
    "        if c == 3:\n",
    "            img = cv.cvtColor(img, cv.COLOR_BGR2GRAY)\n",
    "        else:\n",
    "            assert c == 1\n",
    "\n",
    "        _, binary_im = cv.threshold(img, 10, 255, cv.THRESH_BINARY_INV)\n",
    "\n",
    "        dist_im = cv.distanceTransform(\n",
    "            binary_im, cv.DIST_L2, cv.DIST_MASK_PRECISE)\n",
    "        return dist_im\n",
    "\n",
    "    @staticmethod\n",
    "    def find_transform(im_src, im_dst):\n",
    "        warp = np.eye(3, dtype=np.float32)\n",
    "        criteria = (cv.TERM_CRITERIA_EPS | cv.TERM_CRITERIA_COUNT, 50, 0.001)\n",
    "        # suggested by felibol\n",
    "        # https://github.com/lood339/SCCvSD/issues/8\n",
    "        try:\n",
    "            _, warp = cv.findTransformECC(\n",
    "                im_src, im_dst, warp, cv.MOTION_HOMOGRAPHY, criteria, None, 5)\n",
    "        except:\n",
    "            print('Warning: find transform failed. Set warp as identity')\n",
    "        return warp\n",
    "\n",
    "    @staticmethod\n",
    "    def generate_ptz_cameras(cc_statistics,\n",
    "                             fl_statistics,\n",
    "                             roll_statistics,\n",
    "                             pan_range, tilt_range,\n",
    "                             u, v,\n",
    "                             camera_num):\n",
    "        \"\"\"\n",
    "        Input: PTZ camera base information\n",
    "        Output: randomly sampled camera parameters\n",
    "        :param cc_statistics:\n",
    "        :param fl_statistics:\n",
    "        :param roll_statistics:\n",
    "        :param pan_range:\n",
    "        :param tilt_range:\n",
    "        :param u:\n",
    "        :param v:\n",
    "        :param camera_num:\n",
    "        :return: N * 9 cameras\n",
    "        \"\"\"\n",
    "        cc_mean, cc_std, cc_min, cc_max = cc_statistics\n",
    "        fl_mean, fl_std, fl_min, fl_max = fl_statistics\n",
    "        roll_mean, roll_std, roll_min, roll_max = roll_statistics\n",
    "        pan_min, pan_max = pan_range\n",
    "        tilt_min, tilt_max = tilt_range\n",
    "\n",
    "        # generate random values from the distribution\n",
    "        camera_centers = np.random.normal(cc_mean, cc_std, (camera_num, 3))\n",
    "        focal_lengths = np.random.normal(fl_mean, fl_std, (camera_num, 1))\n",
    "        rolls = np.random.normal(roll_mean, roll_std, (camera_num, 1))\n",
    "        pans = np.random.uniform(pan_min, pan_max, camera_num)\n",
    "        tilts = np.random.uniform(tilt_min, tilt_max, camera_num)\n",
    "\n",
    "        cameras = np.zeros((camera_num, 9))\n",
    "        for i in range(camera_num):\n",
    "            base_rotation = RotationUtil.rotate_y_axis(0) @ RotationUtil.rotate_x_axis(rolls[i]) @\\\n",
    "                RotationUtil.rotate_x_axis(-90)\n",
    "            pan_tilt_rotation = RotationUtil.pan_y_tilt_x(pans[i], tilts[i])\n",
    "            rotation = pan_tilt_rotation @ base_rotation\n",
    "            rot_vec, _ = cv.Rodrigues(rotation)\n",
    "\n",
    "            cameras[i][0], cameras[i][1] = u, v\n",
    "            cameras[i][2] = focal_lengths[i]\n",
    "            cameras[i][3], cameras[i][4], cameras[i][5] = rot_vec[0], rot_vec[1], rot_vec[2]\n",
    "            cameras[i][6], cameras[i][7], cameras[i][8] = camera_centers[i][0], camera_centers[i][1], camera_centers[i][2]\n",
    "        return cameras\n",
    "\n",
    "    @staticmethod\n",
    "    def sample_positive_pair(pp, cc, base_roll, pan, tilt, fl,\n",
    "                             pan_std, tilt_std, fl_std):\n",
    "        \"\"\"\n",
    "        Sample a camera that has similar pan-tilt-zoom with (pan, tilt, fl).\n",
    "        The pair of the camera will be used a positive-pair in the training\n",
    "        :param pp: [u, v]\n",
    "        :param cc: camera center\n",
    "        :param base_roll: camera base, roll angle\n",
    "        :param pan:\n",
    "        :param tilt:\n",
    "        :param fl:\n",
    "        :param pan_std:\n",
    "        :param tilt_std:\n",
    "        :param fl_std:\n",
    "        :return:\n",
    "        \"\"\"\n",
    "\n",
    "        def get_nearby_data(d, std):\n",
    "            assert std > 0\n",
    "            delta = np.random.uniform(-0.5, 0.5, 1) * std\n",
    "            return d + delta\n",
    "\n",
    "        pan = get_nearby_data(pan, pan_std)\n",
    "        tilt = get_nearby_data(tilt, tilt_std)\n",
    "        fl = get_nearby_data(fl, fl_std)\n",
    "\n",
    "        camera = np.zeros(9)\n",
    "        camera[0] = pp[0]\n",
    "        camera[1] = pp[1]\n",
    "        camera[2] = fl\n",
    "\n",
    "        base_rotation = RotationUtil.rotate_y_axis(0) @ RotationUtil.rotate_y_axis(base_roll) @\\\n",
    "            RotationUtil.rotate_x_axis(-90)\n",
    "        pan_tilt_rotation = RotationUtil.pan_y_tilt_x(pan, tilt)\n",
    "        rotation = pan_tilt_rotation @ base_rotation\n",
    "        rot_vec = RotationUtil.rotation_matrix_to_Rodrigues(rotation)\n",
    "        camera[3: 6] = rot_vec.squeeze()\n",
    "        camera[6: 9] = cc\n",
    "        return camera\n",
    "\n",
    "    @staticmethod\n",
    "    def generate_database_images(pivot_cameras, positive_cameras,\n",
    "                                 model_points, model_line_segment):\n",
    "        \"\"\"\n",
    "        Default size 180 x 320 (h x w)\n",
    "        Generate database image for siamese network training\n",
    "        :param pivot_cameras:\n",
    "        :param positive_cameras:\n",
    "        :return:\n",
    "        \"\"\"\n",
    "        n = pivot_cameras.shape[0]\n",
    "        assert n == positive_cameras.shape[0]\n",
    "\n",
    "        # N x 1 x H x W pivot images\n",
    "        # N x 1 x H x w positive image\n",
    "        # negative pairs are randomly selected\n",
    "        im_h, im_w = 180, 320\n",
    "        pivot_images = np.zeros((n, 1, im_h, im_w), dtype=np.uint8)\n",
    "        positive_images = np.zeros((n, 1, im_h, im_w), dtype=np.uint8)\n",
    "\n",
    "        for i in range(n):\n",
    "            piv_cam = pivot_cameras[i, :]\n",
    "            pos_cam = positive_cameras[i, :]\n",
    "\n",
    "            piv_im = SyntheticUtil.camera_to_edge_image(\n",
    "                piv_cam, model_points, model_line_segment, 720, 1280, 4)\n",
    "            pos_im = SyntheticUtil.camera_to_edge_image(\n",
    "                pos_cam, model_points, model_line_segment, 720, 1280, 4)\n",
    "\n",
    "            # to a smaller image\n",
    "            piv_im = cv.resize(piv_im, (im_w, im_h))\n",
    "            pos_im = cv.resize(pos_im, (im_w, im_h))\n",
    "\n",
    "            # to a gray image\n",
    "            piv_im = cv.cvtColor(piv_im, cv.COLOR_BGR2GRAY)\n",
    "            pos_im = cv.cvtColor(pos_im, cv.COLOR_RGB2GRAY)\n",
    "\n",
    "            pivot_images[i, 0, :, :] = piv_im\n",
    "            positive_images[i, 0, :, :] = pos_im\n",
    "\n",
    "        return (pivot_images, positive_images)"
   ]
  },
  {
   "cell_type": "code",
   "execution_count": 42,
   "id": "b5f3f471",
   "metadata": {
    "code_folding": []
   },
   "outputs": [],
   "source": [
    "# C\n",
    "def ut_camera_to_edge_image():\n",
    "    import scipy.io as sio\n",
    "    # this camera is from UoT world cup dataset, train, index 16\n",
    "    camera_data = np.asarray([640, 360, 3081.976880,\n",
    "                              1.746393, -0.321347, 0.266827,\n",
    "                              52.816224, -54.753716, 19.960425])\n",
    "    data = sio.loadmat(f'{TOP_DIR}/data/worldcup2014.mat')\n",
    "    model_points = data['points']\n",
    "    model_line_index = data['line_segment_index']\n",
    "    im = SyntheticUtil.camera_to_edge_image(\n",
    "        camera_data, model_points, model_line_index, 720, 1280, line_width=4)\n",
    "    return im\n",
    "\n",
    "\n",
    "def ut_generate_ptz_cameras():\n",
    "    \"\"\"\n",
    "    Generate PTZ camera demo:  Section 3.1\n",
    "    \"\"\"\n",
    "    import scipy.io as sio\n",
    "    data = sio.loadmat('../../data/worldcup_dataset_camera_parameter.mat')\n",
    "    print(data.keys())\n",
    "\n",
    "    cc_mean = data['cc_mean']\n",
    "    cc_std = data['cc_std']\n",
    "    cc_min = data['cc_min']\n",
    "    cc_max = data['cc_max']\n",
    "    cc_statistics = [cc_mean, cc_std, cc_min, cc_max]\n",
    "\n",
    "    fl_mean = data['fl_mean']\n",
    "    fl_std = data['fl_std']\n",
    "    fl_min = data['fl_min']\n",
    "    fl_max = data['fl_max']\n",
    "    fl_statistics = [fl_mean, fl_std, fl_min, fl_max]\n",
    "    roll_statistics = [0, 0.2, -1.0, 1.0]\n",
    "\n",
    "    pan_range = [-35.0, 35.0]\n",
    "    tilt_range = [-15.0, -5.0]\n",
    "    num_camera = 10\n",
    "\n",
    "    cameras = SyntheticUtil.generate_ptz_cameras(cc_statistics,\n",
    "                                                 fl_statistics,\n",
    "                                                 roll_statistics,\n",
    "                                                 pan_range, tilt_range,\n",
    "                                                 1280/2.0, 720/2.0,\n",
    "                                                 num_camera)\n",
    "\n",
    "    data = sio.loadmat('../../data/worldcup2014.mat')\n",
    "    model_points = data['points']\n",
    "    model_line_index = data['line_segment_index']\n",
    "    for i in range(num_camera):\n",
    "        cam = cameras[i]\n",
    "        print(cam[0:3])\n",
    "        im = SyntheticUtil.camera_to_edge_image(\n",
    "            cam, model_points, model_line_index, 720, 1280, line_width=4)\n",
    "        print(im.shape)\n",
    "        cv.imshow('image from camera', im)\n",
    "        cv.waitKey(1000)\n",
    "    cv.destroyAllWindows()\n",
    "\n",
    "\n",
    "def ut_sample_positive_pair():\n",
    "    \"\"\"\n",
    "    def sample_positive_pair(pp, cc, base_roll, pan, tilt, fl,\n",
    "                             pan_std, tilt_std, fl_std):\n",
    "    \"\"\"\n",
    "    import scipy.io as sio\n",
    "    data = sio.loadmat('../../data/worldcup_dataset_camera_parameter.mat')\n",
    "    cc_mean = data['cc_mean']\n",
    "\n",
    "    pp = np.asarray([1280.0/2, 720.0/2])\n",
    "    cc = cc_mean\n",
    "    base_roll = np.random.uniform(-0.5, 0.5)\n",
    "    pan = 10.0\n",
    "    tilt = -10.0\n",
    "    fl = 3800\n",
    "    pan_std = 1.5\n",
    "    tilt_std = 0.75\n",
    "    fl_std = 30\n",
    "\n",
    "    camera = np.zeros(9)\n",
    "    camera[0] = 640.000000\n",
    "    camera[1] = 360.000000\n",
    "    camera[2] = fl\n",
    "\n",
    "    base_rotation = RotationUtil.rotate_y_axis(0) @ \\\n",
    "        RotationUtil.rotate_z_axis(base_roll) @ \\\n",
    "        RotationUtil.rotate_x_axis(-90)\n",
    "    pan_tilt_rotation = RotationUtil.pan_y_tilt_x(pan, tilt)\n",
    "    rotation = pan_tilt_rotation @ base_rotation\n",
    "    rot_vec, _ = cv.Rodrigues(rotation)\n",
    "    camera[3: 6] = rot_vec.squeeze()\n",
    "    camera[6: 9] = cc\n",
    "\n",
    "    pivot = camera\n",
    "\n",
    "    positive = SyntheticUtil.sample_positive_pair(pp, cc, base_roll, pan, tilt, fl,\n",
    "                                                  pan_std, tilt_std, fl_std)\n",
    "\n",
    "    data = sio.loadmat('../../data/worldcup2014.mat')\n",
    "    print(data.keys())\n",
    "    model_points = data['points']\n",
    "    model_line_index = data['line_segment_index']\n",
    "\n",
    "    im1 = SyntheticUtil.camera_to_edge_image(\n",
    "        pivot, model_points, model_line_index, 720, 1280)\n",
    "    im2 = SyntheticUtil.camera_to_edge_image(\n",
    "        positive, model_points, model_line_index, 720, 1280)\n",
    "    cv.imshow(\"pivot\", im1)\n",
    "    cv.imshow(\"positive\", im2)\n",
    "    cv.waitKey(5000)\n",
    "\n",
    "\n",
    "def ut_generate_database_images():\n",
    "    import scipy.io as sio\n",
    "    data = sio.loadmat('../../data/worldcup_sampled_cameras.mat')\n",
    "    pivot_cameras = data['pivot_cameras']\n",
    "    positive_cameras = data['positive_cameras']\n",
    "\n",
    "    n = 10000\n",
    "    pivot_cameras = pivot_cameras[0:n, :]\n",
    "    positive_cameras = positive_cameras[0:n, :]\n",
    "\n",
    "    data = sio.loadmat('../../data/worldcup2014.mat')\n",
    "    print(data.keys())\n",
    "    model_points = data['points']\n",
    "    model_line_index = data['line_segment_index']\n",
    "\n",
    "    pivot_images, positive_images = SyntheticUtil.generate_database_images(pivot_cameras, positive_cameras,\n",
    "                                                                           model_points, model_line_index)\n",
    "\n",
    "    # print('{} {}'.format(pivot_images.shape, positive_images.shape))\n",
    "    sio.savemat('train_data_10k.mat', {'pivot_images': pivot_images,\n",
    "                                       'positive_images': positive_images,\n",
    "                                       'cameras': pivot_cameras})\n",
    "\n",
    "\n",
    "def ut_distance_transform():\n",
    "    im = cv.imread('../../data/16_edge_image.jpg')\n",
    "    dist_im = SyntheticUtil.distance_transform(im)\n",
    "\n",
    "    dist_im[dist_im > 255] = 255\n",
    "    dist_im = dist_im.astype(np.uint8)\n",
    "    cv.imshow('distance image', dist_im)\n",
    "    cv.waitKey()"
   ]
  },
  {
   "cell_type": "markdown",
   "id": "093ff2ce",
   "metadata": {},
   "source": [
    "## Referencs"
   ]
  },
  {
   "cell_type": "markdown",
   "id": "c903fd47",
   "metadata": {},
   "source": [
    "- https://wikiless.org/wiki/Rotation_matrix?lang=en\n",
    "- https://nhoma.github.io/ \"数据集\"\n",
    "- https://github.com/lood339/SCCvSD/\n",
    "- [Dissecting the Camera Matrix, Part 2: The Extrinsic Matrix][1]\n",
    "\n",
    "[1]: https://ksimek.github.io/2012/08/22/extrinsic/"
   ]
  },
  {
   "cell_type": "markdown",
   "id": "821ed9ff",
   "metadata": {},
   "source": [
    "## B"
   ]
  },
  {
   "cell_type": "code",
   "execution_count": null,
   "id": "281648cf",
   "metadata": {},
   "outputs": [],
   "source": []
  }
 ],
 "metadata": {
  "hide_input": false,
  "kernelspec": {
   "display_name": "Python 3 (ipykernel)",
   "language": "python",
   "name": "python3"
  },
  "language_info": {
   "codemirror_mode": {
    "name": "ipython",
    "version": 3
   },
   "file_extension": ".py",
   "mimetype": "text/x-python",
   "name": "python",
   "nbconvert_exporter": "python",
   "pygments_lexer": "ipython3",
   "version": "3.8.10"
  },
  "toc": {
   "base_numbering": 1,
   "nav_menu": {},
   "number_sections": true,
   "sideBar": false,
   "skip_h1_title": true,
   "title_cell": "Contents",
   "title_sidebar": "Contents",
   "toc_cell": false,
   "toc_position": {
    "height": "586.688px",
    "left": "1614.19px",
    "top": "111.125px",
    "width": "159px"
   },
   "toc_section_display": true,
   "toc_window_display": true
  }
 },
 "nbformat": 4,
 "nbformat_minor": 5
}
