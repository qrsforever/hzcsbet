{
 "cells": [
  {
   "cell_type": "markdown",
   "id": "bfafe864-be2e-464f-a5fd-6da6fdfa0875",
   "metadata": {},
   "source": [
    "## Import Libs"
   ]
  },
  {
   "cell_type": "code",
   "execution_count": 42,
   "id": "67f00306-6d21-421c-bf55-e1732672d346",
   "metadata": {
    "execution": {
     "iopub.execute_input": "2024-01-18T14:46:54.624248Z",
     "iopub.status.busy": "2024-01-18T14:46:54.623411Z",
     "iopub.status.idle": "2024-01-18T14:47:00.423852Z",
     "shell.execute_reply": "2024-01-18T14:47:00.422048Z",
     "shell.execute_reply.started": "2024-01-18T14:46:54.624191Z"
    }
   },
   "outputs": [],
   "source": [
    "# Bytetrack Needed\n",
    "!$PIP_INSTALL -qq loguru thop lap tqdm"
   ]
  },
  {
   "cell_type": "code",
   "execution_count": 47,
   "id": "a9c2fee6",
   "metadata": {
    "editable": true,
    "execution": {
     "iopub.execute_input": "2024-01-18T14:48:52.989729Z",
     "iopub.status.busy": "2024-01-18T14:48:52.988882Z",
     "iopub.status.idle": "2024-01-18T14:48:53.564076Z",
     "shell.execute_reply": "2024-01-18T14:48:53.562769Z",
     "shell.execute_reply.started": "2024-01-18T14:48:52.989679Z"
    },
    "slideshow": {
     "slide_type": ""
    },
    "tags": []
   },
   "outputs": [
    {
     "name": "stdout",
     "output_type": "stream",
     "text": [
      "jupyterlab: 4.0.10\n",
      "ipykernel : 6.29.0\n",
      "IPython   : 8.20.0\n",
      "\n",
      "numpy  : 1.26.3\n",
      "sklearn: 1.3.2\n",
      "pandas : 2.1.4\n",
      "\n",
      "ipywidgets: 8.1.1\n",
      "cv2       : 4.9.0\n",
      "PIL       : 10.2.0\n",
      "matplotlib: 3.8.2\n",
      "plotly    : 5.18.0\n",
      "netron    : 7.3.8\n",
      "\n",
      "torch      : 2.1.1+cu121\n",
      "torchvision: 0.16.1+cu121\n",
      "torchaudio : 2.1.1+cu121\n",
      "\n"
     ]
    }
   ],
   "source": [
    "%reload_ext watermark\n",
    "%reload_ext autoreload\n",
    "%autoreload 2\n",
    "%watermark -p jupyterlab,ipykernel,IPython\n",
    "%watermark -p numpy,sklearn,pandas\n",
    "%watermark -p ipywidgets,cv2,PIL,matplotlib,plotly,netron\n",
    "%watermark -p torch,torchvision,torchaudio\n",
    "\n",
    "%matplotlib inline\n",
    "# %matplotlib widget\n",
    "\n",
    "import sys, os, io, logging, time, random, math\n",
    "import json, base64, requests, shutil, gc\n",
    "import argparse, shlex, signal\n",
    "import numpy as np\n",
    "import cv2\n",
    "import torch\n",
    "import matplotlib.pyplot as plt\n",
    "from tqdm import tqdm\n",
    "from dataclasses import dataclass\n",
    "from cython_bbox import bbox_overlaps as bbox_ious\n",
    "\n",
    "np.set_printoptions(\n",
    "    edgeitems=3, infstr='inf',\n",
    "    linewidth=75, nanstr='nan', precision=6,\n",
    "    suppress=True, threshold=100, formatter=None)\n",
    "\n",
    "\n",
    "def _DIR(x, dumps=True, ret=True):\n",
    "    attrs = sorted([y for y in dir(x) if not y.startswith('_')])\n",
    "    result = '%s: %s' % (str(type(x))[8:-2], json.dumps(attrs) if dumps else attrs)\n",
    "    if ret:\n",
    "        return result"
   ]
  },
  {
   "cell_type": "markdown",
   "id": "4558f72d-8b11-4fd5-801d-4a58dbcf0802",
   "metadata": {},
   "source": [
    "## Global Setting"
   ]
  },
  {
   "cell_type": "code",
   "execution_count": 38,
   "id": "47c827ad-8782-402b-b73b-a329503e9b67",
   "metadata": {
    "execution": {
     "iopub.execute_input": "2024-01-18T14:31:25.934381Z",
     "iopub.status.busy": "2024-01-18T14:31:25.933568Z",
     "iopub.status.idle": "2024-01-18T14:31:26.235587Z",
     "shell.execute_reply": "2024-01-18T14:31:26.234056Z",
     "shell.execute_reply.started": "2024-01-18T14:31:25.934328Z"
    }
   },
   "outputs": [],
   "source": [
    "PROJ_TOP_PATH = '/data/hzcsai_com/hzcsbet'\n",
    "DATASETS_PATH = f'{PROJ_TOP_PATH}/gamebet/datasets'\n",
    "EXTERNAL_LIBS_PATH = f'{PROJ_TOP_PATH}/gamebet/thirdparts'\n",
    "TEST_VIDEO_PATH = f'{DATASETS_PATH}/0bfacc_5.mp4'\n",
    "TEST_OUTPUT_PATH = f'{DATASETS_PATH}/track_output.mp4'\n",
    "YOLO_WEIGHTS_PATH = f'{PROJ_TOP_PATH}/gamebet/checkpoints/gamebet_yolov8x.pt'\n",
    "\n",
    "sys.path.append(f'{EXTERNAL_LIBS_PATH}/ByteTrack')\n",
    "sys.path.append(f'{EXTERNAL_LIBS_PATH}/ultralytics')"
   ]
  },
  {
   "cell_type": "code",
   "execution_count": 4,
   "id": "f3dab4e5-054e-4b00-ad48-b278bffd51ee",
   "metadata": {
    "execution": {
     "iopub.execute_input": "2024-01-18T14:10:01.237559Z",
     "iopub.status.busy": "2024-01-18T14:10:01.236691Z",
     "iopub.status.idle": "2024-01-18T14:10:01.936105Z",
     "shell.execute_reply": "2024-01-18T14:10:01.934806Z",
     "shell.execute_reply.started": "2024-01-18T14:10:01.237503Z"
    }
   },
   "outputs": [],
   "source": [
    "from yolox.tracker.byte_tracker import BYTETracker, STrack\n",
    "from ultralytics import YOLO"
   ]
  },
  {
   "cell_type": "code",
   "execution_count": 5,
   "id": "2f5a80f7-b5a7-4afe-8fb5-8d7bc34feaee",
   "metadata": {
    "execution": {
     "iopub.execute_input": "2024-01-18T14:10:02.539032Z",
     "iopub.status.busy": "2024-01-18T14:10:02.538201Z",
     "iopub.status.idle": "2024-01-18T14:10:02.607531Z",
     "shell.execute_reply": "2024-01-18T14:10:02.606068Z",
     "shell.execute_reply.started": "2024-01-18T14:10:02.538973Z"
    }
   },
   "outputs": [],
   "source": [
    "IND_TO_CLS = {\n",
    "    0: \"ball\",\n",
    "    1: \"player\",\n",
    "    2: \"referee\",\n",
    "    3: \"goalkeeper\",\n",
    "}\n",
    "\n",
    "COLORS = {\n",
    "    \"ball\": (0, 200, 200),\n",
    "    \"player\": (255, 0, 0),\n",
    "    \"goalkeeper\": (255, 0, 255),\n",
    "    \"referee\": (0, 0, 255),\n",
    "}"
   ]
  },
  {
   "cell_type": "markdown",
   "id": "693fa763-a1f8-4856-97f6-d36e509ca7a7",
   "metadata": {},
   "source": [
    "## Yolov8"
   ]
  },
  {
   "cell_type": "code",
   "execution_count": 24,
   "id": "8bcaa8e3-3822-4c51-b615-7bd5ab5c40e4",
   "metadata": {
    "execution": {
     "iopub.execute_input": "2024-01-18T14:18:54.695214Z",
     "iopub.status.busy": "2024-01-18T14:18:54.694320Z",
     "iopub.status.idle": "2024-01-18T14:18:54.771193Z",
     "shell.execute_reply": "2024-01-18T14:18:54.769767Z",
     "shell.execute_reply.started": "2024-01-18T14:18:54.695151Z"
    }
   },
   "outputs": [],
   "source": [
    "def get_video_frames(video_path):\n",
    "    video = cv2.VideoCapture(video_path)\n",
    "    print('width: %d, height: %d, fps: %d, count: %d' % (\n",
    "        video.get(cv2.CAP_PROP_FRAME_WIDTH),\n",
    "        video.get(cv2.CAP_PROP_FRAME_HEIGHT),\n",
    "        video.get(cv2.CAP_PROP_FPS),\n",
    "        video.get(cv2.CAP_PROP_FRAME_COUNT)))\n",
    "    frames = []\n",
    "    while video.isOpened():\n",
    "        success, frame = video.read()\n",
    "        if not success:\n",
    "            break\n",
    "        frames.append(frame)\n",
    "    video.release()\n",
    "    return frames\n",
    "\n",
    "\n",
    "def draw_detections(image, detections, draw_tacker_id: bool = False):\n",
    "    image = image.copy()\n",
    "    for pred in detections:\n",
    "        bbox = pred.boxes.xyxy.int().tolist()[0]\n",
    "        cls_ind = pred.boxes.cls.int().item()\n",
    "        cls = IND_TO_CLS[cls_ind]\n",
    "        cv2.rectangle(img=image, pt1=tuple(bbox[:2]), pt2=tuple(bbox[2:]), color=COLORS[cls], thickness=3)\n",
    "        if draw_tacker_id:\n",
    "            cv2.putText(image, str(pred.tracker_id), (bbox[0], bbox[1]-10), cv2.FONT_HERSHEY_SIMPLEX, 0.9, COLORS[cls], 3)\n",
    "        else:\n",
    "            cv2.putText(image, cls, (bbox[0], bbox[1]-10), cv2.FONT_HERSHEY_SIMPLEX, 0.9, COLORS[cls], 3)\n",
    "\n",
    "    return image"
   ]
  },
  {
   "cell_type": "code",
   "execution_count": 9,
   "id": "adadf6dc-df93-4089-b623-6a540d905d1f",
   "metadata": {
    "execution": {
     "iopub.execute_input": "2024-01-18T14:10:26.944447Z",
     "iopub.status.busy": "2024-01-18T14:10:26.943648Z",
     "iopub.status.idle": "2024-01-18T14:10:40.422908Z",
     "shell.execute_reply": "2024-01-18T14:10:40.421490Z",
     "shell.execute_reply.started": "2024-01-18T14:10:26.944392Z"
    }
   },
   "outputs": [
    {
     "name": "stdout",
     "output_type": "stream",
     "text": [
      "width: 1920, height: 1080, fps: 25, count: 750\n"
     ]
    },
    {
     "data": {
      "text/plain": [
       "750"
      ]
     },
     "execution_count": 9,
     "metadata": {},
     "output_type": "execute_result"
    }
   ],
   "source": [
    "test_frames = get_video_frames(TEST_VIDEO_PATH)\n",
    "len(test_frames)"
   ]
  },
  {
   "cell_type": "code",
   "execution_count": 10,
   "id": "e10babe6-fe9d-439a-9522-c93396b9564d",
   "metadata": {
    "execution": {
     "iopub.execute_input": "2024-01-18T14:11:02.623598Z",
     "iopub.status.busy": "2024-01-18T14:11:02.622699Z",
     "iopub.status.idle": "2024-01-18T14:11:03.182718Z",
     "shell.execute_reply": "2024-01-18T14:11:03.181381Z",
     "shell.execute_reply.started": "2024-01-18T14:11:02.623549Z"
    }
   },
   "outputs": [],
   "source": [
    "yolo_model = YOLO(YOLO_WEIGHTS_PATH)"
   ]
  },
  {
   "cell_type": "code",
   "execution_count": 46,
   "id": "3fa9b92f-5781-48df-b894-1a8987cae4a8",
   "metadata": {
    "execution": {
     "iopub.execute_input": "2024-01-18T14:48:11.089092Z",
     "iopub.status.busy": "2024-01-18T14:48:11.088332Z",
     "iopub.status.idle": "2024-01-18T14:48:11.583376Z",
     "shell.execute_reply": "2024-01-18T14:48:11.570461Z",
     "shell.execute_reply.started": "2024-01-18T14:48:11.089039Z"
    }
   },
   "outputs": [
    {
     "name": "stdout",
     "output_type": "stream",
     "text": [
      "\n",
      "0: 384x640 19 players, 2 referees, 28.0ms\n",
      "Speed: 14.6ms preprocess, 28.0ms inference, 3.5ms postprocess per image at shape (1, 3, 384, 640)\n"
     ]
    }
   ],
   "source": [
    "test_0_prediction = yolo_model(test_frames[0], conf=0.15)"
   ]
  },
  {
   "cell_type": "code",
   "execution_count": 57,
   "id": "f46d1cd3-c5fa-4686-b774-10558fd50559",
   "metadata": {
    "execution": {
     "iopub.execute_input": "2024-01-18T15:04:53.240693Z",
     "iopub.status.busy": "2024-01-18T15:04:53.239882Z",
     "iopub.status.idle": "2024-01-18T15:04:53.725997Z",
     "shell.execute_reply": "2024-01-18T15:04:53.724564Z",
     "shell.execute_reply.started": "2024-01-18T15:04:53.240630Z"
    }
   },
   "outputs": [],
   "source": [
    "# image = draw_detections(test_frames[0], test_0_prediction[0])\n",
    "# \n",
    "# plt.figure(figsize=(20, 20))\n",
    "# plt.imshow(cv2.cvtColor(image, cv2.COLOR_BGR2RGB))\n",
    "# plt.grid(False)\n",
    "# plt.show()"
   ]
  },
  {
   "cell_type": "code",
   "execution_count": 86,
   "id": "1303009b-fbbb-4bf5-bfb1-f24b01574bd5",
   "metadata": {
    "execution": {
     "iopub.execute_input": "2024-01-18T14:09:08.860302Z",
     "iopub.status.busy": "2024-01-18T14:09:08.859172Z",
     "iopub.status.idle": "2024-01-18T14:09:10.982728Z",
     "shell.execute_reply": "2024-01-18T14:09:10.980945Z",
     "shell.execute_reply.started": "2024-01-18T14:09:08.860241Z"
    }
   },
   "outputs": [],
   "source": [
    "yolo_model = None\n",
    "gc.collect()\n",
    "torch.cuda.empty_cache()"
   ]
  },
  {
   "cell_type": "markdown",
   "id": "8e008de9-7525-40e1-9b19-a83419daa83f",
   "metadata": {},
   "source": [
    "## ByteTrack"
   ]
  },
  {
   "cell_type": "code",
   "execution_count": 52,
   "id": "c3f00ec0-87e1-4589-8493-cce023247517",
   "metadata": {
    "execution": {
     "iopub.execute_input": "2024-01-18T14:52:38.524841Z",
     "iopub.status.busy": "2024-01-18T14:52:38.523985Z",
     "iopub.status.idle": "2024-01-18T14:52:39.007272Z",
     "shell.execute_reply": "2024-01-18T14:52:39.005929Z",
     "shell.execute_reply.started": "2024-01-18T14:52:38.524776Z"
    }
   },
   "outputs": [],
   "source": [
    "@dataclass(frozen=True)\n",
    "class BYTETrackerArgs:\n",
    "    track_thresh: float = 0.25\n",
    "    track_buffer: int = 25\n",
    "    match_thresh: float = 0.8\n",
    "    aspect_ratio_thresh: float = 3.0\n",
    "    min_box_area: float = 1.0\n",
    "    mot20: bool = False\n",
    "\n",
    "\n",
    "def get_video_writer(output_video_path, fps, width, height):\n",
    "    return cv2.VideoWriter(\n",
    "        output_video_path,\n",
    "        fourcc=cv2.VideoWriter_fourcc(*\"mp4v\"),\n",
    "        fps=fps,\n",
    "        frameSize=(width, height),\n",
    "        isColor=True\n",
    "    )\n",
    "\n",
    "\n",
    "def box_iou_batch(atlbrs, btlbrs):\n",
    "    ious = np.zeros((len(atlbrs), len(btlbrs)), dtype=float)\n",
    "    if ious.size == 0:\n",
    "        return ious\n",
    "\n",
    "    ious = bbox_ious(\n",
    "        np.ascontiguousarray(atlbrs, dtype=float),\n",
    "        np.ascontiguousarray(btlbrs, dtype=float)\n",
    "    )\n",
    "\n",
    "    return ious\n",
    "\n",
    "\n",
    "def format_predictions(predictions, with_conf: bool = True):\n",
    "    frame_detections = []\n",
    "    for pred in predictions:\n",
    "        bbox = pred.boxes.xyxy.int().tolist()[0]\n",
    "        conf = pred.boxes.conf.item()\n",
    "        if with_conf:\n",
    "            detection = bbox + [conf]\n",
    "        else:\n",
    "            detection = bbox\n",
    "\n",
    "        frame_detections.append(detection)\n",
    "    return np.array(frame_detections, dtype=float)\n",
    "\n",
    "\n",
    "def match_detections_with_tracks(detections, tracks):\n",
    "    detections_bboxes = format_predictions(detections, with_conf=False)\n",
    "    tracks_bboxes = np.array([track.tlbr for track in tracks], dtype=float)\n",
    "    iou = box_iou_batch(tracks_bboxes, detections_bboxes)\n",
    "    track2detection = np.argmax(iou, axis=1)\n",
    "\n",
    "    for tracker_index, detection_index in enumerate(track2detection):\n",
    "        if iou[tracker_index, detection_index] != 0:\n",
    "            detections[detection_index].tracker_id = tracks[tracker_index].track_id\n",
    "    return detections\n"
   ]
  },
  {
   "cell_type": "code",
   "execution_count": 55,
   "id": "e2da903a-af94-4784-941c-a9dae252ba6c",
   "metadata": {
    "execution": {
     "iopub.execute_input": "2024-01-18T14:53:03.286249Z",
     "iopub.status.busy": "2024-01-18T14:53:03.285426Z",
     "iopub.status.idle": "2024-01-18T14:53:03.752936Z",
     "shell.execute_reply": "2024-01-18T14:53:03.751602Z",
     "shell.execute_reply.started": "2024-01-18T14:53:03.286194Z"
    }
   },
   "outputs": [],
   "source": [
    "byte_tracker = BYTETracker(BYTETrackerArgs)\n",
    "video_writer = get_video_writer(TEST_OUTPUT_PATH, 25, 1920, 1080)"
   ]
  },
  {
   "cell_type": "code",
   "execution_count": 56,
   "id": "8358410b-a63a-4d68-a99f-f2a6b73deb95",
   "metadata": {
    "execution": {
     "iopub.execute_input": "2024-01-18T14:53:05.597158Z",
     "iopub.status.busy": "2024-01-18T14:53:05.596376Z",
     "iopub.status.idle": "2024-01-18T14:54:41.652479Z",
     "shell.execute_reply": "2024-01-18T14:54:41.650958Z",
     "shell.execute_reply.started": "2024-01-18T14:53:05.597105Z"
    }
   },
   "outputs": [
    {
     "name": "stderr",
     "output_type": "stream",
     "text": [
      "100% 750/750 [01:35<00:00,  7.85it/s]\n"
     ]
    }
   ],
   "source": [
    "for frame in tqdm(test_frames):\n",
    "    detections = yolo_model(frame, conf=0.15, verbose=False)[0]\n",
    "\n",
    "    detections_with_tracker = []\n",
    "    for detection in detections:\n",
    "        detection.tracker_id = \"\"\n",
    "        detections_with_tracker.append(detection)\n",
    "\n",
    "    tracks = byte_tracker.update(\n",
    "        output_results=format_predictions(detections_with_tracker, with_conf=True),\n",
    "        img_info=frame.shape,\n",
    "        img_size=frame.shape\n",
    "    )\n",
    "    detections_with_tracker = match_detections_with_tracks(detections_with_tracker, tracks)\n",
    "    image = draw_detections(frame, detections_with_tracker, True)\n",
    "    video_writer.write(image)\n",
    "\n",
    "video_writer.release()"
   ]
  },
  {
   "cell_type": "markdown",
   "id": "3ce5eeec-7f7e-4673-9809-1186d05258ea",
   "metadata": {},
   "source": [
    "## References"
   ]
  },
  {
   "cell_type": "markdown",
   "id": "cbbc6012-57a0-452c-88ab-d8bd64e77390",
   "metadata": {
    "execution": {
     "iopub.execute_input": "2024-01-18T10:07:45.567755Z",
     "iopub.status.busy": "2024-01-18T10:07:45.566877Z",
     "iopub.status.idle": "2024-01-18T10:07:47.111249Z",
     "shell.execute_reply": "2024-01-18T10:07:47.109708Z",
     "shell.execute_reply.started": "2024-01-18T10:07:45.567697Z"
    }
   },
   "source": [
    "### CUDA out of memory\n",
    "\n",
    "```python\n",
    "yolo_model = None\n",
    "import gc\n",
    "gc.collect()\n",
    "torch.cuda.empty_cache()\n",
    "```"
   ]
  },
  {
   "cell_type": "code",
   "execution_count": null,
   "id": "ea1f6ce2-1506-4f58-a646-5ad6c3642c2b",
   "metadata": {},
   "outputs": [],
   "source": []
  }
 ],
 "metadata": {
  "hide_input": false,
  "kernelspec": {
   "display_name": "Python 3 (ipykernel)",
   "language": "python",
   "name": "python3"
  },
  "language_info": {
   "codemirror_mode": {
    "name": "ipython",
    "version": 3
   },
   "file_extension": ".py",
   "mimetype": "text/x-python",
   "name": "python",
   "nbconvert_exporter": "python",
   "pygments_lexer": "ipython3",
   "version": "3.10.12"
  },
  "toc": {
   "base_numbering": 1,
   "nav_menu": {},
   "number_sections": true,
   "sideBar": false,
   "skip_h1_title": true,
   "title_cell": "Contents",
   "title_sidebar": "Contents",
   "toc_cell": false,
   "toc_position": {},
   "toc_section_display": true,
   "toc_window_display": false
  }
 },
 "nbformat": 4,
 "nbformat_minor": 5
}
