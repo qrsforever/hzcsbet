{
 "cells": [
  {
   "cell_type": "markdown",
   "id": "5499848d",
   "metadata": {},
   "source": [
    "## Import"
   ]
  },
  {
   "cell_type": "code",
   "execution_count": 19,
   "id": "e5cbabd4",
   "metadata": {},
   "outputs": [
    {
     "name": "stdout",
     "output_type": "stream",
     "text": [
      "numpy  : 1.22.3\n",
      "sklearn: 1.0.2\n",
      "pandas : 1.4.1\n",
      "\n",
      "ipywidgets: 7.7.1\n",
      "cv2       : 4.8.1\n",
      "PIL       : 9.0.1\n",
      "matplotlib: 3.5.1\n",
      "plotly    : 5.18.0\n",
      "netron    : not installed\n",
      "\n",
      "torch      : 1.12.0.dev20220327+cpu\n",
      "torchvision: 0.13.0.dev20220327+cpu\n",
      "torchaudio : 0.12.0.dev20220327+cpu\n",
      "\n"
     ]
    }
   ],
   "source": [
    "%reload_ext watermark\n",
    "%reload_ext autoreload\n",
    "%autoreload 2\n",
    "%watermark -p numpy,sklearn,pandas\n",
    "%watermark -p ipywidgets,cv2,PIL,matplotlib,plotly,netron\n",
    "%watermark -p torch,torchvision,torchaudio\n",
    "# %watermark -p tensorflow,tensorboard,tflite\n",
    "# %watermark -p onnx,tf2onnx,onnxruntime,tensorrt,tvm\n",
    "# %matplotlib inline\n",
    "# %config InlineBackend.figure_format='retina'\n",
    "# %config IPCompleter.use_jedi = False\n",
    "\n",
    "# %matplotlib inline\n",
    "# %matplotlib widget\n",
    "# from IPython.display import display, Markdown, HTML, IFrame, Image, Javascript\n",
    "# from IPython.core.magic import register_line_cell_magic, register_line_magic, register_cell_magic\n",
    "# display(HTML('<style>.container { width:%d%% !important; }</style>' % 90))\n",
    "\n",
    "import sys, os, io, logging, time, random, math\n",
    "import json, base64, requests, shutil\n",
    "import argparse, shlex, signal\n",
    "import numpy as np\n",
    "\n",
    "import pandas as pd\n",
    "import cv2\n",
    "from glob import glob\n",
    "import re\n",
    "import yaml\n",
    "\n",
    "np.set_printoptions(\n",
    "    edgeitems=3, infstr='inf',\n",
    "    linewidth=75, nanstr='nan', precision=6,\n",
    "    suppress=True, threshold=100, formatter=None)\n",
    "\n",
    "argparse.ArgumentParser.exit = lambda *arg, **kwargs: _IGNORE_\n",
    "\n",
    "def _IMPORT(x, tag='main', debug=False):\n",
    "    def __request_text(url):\n",
    "        response = requests.get(url)\n",
    "        if response.status_code == 200:\n",
    "            return response.text\n",
    "        else:\n",
    "            raise RuntimeError(url)\n",
    "    try:\n",
    "        x = x.strip()\n",
    "        if x[0] == '/' or x[1] == '/':\n",
    "            with open(x) as fr:\n",
    "                x = fr.read()\n",
    "        elif 'github' in x or 'gitee' in x:\n",
    "            if x.startswith('import '):\n",
    "                x = x[7:]\n",
    "            if x.startswith('https://'):\n",
    "                x = x[8:]\n",
    "            if not x.endswith('.py'):\n",
    "                x = x + '.py'\n",
    "            x = x.replace('blob/main/', '').replace('blob/master/', '')\n",
    "            if x.startswith('raw.githubusercontent.com'):\n",
    "                x = 'https://' + x\n",
    "                x = __request_text(x)\n",
    "            elif x.startswith('github.com'):\n",
    "                x = x.replace('github.com', 'raw.githubusercontent.com')\n",
    "                mod = x.split('/')\n",
    "                x = 'https://' + '/'.join(mod[:3]) + f'/{tag}/' + '/'.join(mod[-3:])\n",
    "                x = __request_text(x)\n",
    "            elif x.startswith('gitee.com'):\n",
    "                mod = x.split('/')\n",
    "                x = 'https://' + '/'.join(mod[:3]) + f'/raw/{tag}/' + '/'.join(mod[3:])\n",
    "                x = __request_text(x)\n",
    "        if debug:\n",
    "            return x\n",
    "        else:\n",
    "            exec(x, globals())\n",
    "    except Exception as err:\n",
    "        # sys.stderr.write(f'request {x} : {err}')\n",
    "       pass\n",
    "\n",
    "def _DIR(x, dumps=True, ret=True):\n",
    "    attrs = sorted([y for y in dir(x) if not y.startswith('_')])\n",
    "    result = '%s: %s' % (str(type(x))[8:-2], json.dumps(attrs) if dumps else attrs)\n",
    "    if ret:\n",
    "        return result\n",
    "    print(result)\n"
   ]
  },
  {
   "cell_type": "markdown",
   "id": "606ed324",
   "metadata": {},
   "source": [
    "## Global "
   ]
  },
  {
   "cell_type": "code",
   "execution_count": 142,
   "id": "5f62540b",
   "metadata": {},
   "outputs": [],
   "source": [
    "TOP_DIR = '/jupyter/hzcsbet/gamebet'\n",
    "DATASET_DIR = f'{TOP_DIR}/datasets/SoccerNet/tracking'\n",
    "\n",
    "labels = ['ball', 'player', 'referee', 'goalkeepers']\n",
    "label_dict = {'ball': 0, 'player': 1, 'referee': 2, 'goalkeeper': 3, 'goalkeepers': 3}"
   ]
  },
  {
   "cell_type": "markdown",
   "id": "a84f4f72",
   "metadata": {},
   "source": [
    "## Data Format Convert"
   ]
  },
  {
   "cell_type": "code",
   "execution_count": 132,
   "id": "751241e0",
   "metadata": {},
   "outputs": [],
   "source": [
    "yolo_base = f'{TOP_DIR}/datasets/yolov8'\n",
    "\n",
    "#(1) image file path\n",
    "yolo_train_img_dir = f'{yolo_base}/images/train'\n",
    "yolo_valid_img_dir = f'{yolo_base}/images/valid'\n",
    "\n",
    "#(2) label file path\n",
    "yolo_train_label_dir = f'{yolo_base}/labels/train'\n",
    "yolo_valid_label_dir = f'{yolo_base}/labels/valid'\n",
    "\n",
    "#(3) config file path\n",
    "yaml_file = f'{yolo_base}/data.yaml'\n",
    "\n",
    "os.makedirs(yolo_train_img_dir, exist_ok=True)\n",
    "os.makedirs(yolo_valid_img_dir, exist_ok=True)\n",
    "os.makedirs(yolo_train_label_dir, exist_ok=True)\n",
    "os.makedirs(yolo_valid_label_dir, exist_ok=True)"
   ]
  },
  {
   "cell_type": "code",
   "execution_count": 146,
   "id": "93001e1c",
   "metadata": {},
   "outputs": [
    {
     "name": "stdout",
     "output_type": "stream",
     "text": [
      "/jupyter/hzcsbet/gamebet/datasets/SoccerNet/tracking/test/SNMOT-116\n",
      "det  gameinfo.ini  gt  img1  seqinfo.ini\n"
     ]
    }
   ],
   "source": [
    "snmot_dirs = {}\n",
    "snmot_dirs['test'] = sorted(glob(f'{DATASET_DIR}/test/SNMOT*'))\n",
    "snmot_dirs['train'] = sorted(glob(f'{DATASET_DIR}/train/SNMOT*'))\n",
    "t1 = snmot_dirs['test'][0]\n",
    "print(t1)\n",
    "!ls $t1"
   ]
  },
  {
   "cell_type": "code",
   "execution_count": 64,
   "id": "6604a94b",
   "metadata": {},
   "outputs": [
    {
     "name": "stdout",
     "output_type": "stream",
     "text": [
      "[Sequence]\r\n",
      "name=SNMOT-116\r\n",
      "imDir=img1\r\n",
      "frameRate=25\r\n",
      "seqLength=750\r\n",
      "imWidth=1920\r\n",
      "imHeight=1080\r\n",
      "imExt=.jpg\r\n"
     ]
    }
   ],
   "source": [
    "!cat $t1/seqinfo.ini"
   ]
  },
  {
   "cell_type": "code",
   "execution_count": 48,
   "id": "2e54ae0c",
   "metadata": {},
   "outputs": [
    {
     "name": "stdout",
     "output_type": "stream",
     "text": [
      "[Sequence]\r\n",
      "name=SNMOT-116\r\n",
      "gameID=7\r\n",
      "actionPosition=975293\r\n",
      "actionClass=Corner\r\n",
      "visibility=visible\r\n",
      "clipStart=969000\r\n",
      "gameTimeStart=1 - 16:09\r\n",
      "clipStop=999000\r\n",
      "gameTimeStop=1 - 16:39\r\n",
      "num_tracklets=27\r\n",
      "trackletID_1= player team left;4\r\n",
      "trackletID_2= player team left;93\r\n",
      "trackletID_3= player team right;25\r\n",
      "trackletID_4= referee;main\r\n",
      "trackletID_5= player team left;A\r\n",
      "trackletID_6= player team left;11\r\n",
      "trackletID_7= player team right;34\r\n",
      "trackletID_8= player team left;44\r\n",
      "trackletID_9= player team right;33\r\n",
      "trackletID_10= player team right;20\r\n",
      "trackletID_11= player team right;10\r\n",
      "trackletID_12= player team right;31\r\n",
      "trackletID_13= player team right;14\r\n",
      "trackletID_14= player team left;33\r\n",
      "trackletID_15= player team left;8\r\n",
      "trackletID_16= player team right;36\r\n",
      "trackletID_17= player team left;36\r\n",
      "trackletID_18= player team right;8\r\n",
      "trackletID_19= goalkeepers team left;1\r\n",
      "trackletID_20= ball;1\r\n",
      "trackletID_21= player team right;B\r\n",
      "trackletID_22= player team right;E\r\n",
      "trackletID_23= player team left;C\r\n",
      "trackletID_24= player team left;X\r\n",
      "trackletID_25= referee;side bottom\r\n",
      "trackletID_26= player team left;D\r\n",
      "trackletID_27= player team right;9\r\n"
     ]
    }
   ],
   "source": [
    "!cat $t1/gameinfo.ini"
   ]
  },
  {
   "cell_type": "code",
   "execution_count": 51,
   "id": "dddd3e7f",
   "metadata": {
    "scrolled": false
   },
   "outputs": [
    {
     "name": "stdout",
     "output_type": "stream",
     "text": [
      "1,1,136,520,51,135,1,-1,-1,-1\r\n",
      "2,1,138,521,50,134,1,-1,-1,-1\r\n",
      "3,1,140,521,48,133,1,-1,-1,-1\r\n",
      "4,1,142,521,47,132,1,-1,-1,-1\r\n",
      "5,1,143,522,46,131,1,-1,-1,-1\r\n",
      "6,1,146,523,44,129,1,-1,-1,-1\r\n",
      "7,1,146,522,45,129,1,-1,-1,-1\r\n",
      "8,1,147,522,45,130,1,-1,-1,-1\r\n",
      "9,1,148,521,46,130,1,-1,-1,-1\r\n",
      "10,1,149,521,47,131,1,-1,-1,-1\r\n"
     ]
    }
   ],
   "source": [
    "!head -n 10 $t1/gt/gt.txt "
   ]
  },
  {
   "cell_type": "code",
   "execution_count": 52,
   "id": "39bf192e",
   "metadata": {
    "scrolled": true
   },
   "outputs": [
    {
     "name": "stdout",
     "output_type": "stream",
     "text": [
      "741,27,148,396,48,113,1,-1,-1,-1\r\n",
      "742,27,140,397,49,112,1,-1,-1,-1\r\n",
      "743,27,130,399,51,112,1,-1,-1,-1\r\n",
      "744,27,125,400,50,112,1,-1,-1,-1\r\n",
      "745,27,118,401,48,113,1,-1,-1,-1\r\n",
      "746,27,110,403,46,113,1,-1,-1,-1\r\n",
      "747,27,103,404,44,113,1,-1,-1,-1\r\n",
      "748,27,94,405,42,114,1,-1,-1,-1\r\n",
      "749,27,89,406,42,114,1,-1,-1,-1\r\n",
      "750,27,80,409,42,114,1,-1,-1,-1\r\n"
     ]
    }
   ],
   "source": [
    "!tail -n 10 $t1/gt/gt.txt "
   ]
  },
  {
   "cell_type": "code",
   "execution_count": 64,
   "id": "a8c2c496",
   "metadata": {},
   "outputs": [
    {
     "name": "stdout",
     "output_type": "stream",
     "text": [
      "[Sequence]\r\n",
      "name=SNMOT-116\r\n",
      "imDir=img1\r\n",
      "frameRate=25\r\n",
      "seqLength=750\r\n",
      "imWidth=1920\r\n",
      "imHeight=1080\r\n",
      "imExt=.jpg\r\n"
     ]
    }
   ],
   "source": [
    "!cat $t1/seqinfo.ini"
   ]
  },
  {
   "cell_type": "code",
   "execution_count": 169,
   "id": "66d7a56d",
   "metadata": {},
   "outputs": [],
   "source": [
    "# convert from x,y,w,h to yolo format\n",
    "def get_yolo_format_bbox(img_w, img_h, box):\n",
    "    w = int(box[2])\n",
    "    h = int(box[3])\n",
    "    xc = int(box[0]) + int(np.round(w/2))\n",
    "    yc = int(box[1]) + int(np.round(h/2))\n",
    "    box = [xc/img_w, yc/img_h, w/img_w, h/img_h]\n",
    "    box = [f\"{i:.4g}\" for i in box]\n",
    "    return box\n",
    "    \n",
    "# get SoccerNet label info \n",
    "def get_game_info(info):\n",
    "    results = {}\n",
    "    for line in open(info):\n",
    "        m = re.match('trackletID_(\\d+)= (\\S*).*', line.replace(';', ' '))\n",
    "        if m:\n",
    "            if m.group(2) not in label_dict:\n",
    "                continue \n",
    "            results[m.group(1)] = m.group(2)\n",
    "    return results\n",
    "\n",
    "def get_seq_info(info):\n",
    "    results = {}\n",
    "    for line in open(info):\n",
    "        if line.startswith('name'):\n",
    "            results['name'] = line.split('=')[1].strip()\n",
    "        elif line.startswith('imDir'):\n",
    "            results['img_dir'] = line.split('=')[1].strip()\n",
    "        elif line.startswith('imWidth'):\n",
    "            results['img_w'] = int(line.split('=')[1].strip())\n",
    "        elif line.startswith('imHeight'):\n",
    "            results['img_h'] = int(line.split('=')[1].strip())\n",
    "        elif line.startswith('imExt'):\n",
    "            results['img_ext'] = line.split('=')[1].strip()\n",
    "    return results"
   ]
  },
  {
   "cell_type": "code",
   "execution_count": 120,
   "id": "6d091a16",
   "metadata": {
    "scrolled": true
   },
   "outputs": [
    {
     "data": {
      "text/plain": [
       "{'name': 'SNMOT-116',\n",
       " 'img_dir': 'img1',\n",
       " 'img_w': 1920,\n",
       " 'img_h': 1080,\n",
       " 'img_ext': '.jpg'}"
      ]
     },
     "execution_count": 120,
     "metadata": {},
     "output_type": "execute_result"
    }
   ],
   "source": [
    "seq_info = get_seq_info(f'{t1}/seqinfo.ini')\n",
    "seq_info"
   ]
  },
  {
   "cell_type": "code",
   "execution_count": 153,
   "id": "6d041ded",
   "metadata": {},
   "outputs": [],
   "source": [
    "t1 = '/jupyter/hzcsbet/gamebet/datasets/SoccerNet/tracking/test/SNMOT-133'"
   ]
  },
  {
   "cell_type": "code",
   "execution_count": 166,
   "id": "ebd4c054",
   "metadata": {},
   "outputs": [
    {
     "name": "stdout",
     "output_type": "stream",
     "text": [
      "[Sequence]\n",
      "\n",
      "[Sequence]\n",
      "\n",
      "name=SNMOT-133\n",
      "\n",
      "name=SNMOT-133\n",
      "\n",
      "gameID=8\n",
      "\n",
      "gameID=8\n",
      "\n",
      "actionPosition=593638\n",
      "\n",
      "actionPosition=593638\n",
      "\n",
      "actionClass=Yellow card\n",
      "\n",
      "actionClass=Yellow card\n",
      "\n",
      "visibility=visible\n",
      "\n",
      "visibility=visible\n",
      "\n",
      "clipStart=569000\n",
      "\n",
      "clipStart=569000\n",
      "\n",
      "gameTimeStart=1 - 09:29\n",
      "\n",
      "gameTimeStart=1 - 09:29\n",
      "\n",
      "clipStop=599000\n",
      "\n",
      "clipStop=599000\n",
      "\n",
      "gameTimeStop=1 - 09:59\n",
      "\n",
      "gameTimeStop=1 - 09:59\n",
      "\n",
      "num_tracklets=29\n",
      "\n",
      "num_tracklets=29\n",
      "\n",
      "trackletID_1= player team left 36\n",
      "\n",
      "trackletID_2= player team left 14\n",
      "\n",
      "trackletID_3= player team left 33\n",
      "\n",
      "trackletID_4= player team right 10\n",
      "\n",
      "trackletID_5= player team right 14\n",
      "\n",
      "trackletID_6= player team left a\n",
      "\n",
      "trackletID_7= player team right b\n",
      "\n",
      "trackletID_8= referee main\n",
      "\n",
      "trackletID_9= player team left c\n",
      "\n",
      "trackletID_10= player team right 7\n",
      "\n",
      "trackletID_11= player team left 5\n",
      "\n",
      "trackletID_12= player team left d\n",
      "\n",
      "trackletID_13= referee side top\n",
      "\n",
      "trackletID_14= ball 1\n",
      "\n",
      "trackletID_15= player team right 26\n",
      "\n",
      "trackletID_16= player team right x\n",
      "\n",
      "trackletID_17= player team left 10\n",
      "\n",
      "trackletID_18= player team left 11\n",
      "\n",
      "trackletID_19= player team right e\n",
      "\n",
      "trackletID_20= player team right 16\n",
      "\n",
      "trackletID_21= player team right 55\n",
      "\n",
      "trackletID_22= goalkeeper team right f\n",
      "\n",
      "trackletID_23= player team left 15\n",
      "\n",
      "trackletID_24= player team right 9\n",
      "\n",
      "trackletID_25= goalkeepers team left x\n",
      "\n",
      "trackletID_26= other 2\n",
      "\n",
      "aaa trackletID_26= other;2\n",
      "\n",
      "trackletID_27= other 1\n",
      "\n",
      "aaa trackletID_27= other;1\n",
      "\n",
      "trackletID_28= other 3\n",
      "\n",
      "aaa trackletID_28= other;3\n",
      "\n",
      "trackletID_29= other 4\n",
      "\n",
      "aaa trackletID_29= other;4\n",
      "\n"
     ]
    },
    {
     "data": {
      "text/plain": [
       "{'1': 'player',\n",
       " '2': 'player',\n",
       " '3': 'player',\n",
       " '4': 'player',\n",
       " '5': 'player',\n",
       " '6': 'player',\n",
       " '7': 'player',\n",
       " '8': 'referee',\n",
       " '9': 'player',\n",
       " '10': 'player',\n",
       " '11': 'player',\n",
       " '12': 'player',\n",
       " '13': 'referee',\n",
       " '14': 'ball',\n",
       " '15': 'player',\n",
       " '16': 'player',\n",
       " '17': 'player',\n",
       " '18': 'player',\n",
       " '19': 'player',\n",
       " '20': 'player',\n",
       " '21': 'player',\n",
       " '22': 'goalkeeper',\n",
       " '23': 'player',\n",
       " '24': 'player',\n",
       " '25': 'goalkeepers'}"
      ]
     },
     "execution_count": 166,
     "metadata": {},
     "output_type": "execute_result"
    }
   ],
   "source": [
    "game_info = get_game_info(f'{t1}/gameinfo.ini')\n",
    "game_info"
   ]
  },
  {
   "cell_type": "code",
   "execution_count": 170,
   "id": "f91b797b",
   "metadata": {
    "scrolled": true
   },
   "outputs": [],
   "source": [
    "results = []\n",
    "for phase, dirs in snmot_dirs.items():\n",
    "    if len(dirs) == 0:\n",
    "        continue\n",
    "    for mot in dirs:\n",
    "        seq_info = get_seq_info(f'{mot}/seqinfo.ini')\n",
    "        game_info = get_game_info(f'{mot}/gameinfo.ini')\n",
    "        result = {}\n",
    "        for line in open(f'{mot}/gt/gt.txt'):\n",
    "            imgid, labid, *box = line.split(',')[:6]\n",
    "            if labid in game_info:\n",
    "                imgid = f'{int(imgid):06}'\n",
    "                if imgid not in result:\n",
    "                    result[imgid] = []\n",
    "                box = get_yolo_format_bbox(seq_info['img_w'], seq_info['img_h'], box)\n",
    "                result[imgid].append([label_dict[game_info[labid]], *box])\n",
    "        seq_info['data'] = result\n",
    "        results.append(seq_info)"
   ]
  },
  {
   "cell_type": "code",
   "execution_count": 171,
   "id": "d7fbde84",
   "metadata": {},
   "outputs": [
    {
     "data": {
      "text/plain": [
       "49"
      ]
     },
     "execution_count": 171,
     "metadata": {},
     "output_type": "execute_result"
    }
   ],
   "source": [
    "len(results)"
   ]
  },
  {
   "cell_type": "code",
   "execution_count": 135,
   "id": "401b2e28",
   "metadata": {},
   "outputs": [
    {
     "name": "stdout",
     "output_type": "stream",
     "text": [
      "/jupyter/hzcsbet/gamebet/datasets/yolov8/labels/valid/SNMOT-116_000001.jpg\n",
      "SNMOT-116_000001.jpg SNMOT-116_000001.txt\n"
     ]
    }
   ],
   "source": [
    "for item in results:\n",
    "    for imgid, data in item['data'].items():\n",
    "        imgfile = f'{item[\"name\"]}_{imgid}{item[\"img_ext\"]}'\n",
    "        labfile = f'{item[\"name\"]}_{imgid}.txt'\n",
    "        img_src = f'{TEST_DATASET_DIR}/{item[\"name\"]}/{item[\"img_dir\"]}/{imgid}{item[\"img_ext\"]}'\n",
    "        img_dst = f'{yolo_valid_label_dir}/{imgfile}'\n",
    "        if not os.path.exists(img_src):\n",
    "            raise img_src\n",
    "        print(img_dst)\n",
    "        if not os.path.exists(img_dst):\n",
    "            os.symlink(img_src, img_dst)\n",
    "        print(imgfile, labfile)\n",
    "        # with open(yolo_valid_label_dir, 'w') as fw:\n",
    "        break"
   ]
  },
  {
   "cell_type": "code",
   "execution_count": 118,
   "id": "cb69d1a0",
   "metadata": {},
   "outputs": [
    {
     "data": {
      "text/plain": [
       "[[1, '0.08438', '0.5444', '0.02656', '0.125'],\n",
       " [1, '0.2625', '0.588', '0.02656', '0.1296'],\n",
       " [1, '0.3068', '0.537', '0.025', '0.1148'],\n",
       " [2, '0.2557', '0.4528', '0.02396', '0.1046'],\n",
       " [1, '0.299', '0.3185', '0.01771', '0.07778'],\n",
       " [1, '0.5026', '0.5722', '0.03073', '0.1296'],\n",
       " [1, '0.5286', '0.5639', '0.03594', '0.1269'],\n",
       " [1, '0.563', '0.5083', '0.02083', '0.113'],\n",
       " [1, '0.5875', '0.5074', '0.03333', '0.113'],\n",
       " [1, '0.6844', '0.475', '0.0276', '0.1046'],\n",
       " [1, '0.7307', '0.4509', '0.01667', '0.1019'],\n",
       " [1, '0.7484', '0.4417', '0.01927', '0.09722'],\n",
       " [1, '0.763', '0.4685', '0.03385', '0.09907'],\n",
       " [1, '0.7693', '0.4704', '0.01719', '0.1157'],\n",
       " [1, '0.7661', '0.463', '0.01406', '0.1009'],\n",
       " [1, '0.7776', '0.4713', '0.0151', '0.1102'],\n",
       " [1, '0.7865', '0.4676', '0.01198', '0.113'],\n",
       " [1, '0.7979', '0.4676', '0.02187', '0.1139'],\n",
       " [3, '0.8068', '0.4639', '0.02292', '0.1056'],\n",
       " [0, '0.25', '0.3583', '0.00625', '0.01019']]"
      ]
     },
     "execution_count": 118,
     "metadata": {},
     "output_type": "execute_result"
    }
   ],
   "source": [
    "result['000001']"
   ]
  },
  {
   "cell_type": "markdown",
   "id": "785494e6",
   "metadata": {},
   "source": [
    "## References"
   ]
  },
  {
   "cell_type": "markdown",
   "id": "d740fd88",
   "metadata": {},
   "source": [
    "- [BoT-SORT: Robust Associations Multi-Pedestrian Tracking][5]\n",
    "- [ByteTrack: Multi-Object Tracking by Associating Every Detection Box][1]\n",
    "- [SoccerNet - Tracking][2]\n",
    "- [Cool experiments at the intersection of Computer Vision and Sports][3]\n",
    "- [Football players tracking — identifying players’ team based on their jersey colors using OpenCV][4]\n",
    "- https://readmedium.com/chess-rolls-or-basketball-lets-create-a-custom-object-detection-model-ef53028eac7d\n",
    "- https://medium.com/@amirhossein477/how-to-obtain-the-birds-eye-view-of-a-soccer-game-regardless-of-camera-angle-changes-90d627acd522\n",
    "- https://medium.com/@amritangshu.mukherjee/tracking-football-players-with-yolov5-bytetrack-efa317c9aaa4\n",
    "- https://www.jlburkhead.com\n",
    "\n",
    "[5]: https://arxiv.org/pdf/2\n",
    "[4]: https://towardsdatascience.com/football-players-tracking-identifying-players-team-based-on-their-jersey-colors-using-opencv-7eed1b8a1095\n",
    "[3]: https://github.com/SkalskiP/sports\n",
    "[2]: https://github.com/SoccerNet/sn-tracking\n",
    "[1]: https://arxiv.org/pdf/2110.06864.pdf"
   ]
  }
 ],
 "metadata": {
  "hide_input": false,
  "kernelspec": {
   "display_name": "Python 3 (ipykernel)",
   "language": "python",
   "name": "python3"
  },
  "language_info": {
   "codemirror_mode": {
    "name": "ipython",
    "version": 3
   },
   "file_extension": ".py",
   "mimetype": "text/x-python",
   "name": "python",
   "nbconvert_exporter": "python",
   "pygments_lexer": "ipython3",
   "version": "3.8.10"
  },
  "toc": {
   "base_numbering": 1,
   "nav_menu": {},
   "number_sections": true,
   "sideBar": false,
   "skip_h1_title": true,
   "title_cell": "Contents",
   "title_sidebar": "Contents",
   "toc_cell": false,
   "toc_position": {
    "height": "168px",
    "left": "1500px",
    "top": "32.5625px",
    "width": "362px"
   },
   "toc_section_display": true,
   "toc_window_display": true
  }
 },
 "nbformat": 4,
 "nbformat_minor": 5
}
