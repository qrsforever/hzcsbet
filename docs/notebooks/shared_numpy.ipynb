{
 "cells": [
  {
   "cell_type": "code",
   "execution_count": 15,
   "id": "f8eb71a7-28b3-47e6-8f06-155e56a955c7",
   "metadata": {
    "deletable": true,
    "editable": true,
    "execution": {
     "iopub.execute_input": "2024-01-25T14:12:32.962574Z",
     "iopub.status.busy": "2024-01-25T14:12:32.961647Z",
     "iopub.status.idle": "2024-01-25T14:12:32.969107Z",
     "shell.execute_reply": "2024-01-25T14:12:32.967611Z",
     "shell.execute_reply.started": "2024-01-25T14:12:32.962508Z"
    },
    "frozen": false
   },
   "outputs": [],
   "source": [
    "import multiprocessing as mp\n",
    "from multiprocessing.shared_memory import SharedMemory"
   ]
  },
  {
   "cell_type": "code",
   "execution_count": 9,
   "id": "bb5684f7-b8bd-4a03-a1e9-ed033eeb2b7b",
   "metadata": {
    "deletable": true,
    "editable": true,
    "execution": {
     "iopub.execute_input": "2024-01-25T13:08:16.606104Z",
     "iopub.status.busy": "2024-01-25T13:08:16.605109Z",
     "iopub.status.idle": "2024-01-25T13:08:16.614883Z",
     "shell.execute_reply": "2024-01-25T13:08:16.613565Z",
     "shell.execute_reply.started": "2024-01-25T13:08:16.606039Z"
    },
    "frozen": false
   },
   "outputs": [
    {
     "name": "stdout",
     "output_type": "stream",
     "text": [
      "1024000000\n"
     ]
    }
   ],
   "source": [
    "shm = SharedMemory(create=True, size=1024000000)\n",
    "\n",
    "print(shm.size)"
   ]
  },
  {
   "cell_type": "code",
   "execution_count": 16,
   "id": "2da95811-e76c-4342-bdf1-664da344d455",
   "metadata": {
    "execution": {
     "iopub.execute_input": "2024-01-25T14:12:40.092920Z",
     "iopub.status.busy": "2024-01-25T14:12:40.091997Z",
     "iopub.status.idle": "2024-01-25T14:12:40.170534Z",
     "shell.execute_reply": "2024-01-25T14:12:40.169145Z",
     "shell.execute_reply.started": "2024-01-25T14:12:40.092854Z"
    }
   },
   "outputs": [],
   "source": [
    "mp_array = mp.Array('I', 1000000)"
   ]
  },
  {
   "cell_type": "code",
   "execution_count": 14,
   "id": "1c2f6dd6-3da7-446c-82be-2cb073163329",
   "metadata": {
    "execution": {
     "iopub.execute_input": "2024-01-25T13:09:57.497872Z",
     "iopub.status.busy": "2024-01-25T13:09:57.496872Z",
     "iopub.status.idle": "2024-01-25T13:09:57.504683Z",
     "shell.execute_reply": "2024-01-25T13:09:57.503186Z",
     "shell.execute_reply.started": "2024-01-25T13:09:57.497812Z"
    }
   },
   "outputs": [],
   "source": [
    "shm.unlink()"
   ]
  },
  {
   "cell_type": "code",
   "execution_count": 12,
   "id": "06d6073a-6ce9-4b33-8704-2514571a381f",
   "metadata": {
    "execution": {
     "iopub.execute_input": "2024-01-25T13:09:19.774282Z",
     "iopub.status.busy": "2024-01-25T13:09:19.773235Z",
     "iopub.status.idle": "2024-01-25T13:09:27.190740Z",
     "shell.execute_reply": "2024-01-25T13:09:27.189280Z",
     "shell.execute_reply.started": "2024-01-25T13:09:19.774216Z"
    }
   },
   "outputs": [],
   "source": [
    "import numpy as np\n",
    "\n",
    "abc = np.random.randn(1000, 1000, 10)"
   ]
  },
  {
   "cell_type": "code",
   "execution_count": 10,
   "id": "fddd79a3-3675-4926-a3c4-a0b2034f1ad1",
   "metadata": {
    "deletable": true,
    "editable": true,
    "execution": {
     "iopub.execute_input": "2024-01-25T13:08:17.716121Z",
     "iopub.status.busy": "2024-01-25T13:08:17.715245Z",
     "iopub.status.idle": "2024-01-25T13:08:17.802284Z",
     "shell.execute_reply": "2024-01-25T13:08:17.800589Z",
     "shell.execute_reply.started": "2024-01-25T13:08:17.716060Z"
    },
    "frozen": false
   },
   "outputs": [
    {
     "name": "stdout",
     "output_type": "stream",
     "text": [
      "{'a': 10, 'shm': SharedMemory('psm_0278e404', size=1024000000)}\n",
      "{'a': 10, 'shm': SharedMemory('psm_0278e404', size=1024000000)}\n",
      "{'a': 10, 'shm': SharedMemory('psm_0278e404', size=1024000000)}\n",
      "{'a': 10, 'shm': SharedMemory('psm_0278e404', size=1024000000)}\n",
      "{'a': 10, 'shm': SharedMemory('psm_0278e404', size=1024000000)}\n",
      "{'a': 10, 'shm': SharedMemory('psm_0278e404', size=1024000000)}\n",
      "{'a': 10, 'shm': SharedMemory('psm_0278e404', size=1024000000)}\n",
      "{'a': 10, 'shm': SharedMemory('psm_0278e404', size=1024000000)}\n",
      "{'a': 10, 'shm': SharedMemory('psm_0278e404', size=1024000000)}\n",
      "{'a': 10, 'shm': SharedMemory('psm_0278e404', size=1024000000)}\n"
     ]
    }
   ],
   "source": [
    "def producer(queue):\n",
    "    for i in range(10):\n",
    "        queue.put({'a': 10, 'shm': })\n",
    "    queue.put(None)\n",
    "\n",
    "\n",
    "def consumer(queue):\n",
    "    while True:\n",
    "        item = queue.get()\n",
    "        if item is None:\n",
    "            break\n",
    "        print(item)\n",
    "\n",
    "\n",
    "if __name__ == '__main__':\n",
    "    q = multiprocessing.Queue()\n",
    "    p1 = multiprocessing.Process(target=producer, args=(q,))\n",
    "    p2 = multiprocessing.Process(target=consumer, args=(q,))\n",
    "    p1.start()\n",
    "    p2.start()\n",
    "    p1.join()\n",
    "    p2.join()"
   ]
  },
  {
   "cell_type": "code",
   "execution_count": null,
   "id": "5e6bceaf-2acf-47de-8e7b-e80608f1310c",
   "metadata": {
    "deletable": true,
    "editable": true,
    "frozen": false
   },
   "outputs": [],
   "source": []
  }
 ],
 "metadata": {
  "kernelspec": {
   "display_name": "Python 3 (ipykernel)",
   "language": "python",
   "name": "python3"
  },
  "language_info": {
   "codemirror_mode": {
    "name": "ipython",
    "version": 3
   },
   "file_extension": ".py",
   "mimetype": "text/x-python",
   "name": "python",
   "nbconvert_exporter": "python",
   "pygments_lexer": "ipython3",
   "version": "3.10.12"
  }
 },
 "nbformat": 4,
 "nbformat_minor": 5
}
