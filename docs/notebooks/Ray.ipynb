{
 "cells": [
  {
   "cell_type": "code",
   "execution_count": null,
   "id": "f7bde71f-4422-4975-bfa7-46d3245e5357",
   "metadata": {},
   "outputs": [],
   "source": [
    "!$PIP_INSTALL -qq pandas==2.1.4 fastapi grpcio ray pyarrow aiohttp opencensus aiohttp_cors"
   ]
  },
  {
   "cell_type": "code",
   "execution_count": 1,
   "id": "47debcda-41d2-4f0f-b0c1-c3997563a8cc",
   "metadata": {
    "execution": {
     "iopub.execute_input": "2024-01-24T14:27:21.644983Z",
     "iopub.status.busy": "2024-01-24T14:27:21.644510Z",
     "iopub.status.idle": "2024-01-24T14:27:23.490444Z",
     "shell.execute_reply": "2024-01-24T14:27:23.489776Z",
     "shell.execute_reply.started": "2024-01-24T14:27:21.644947Z"
    }
   },
   "outputs": [
    {
     "name": "stdout",
     "output_type": "stream",
     "text": [
      "numpy  : 1.26.3\n",
      "sklearn: 1.4.0\n",
      "pandas : 2.1.4\n",
      "\n",
      "ipywidgets: 8.1.1\n",
      "cv2       : 4.9.0\n",
      "PIL       : 10.2.0\n",
      "matplotlib: 3.8.2\n",
      "plotly    : 5.18.0\n",
      "netron    : 7.3.9\n",
      "\n",
      "torch      : 2.1.1+cpu\n",
      "torchvision: 0.16.1+cpu\n",
      "torchaudio : 2.1.1+cpu\n",
      "\n"
     ]
    }
   ],
   "source": [
    "%reload_ext watermark\n",
    "%reload_ext autoreload\n",
    "%autoreload 2\n",
    "%watermark -p numpy,sklearn,pandas\n",
    "%watermark -p ipywidgets,cv2,PIL,matplotlib,plotly,netron\n",
    "%watermark -p torch,torchvision,torchaudio\n",
    "# %watermark -p tensorflow,tensorboard,tflite\n",
    "# %watermark -p onnx,tf2onnx,onnxruntime,tensorrt,tvm\n",
    "# %matplotlib inline\n",
    "# %config InlineBackend.figure_format='retina'\n",
    "# %config IPCompleter.use_jedi = False\n",
    "\n",
    "# %matplotlib inline\n",
    "# %matplotlib widget\n",
    "# from IPython.display import display, Markdown, HTML, IFrame, Image, Javascript\n",
    "# from IPython.core.magic import register_line_magic, register_cell_magic\n",
    "# display(HTML('<style>.container { width:%d%% !important; }</style>' % 90))\n",
    "\n",
    "import sys, os, io, logging, time, random, math\n",
    "import json, base64, requests, shutil\n",
    "import argparse, shlex, signal\n",
    "import numpy as np\n",
    "from PIL import Image\n",
    "import matplotlib.pyplot as plt\n",
    "\n",
    "def _dir(x, dumps=True, ret=True):\n",
    "    attrs = sorted([y for y in dir(x) if not y.startswith('_')])\n",
    "    result = '%s: %s' % (str(type(x))[8:-2], json.dumps(attrs) if dumps else attrs)\n",
    "    if ret:\n",
    "        return result\n",
    "    print(result)"
   ]
  },
  {
   "cell_type": "code",
   "execution_count": 2,
   "id": "7317f12f-1992-47a5-b013-0c050a6bfb1b",
   "metadata": {
    "execution": {
     "iopub.execute_input": "2024-01-24T14:27:23.491578Z",
     "iopub.status.busy": "2024-01-24T14:27:23.491307Z",
     "iopub.status.idle": "2024-01-24T14:27:23.521826Z",
     "shell.execute_reply": "2024-01-24T14:27:23.521172Z",
     "shell.execute_reply.started": "2024-01-24T14:27:23.491564Z"
    }
   },
   "outputs": [],
   "source": [
    "import logging\n",
    "\n",
    "logger = logging.getLogger(__name__)\n",
    "\n",
    "\n",
    "def _imshow(image, title=None, color='bgr', figsize=(6, 3), canvas=False):\n",
    "    import IPython\n",
    "    plt.close('all')\n",
    "    if figsize == 'auto':\n",
    "        ih, iw = image.shape[:2]\n",
    "        fw, fh = int(1.5 * iw / 80) + 1, int(1.5 * ih / 80) + 1\n",
    "        if fw > 32:\n",
    "            fh = int(32 * (fh / fw))\n",
    "            fw = 32\n",
    "        figsize = (fw, fh)\n",
    "    if canvas:\n",
    "        IPython.get_ipython().enable_matplotlib(gui='widget');\n",
    "        fig = plt.figure(figsize=figsize)\n",
    "        fig.canvas.toolbar_position = 'left'\n",
    "        fig.canvas.toolbar_visible = True\n",
    "        fig.canvas.header_visible = False\n",
    "        fig.canvas.footer_visible = True\n",
    "    else:\n",
    "        IPython.get_ipython().enable_matplotlib(gui='inline')\n",
    "        fig = plt.figure(figsize=figsize)\n",
    "    plt.axis('off')\n",
    "    if title is not None:\n",
    "        plt.title(title)\n",
    "    if color == 'gray' or len(image.shape) == 2:\n",
    "        plt.imshow(image, cmap='gray');\n",
    "    else:\n",
    "        if color == 'bgr':\n",
    "            image = cv2.cvtColor(image, cv2.COLOR_BGR2RGB)\n",
    "        plt.imshow(image);\n",
    "\n",
    "\n",
    "def _imgrid(images, nrow=None, padding=4, pad_value=127, labels=None,\n",
    "            font_scale=1.0, font_thickness=1, text_color=(255,), text_color_bg=None):\n",
    "    count = len(images)\n",
    "    if isinstance(images, dict):\n",
    "        labels = [lab for lab in images.keys()]\n",
    "        images = [img for img in images.values()]\n",
    "\n",
    "    if not isinstance(images, (list, tuple, np.ndarray)) or count == 0 or not isinstance(images[0], np.ndarray):\n",
    "        return\n",
    "    if nrow is None or nrow > count:\n",
    "        nrow = count\n",
    "\n",
    "    max_h, max_w = np.asarray([img.shape[:2] for img in images]).max(axis=0)\n",
    "    if labels is not None:\n",
    "        text_org = int(0.1 * max_w), int(0.9 * max_h)\n",
    "        shape_length = 3\n",
    "    else:\n",
    "        shape_length = np.asarray([len(img.shape) for img in images]).max()\n",
    "    lack = count % nrow\n",
    "    rows = np.intp(np.ceil(count / nrow))\n",
    "    hpad_size = [max_h, padding] \n",
    "    if rows > 1:\n",
    "        vpad_size = [padding, nrow * max_w + (nrow - 1) * padding]\n",
    "        if lack > 0:\n",
    "            lack_size = [max_h, max_w]\n",
    "    if shape_length == 3:\n",
    "        hpad_size.append(3)\n",
    "        if rows > 1:\n",
    "            vpad_size.append(3)\n",
    "            if lack > 0:\n",
    "                lack_size.append(3)\n",
    "    hpadding = pad_value * np.ones(hpad_size, dtype=np.uint8)\n",
    "    if rows > 1:\n",
    "        vpadding = pad_value * np.ones(vpad_size, dtype=np.uint8)\n",
    "        if lack > 0:\n",
    "            lack_image = pad_value * np.ones(lack_size, dtype=np.uint8)\n",
    "            images.extend([lack_image] * lack)\n",
    "            if labels is not None:\n",
    "                labels.extend([''] * lack)\n",
    "    vlist = []\n",
    "    for i in range(rows):\n",
    "        hlist = []\n",
    "        for j in range(nrow):\n",
    "            if j != 0:\n",
    "                hlist.append(hpadding)\n",
    "            timg = images[i * nrow + j].copy()\n",
    "            th, tw = timg.shape[:2]\n",
    "            if th != max_h or tw != max_w:\n",
    "                timg = cv2.resize(timg, (max_w, max_h))\n",
    "            if len(timg.shape) != shape_length:\n",
    "                timg = cv2.cvtColor(timg, cv2.COLOR_GRAY2BGR)\n",
    "            if labels is not None:\n",
    "                text = str(labels[i * nrow + j])\n",
    "                if len(text) > 0:\n",
    "                    if text_color_bg is not None:\n",
    "                        (tw, th), _ = cv2.getTextSize(text, cv2.FONT_HERSHEY_SIMPLEX, font_scale, font_thickness)\n",
    "                        pos1 = text_org[0] - int(font_scale * 5), text_org[1] - th - int(font_scale * 5)\n",
    "                        pos2 = text_org[0] + int(font_scale * 5) + tw, text_org[1] + int(font_scale * 8)\n",
    "                        cv2.rectangle(timg, pos1, pos2, text_color_bg, -1)\n",
    "                    cv2.putText(timg, text, text_org, cv2.FONT_HERSHEY_SIMPLEX, font_scale, text_color, font_thickness)\n",
    "            hlist.append(timg)\n",
    "        if i != 0:\n",
    "            vlist.append(vpadding)\n",
    "        vlist.append(np.hstack(hlist))\n",
    "    if rows > 1:\n",
    "        return np.vstack(vlist)\n",
    "    return vlist[0]\n"
   ]
  },
  {
   "cell_type": "code",
   "execution_count": 3,
   "id": "8d0b5f6b-e4a5-4efb-a96a-495a6ee27d50",
   "metadata": {
    "execution": {
     "iopub.execute_input": "2024-01-24T14:27:25.068489Z",
     "iopub.status.busy": "2024-01-24T14:27:25.067970Z",
     "iopub.status.idle": "2024-01-24T14:27:25.314880Z",
     "shell.execute_reply": "2024-01-24T14:27:25.314413Z",
     "shell.execute_reply.started": "2024-01-24T14:27:25.068456Z"
    }
   },
   "outputs": [],
   "source": [
    "from ray.data._internal.delegating_block_builder import DelegatingBlockBuilder\n",
    "from ray.data.block import BlockMetadata\n",
    "from ray.data.datasource.datasource import Datasource, ReadTask\n",
    "from ray.util.annotations import DeveloperAPI\n",
    "\n",
    "import ray\n",
    "import cv2\n",
    "import os\n",
    "\n",
    "DATASOURCE_READER_BATCH_SIZE = 8\n",
    "\n",
    "\n",
    "@DeveloperAPI\n",
    "class VideoFrameDatasource(Datasource):\n",
    "    def __init__(self, video_path: str):\n",
    "        assert os.path.exists(video_path)\n",
    "        self._video_path = video_path\n",
    "\n",
    "    def get_read_tasks(self, parallelism):\n",
    "        assert parallelism == 1\n",
    "        meta = BlockMetadata(\n",
    "            num_rows=None,\n",
    "            size_bytes=None,\n",
    "            schema=None,\n",
    "            input_files=None,\n",
    "            exec_stats=None,\n",
    "        )\n",
    "        read_task = ReadTask(\n",
    "            lambda p=self._video_path: _read_frames(p),\n",
    "            metadata=meta,\n",
    "        )\n",
    "\n",
    "        return [read_task]\n",
    "\n",
    "    def estimate_inmemory_data_size(self):\n",
    "        return None\n",
    "\n",
    "\n",
    "def _read_frames(video_path: str):\n",
    "    batch = []\n",
    "    cap = cv2.VideoCapture(video_path)\n",
    "    assert cap.isOpened()\n",
    "    while True:\n",
    "        success, frame = cap.read()\n",
    "        if not success:\n",
    "            logger.warning(\"Count:%d\" % cap.get(cv2.CAP_PROP_FRAME_COUNT))\n",
    "            cap.release()\n",
    "            break\n",
    "        batch.append(frame)\n",
    "        if len(batch) == DATASOURCE_READER_BATCH_SIZE:\n",
    "            builder = DelegatingBlockBuilder()\n",
    "            builder.add_batch({\"frames\": batch})\n",
    "            yield builder.build()\n",
    "            batch.clear()\n",
    "\n",
    "    if len(batch) > 0:\n",
    "        builder = DelegatingBlockBuilder()\n",
    "        builder.add_batch({\"frames\": batch})\n",
    "        yield builder.build()\n"
   ]
  },
  {
   "cell_type": "code",
   "execution_count": 4,
   "id": "b855cb5b-f0b4-49bc-af1e-3920471b0408",
   "metadata": {
    "execution": {
     "iopub.execute_input": "2024-01-24T14:27:26.695484Z",
     "iopub.status.busy": "2024-01-24T14:27:26.695065Z",
     "iopub.status.idle": "2024-01-24T14:27:30.192938Z",
     "shell.execute_reply": "2024-01-24T14:27:30.192220Z",
     "shell.execute_reply.started": "2024-01-24T14:27:26.695466Z"
    }
   },
   "outputs": [
    {
     "name": "stderr",
     "output_type": "stream",
     "text": [
      "2024-01-24 22:27:28,602\tINFO worker.py:1715 -- Started a local Ray instance. View the dashboard at \u001b[1m\u001b[32m127.0.0.1:8265 \u001b[39m\u001b[22m\n"
     ]
    }
   ],
   "source": [
    "video_path = '/data/source/hzcsai_com/hzcsbet/gamebet/datasets/0bfacc_5.mp4'\n",
    "ds = ray.data.read_datasource(VideoFrameDatasource(video_path=video_path), parallelism=1)"
   ]
  },
  {
   "cell_type": "code",
   "execution_count": 7,
   "id": "091df322-798d-4c1e-b579-b05fa9d36546",
   "metadata": {
    "execution": {
     "iopub.execute_input": "2024-01-24T14:29:18.528899Z",
     "iopub.status.busy": "2024-01-24T14:29:18.528359Z",
     "iopub.status.idle": "2024-01-24T14:29:18.875004Z",
     "shell.execute_reply": "2024-01-24T14:29:18.873583Z",
     "shell.execute_reply.started": "2024-01-24T14:29:18.528862Z"
    }
   },
   "outputs": [
    {
     "name": "stderr",
     "output_type": "stream",
     "text": [
      "2024-01-24 22:29:18,581\tINFO streaming_executor.py:112 -- Executing DAG InputDataBuffer[Input] -> TaskPoolMapOperator[ReadVideoFrame] -> LimitOperator[limit=2]\n",
      "2024-01-24 22:29:18,582\tINFO streaming_executor.py:113 -- Execution config: ExecutionOptions(resource_limits=ExecutionResources(cpu=None, gpu=None, object_store_memory=None), exclude_resources=ExecutionResources(cpu=0, gpu=0, object_store_memory=0), locality_with_output=False, preserve_order=False, actor_locality_enabled=True, verbose_progress=False)\n",
      "2024-01-24 22:29:18,582\tINFO streaming_executor.py:115 -- Tip: For detailed progress reporting, run `ray.data.DataContext.get_current().execution_options.verbose_progress = True`\n"
     ]
    },
    {
     "data": {
      "application/vnd.jupyter.widget-view+json": {
       "model_id": "",
       "version_major": 2,
       "version_minor": 0
      },
      "text/plain": [
       "Running 0:   0%|          | 0/1 [00:00<?, ?it/s]"
      ]
     },
     "metadata": {},
     "output_type": "display_data"
    }
   ],
   "source": [
    "single_batch = ds.take_batch(2)"
   ]
  },
  {
   "cell_type": "code",
   "execution_count": 6,
   "id": "98c7846d-a63a-4877-9f0b-3ea362f8ff2d",
   "metadata": {
    "execution": {
     "iopub.execute_input": "2024-01-24T14:29:02.434649Z",
     "iopub.status.busy": "2024-01-24T14:29:02.434111Z",
     "iopub.status.idle": "2024-01-24T14:29:02.470891Z",
     "shell.execute_reply": "2024-01-24T14:29:02.470261Z",
     "shell.execute_reply.started": "2024-01-24T14:29:02.434615Z"
    }
   },
   "outputs": [],
   "source": [
    "del single_batch"
   ]
  },
  {
   "cell_type": "code",
   "execution_count": null,
   "id": "c954989c-5478-49e1-82f7-3794d6c2363b",
   "metadata": {},
   "outputs": [],
   "source": [
    "single_batch.keys(), len(single_batch['frames'])"
   ]
  },
  {
   "cell_type": "code",
   "execution_count": null,
   "id": "96a34d71-5fab-48ba-888e-ca1cdd0f2eb9",
   "metadata": {},
   "outputs": [],
   "source": [
    "_imshow(single_batch['frames'][0])"
   ]
  },
  {
   "cell_type": "code",
   "execution_count": null,
   "id": "da20932d-0b01-4615-b72a-3c888ce0e549",
   "metadata": {
    "scrolled": true
   },
   "outputs": [],
   "source": [
    "_dir(ds)"
   ]
  },
  {
   "cell_type": "code",
   "execution_count": null,
   "id": "ce3fdff2-9781-4d61-ae94-43d2e8693a88",
   "metadata": {},
   "outputs": [],
   "source": [
    "count = 0\n",
    "for batch in ds.iter_batches(batch_size=8):\n",
    "    count += len(batch['frames'])\n",
    "print(count)"
   ]
  }
 ],
 "metadata": {
  "kernelspec": {
   "display_name": "Python 3 (ipykernel)",
   "language": "python",
   "name": "python3"
  },
  "language_info": {
   "codemirror_mode": {
    "name": "ipython",
    "version": 3
   },
   "file_extension": ".py",
   "mimetype": "text/x-python",
   "name": "python",
   "nbconvert_exporter": "python",
   "pygments_lexer": "ipython3",
   "version": "3.10.12"
  }
 },
 "nbformat": 4,
 "nbformat_minor": 5
}
