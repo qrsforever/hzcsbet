{
 "cells": [
  {
   "cell_type": "markdown",
   "id": "0519b9c7",
   "metadata": {},
   "source": [
    "## Import"
   ]
  },
  {
   "cell_type": "code",
   "execution_count": 1,
   "id": "dafe7507",
   "metadata": {},
   "outputs": [
    {
     "name": "stdout",
     "output_type": "stream",
     "text": [
      "Requirement already satisfied: pyflann-py3 in /usr/local/lib/python3.8/dist-packages (0.1.0)\n",
      "\u001b[33mWARNING: Running pip as the 'root' user can result in broken permissions and conflicting behaviour with the system package manager. It is recommended to use a virtual environment instead: https://pip.pypa.io/warnings/venv\u001b[0m\u001b[33m\n",
      "\u001b[0m\u001b[33mWARNING: You are using pip version 22.0.4; however, version 23.3.1 is available.\n",
      "You should consider upgrading via the '/usr/bin/python3.8 -m pip install --upgrade pip' command.\u001b[0m\u001b[33m\n",
      "\u001b[0m"
     ]
    }
   ],
   "source": [
    "!pip3 install pyflann-py3"
   ]
  },
  {
   "cell_type": "code",
   "execution_count": 89,
   "id": "72860380",
   "metadata": {},
   "outputs": [
    {
     "name": "stdout",
     "output_type": "stream",
     "text": [
      "pytransform3d: 3.4.0\n",
      "matplotlib   : 3.5.1\n",
      "scipy        : 1.8.0\n",
      "numpy        : 1.22.3\n",
      "pyflann      : unknown\n",
      "\n"
     ]
    }
   ],
   "source": [
    "%reload_ext watermark\n",
    "%reload_ext autoreload\n",
    "%autoreload 2\n",
    "%watermark -p pytransform3d,matplotlib,scipy,numpy,pyflann\n",
    "# %watermark -p numpy,sklearn,pandas\n",
    "# %watermark -p ipywidgets,cv2,PIL,matplotlib,plotly,netron\n",
    "# %watermark -p torch,torchvision,torchaudio\n",
    "# %watermark -p tensorflow,tensorboard,tflite\n",
    "# %watermark -p onnx,tf2onnx,onnxruntime,tensorrt,tvm\n",
    "# %matplotlib inline\n",
    "# %config InlineBackend.figure_format='retina'\n",
    "# %config IPCompleter.use_jedi = False\n",
    "\n",
    "# %matplotlib inline\n",
    "%matplotlib widget\n",
    "# from IPython.display import display, Markdown, HTML, IFrame, Image, Javascript\n",
    "# from IPython.core.magic import register_line_cell_magic, register_line_magic, register_cell_magic\n",
    "# display(HTML('<style>.container { width:%d%% !important; }</style>' % 90))\n",
    "\n",
    "import sys, os, io, logging, time, random, math\n",
    "import json, base64, requests, shutil\n",
    "import argparse, shlex, signal\n",
    "import numpy as np\n",
    "import scipy.io as sio\n",
    "\n",
    "np.set_printoptions(\n",
    "    edgeitems=3, infstr='inf',\n",
    "    linewidth=75, nanstr='nan', precision=6,\n",
    "    suppress=True, threshold=100, formatter=None)\n",
    "\n",
    "argparse.ArgumentParser.exit = lambda *arg, **kwargs: _IGNORE_\n",
    "\n",
    "def _IMPORT(x, tag='main', debug=False):\n",
    "    def __request_text(url):\n",
    "        response = requests.get(url)\n",
    "        if response.status_code == 200:\n",
    "            return response.text\n",
    "        else:\n",
    "            raise RuntimeError(url)\n",
    "    try:\n",
    "        x = x.strip()\n",
    "        if x[0] == '/' or x[1] == '/':\n",
    "            with open(x) as fr:\n",
    "                x = fr.read()\n",
    "        elif 'github' in x or 'gitee' in x:\n",
    "            if x.startswith('import '):\n",
    "                x = x[7:]\n",
    "            if x.startswith('https://'):\n",
    "                x = x[8:]\n",
    "            if not x.endswith('.py'):\n",
    "                x = x + '.py'\n",
    "            x = x.replace('blob/main/', '').replace('blob/master/', '')\n",
    "            if x.startswith('raw.githubusercontent.com'):\n",
    "                x = 'https://' + x\n",
    "                x = __request_text(x)\n",
    "            elif x.startswith('github.com'):\n",
    "                x = x.replace('github.com', 'raw.githubusercontent.com')\n",
    "                mod = x.split('/')\n",
    "                x = 'https://' + '/'.join(mod[:3]) + f'/{tag}/' + '/'.join(mod[-3:])\n",
    "                x = __request_text(x)\n",
    "            elif x.startswith('gitee.com'):\n",
    "                mod = x.split('/')\n",
    "                x = 'https://' + '/'.join(mod[:3]) + f'/raw/{tag}/' + '/'.join(mod[3:])\n",
    "                x = __request_text(x)\n",
    "        if debug:\n",
    "            return x\n",
    "        else:\n",
    "            exec(x, globals())\n",
    "    except Exception as err:\n",
    "        # sys.stderr.write(f'request {x} : {err}')\n",
    "       pass\n",
    "\n",
    "def _DIR(x, dumps=True, ret=True):\n",
    "    attrs = sorted([y for y in dir(x) if not y.startswith('_')])\n",
    "    result = '%s: %s' % (str(type(x))[8:-2], json.dumps(attrs) if dumps else attrs)\n",
    "    if ret:\n",
    "        return result\n",
    "    print(result)\n",
    "\n",
    "\n",
    "###\n",
    "### Display ###\n",
    "###\n",
    "\n",
    "_IMPORT('import pandas as pd')\n",
    "_IMPORT('import cv2')\n",
    "_IMPORT('from PIL import Image')\n",
    "_IMPORT('import matplotlib.pyplot as plt')\n",
    "# _IMPORT('import plotly')\n",
    "# _IMPORT('import plotly.graph_objects as go')\n",
    "# _IMPORT('import ipywidgets as widgets')\n",
    "# _IMPORT('from ipywidgets import interact, interactive, fixed, interact_manual')\n",
    "_IMPORT('import pytransform3d.rotations')\n",
    "_IMPORT('import pytransform3d.camera')\n",
    "_IMPORT('import pytransform3d.transformations')\n",
    "_IMPORT('import pyflann')\n",
    "# plotly.offline.init_notebook_mode(connected=False)\n",
    "\n",
    "plt.rcParams['figure.figsize'] = (12.0, 8.0)\n",
    "# from matplotlib.font_manager import FontProperties\n",
    "# simsun = FontProperties(fname='/sysfonts/simsun.ttc', size=12)\n",
    "\n",
    "    \n",
    "def show_image(imgsrc, width=None, height=None, rgb=True):\n",
    "    if isinstance(imgsrc, np.ndarray):\n",
    "        plt.close('all')\n",
    "        img = imgsrc\n",
    "        if width or height:\n",
    "            if width and height:\n",
    "                size = (width, height)\n",
    "            else:\n",
    "                rate = img.shape[1] / img.shape[0]\n",
    "                if width:\n",
    "                    size = (width, int(width/rate))\n",
    "                else:\n",
    "                    size = (int(height*rate), height)\n",
    "            img = cv2.resize(img, size)\n",
    "            plt.figure(figsize=(3*int(size[0]/80+1), 3*int(size[1]/80+1)), dpi=80)\n",
    "        plt.axis('off')\n",
    "        if len(img.shape) > 2:\n",
    "            if not rgb:\n",
    "                img = cv2.cvtColor(img, cv2.COLOR_BGR2RGB)\n",
    "            plt.imshow(img);\n",
    "        else:\n",
    "            plt.imshow(img, cmap='gray');\n",
    "        return\n",
    "\n",
    "    W, H = '', ''\n",
    "    if width:\n",
    "        W = 'width=%d' % width\n",
    "    if height:\n",
    "        H = 'height=%d' % height\n",
    "    if imgsrc.startswith('http'):\n",
    "        data_url = imgsrc\n",
    "    else:\n",
    "        if len(imgsrc) > 2048:\n",
    "            data_url = 'data:image/jpg;base64,' + imgsrc\n",
    "        else:\n",
    "            img = open(imgsrc, 'rb').read()\n",
    "            data_url = 'data:image/jpg;base64,' + base64.b64encode(img).decode()\n",
    "    return HTML('<center><img %s %s src=\"%s\"/></center>' % (W, H, data_url))"
   ]
  },
  {
   "cell_type": "markdown",
   "id": "3b3a39ab",
   "metadata": {},
   "source": [
    "## Global"
   ]
  },
  {
   "cell_type": "code",
   "execution_count": 3,
   "id": "61a35f36",
   "metadata": {},
   "outputs": [],
   "source": [
    "TOP_DIR='/jupyter/hzcsbet/gamebet'\n",
    "H = 720\n",
    "W = 1280\n",
    "\n",
    "class COLORS(object):\n",
    "    # BGR\n",
    "    GREEN      = (0   , 255 , 0)\n",
    "    RED        = (0   , 0   , 255)\n",
    "    BLACK      = (0   , 0   , 0)\n",
    "    YELLOW     = (0   , 255 , 255)\n",
    "    WHITE      = (255 , 255 , 255)\n",
    "    CYAN       = (255 , 255 , 0)\n",
    "    MAGENTA    = (255 , 0   , 242)\n",
    "    GOLDEN     = (32  , 218 , 165)\n",
    "    LIGHT_BLUE = (255 , 9   , 2)\n",
    "    PURPLE     = (128 , 0   , 128)\n",
    "    CHOCOLATE  = (30  , 105 , 210)\n",
    "    PINK       = (147 , 20  , 255)\n",
    "    ORANGE     = (0   , 69  , 255)\n",
    "\n",
    "sys.path.append(f'{TOP_DIR}/python')\n",
    "\n",
    "import cv2 as cv"
   ]
  },
  {
   "cell_type": "code",
   "execution_count": 4,
   "id": "c6601c09",
   "metadata": {},
   "outputs": [],
   "source": [
    "def _print_dictkeys_shape(d):\n",
    "    for k, v in d.items():\n",
    "        if k.startswith('__'):\n",
    "            continue\n",
    "        print(f'{k}: {v.shape}')\n",
    "        \n",
    "def _print_statistics(o, prefix=''):\n",
    "    if isinstance(o, np.ndarray):\n",
    "        print(f'{prefix} mean: {o.mean()}, std: {o.std()}, max: {o.max()}, min:{o.min()}')\n",
    "    \n",
    "def _print_matrix(mat, fmt=\"g\"):\n",
    "    col_maxes = [max([len((\"{:\"+fmt+\"}\").format(x)) for x in col]) for col in mat.T]\n",
    "    for x in mat:\n",
    "        for i, y in enumerate(x):\n",
    "            print((\"{:\"+str(col_maxes[i])+fmt+\"}\").format(y), end=\"  \")\n",
    "        print(\"\")\n",
    "_print_star = lambda n = 50: print('*' * n)"
   ]
  },
  {
   "cell_type": "code",
   "execution_count": 5,
   "id": "16834493",
   "metadata": {},
   "outputs": [],
   "source": [
    "def _imshow(image, color='gray', figsize=(6, 3)):\n",
    "    plt.close('all')\n",
    "    plt.figure(figsize=figsize)\n",
    "    plt.axis('off')\n",
    "    if color == 'gray':\n",
    "        plt.imshow(image, cmap='gray')\n",
    "    else:\n",
    "        plt.imshow(cv2.cvtColor(image, cv2.COLOR_BGR2RGB))"
   ]
  },
  {
   "cell_type": "markdown",
   "id": "124aba0a",
   "metadata": {},
   "source": [
    "## Dataset"
   ]
  },
  {
   "cell_type": "markdown",
   "id": "0edc3947",
   "metadata": {},
   "source": [
    "### worldcup2014.mat"
   ]
  },
  {
   "cell_type": "code",
   "execution_count": 6,
   "id": "af0233d2",
   "metadata": {},
   "outputs": [
    {
     "name": "stdout",
     "output_type": "stream",
     "text": [
      "points: (302, 2)\n",
      "line_segment_index: (151, 2)\n",
      "grid_points: (2204, 2)\n"
     ]
    }
   ],
   "source": [
    "worldcup_2014_mat = sio.loadmat(f'{TOP_DIR}/data/worldcup2014.mat')\n",
    "_print_dictkeys_shape(worldcup_2014_mat)"
   ]
  },
  {
   "cell_type": "code",
   "execution_count": 7,
   "id": "c67ab742",
   "metadata": {},
   "outputs": [
    {
     "name": "stdout",
     "output_type": "stream",
     "text": [
      "points mean: 52.50027599999999, std: 27.479935120360008, max: 105.000552, min:0.0\n",
      "points mean: 34.001964, std: 11.397408419732242, max: 68.003928, min:0.0\n"
     ]
    }
   ],
   "source": [
    "points = worldcup_2014_mat['points']\n",
    "_print_statistics(points[:, 0], 'points'), _print_statistics(points[:, 1], 'points');"
   ]
  },
  {
   "cell_type": "code",
   "execution_count": 8,
   "id": "57d1bcb3",
   "metadata": {},
   "outputs": [
    {
     "data": {
      "text/plain": [
       "(69, 106, 3)"
      ]
     },
     "execution_count": 8,
     "metadata": {},
     "output_type": "execute_result"
    },
    {
     "data": {
      "image/png": "[encoded data removed]",
      "text/plain": [
       "<Figure size 432x216 with 1 Axes>"
      ]
     },
     "metadata": {
      "needs_background": "light"
     },
     "output_type": "display_data"
    }
   ],
   "source": [
    "w, h = int(np.ceil(points[:, 0].max())), int(np.ceil(points[:, 1].max()))\n",
    "img_soccer_field = np.zeros((h, w, 3), dtype=np.uint8)\n",
    "for idx1, idx2 in worldcup_2014_mat['line_segment_index']:\n",
    "    p1, p2 = points[idx1], points[idx2]\n",
    "    q1 = np.rint(p1).astype(np.int32)\n",
    "    q2 = np.rint(p2).astype(np.int32)\n",
    "    cv2.line(img_soccer_field, tuple(q1), tuple(q2), COLORS.WHITE)\n",
    "    \n",
    "_imshow(img_soccer_field)\n",
    "img_soccer_field.shape"
   ]
  },
  {
   "cell_type": "markdown",
   "id": "edfffac9",
   "metadata": {},
   "source": [
    "### worldcup_dataset_camera_parameter.mat"
   ]
  },
  {
   "cell_type": "code",
   "execution_count": 9,
   "id": "74017cd4",
   "metadata": {},
   "outputs": [
    {
     "name": "stdout",
     "output_type": "stream",
     "text": [
      "cc_max: (1, 3)\n",
      "cc_mean: (1, 3)\n",
      "cc_min: (1, 3)\n",
      "cc_std: (1, 3)\n",
      "fl_max: (1, 1)\n",
      "fl_mean: (1, 1)\n",
      "fl_min: (1, 1)\n",
      "fl_std: (1, 1)\n"
     ]
    }
   ],
   "source": [
    "worldcup_camera_parameter = sio.loadmat(f'{TOP_DIR}/data/worldcup_dataset_camera_parameter.mat')\n",
    "_print_dictkeys_shape(worldcup_camera_parameter)"
   ]
  },
  {
   "cell_type": "markdown",
   "id": "0e77d443",
   "metadata": {},
   "source": [
    "### worldcup_sampled_cameras.mat"
   ]
  },
  {
   "cell_type": "code",
   "execution_count": 10,
   "id": "26bc6c5a",
   "metadata": {},
   "outputs": [
    {
     "name": "stdout",
     "output_type": "stream",
     "text": [
      "pivot_cameras: (91173, 9)\n",
      "positive_cameras: (91173, 9)\n",
      "positive_ious: (91173, 1)\n"
     ]
    }
   ],
   "source": [
    "worldcup_sampled_cameras = sio.loadmat(f'{TOP_DIR}/data/worldcup_sampled_cameras.mat')\n",
    "_print_dictkeys_shape(worldcup_sampled_cameras)"
   ]
  },
  {
   "cell_type": "code",
   "execution_count": 11,
   "id": "526cd06c",
   "metadata": {},
   "outputs": [
    {
     "data": {
      "text/plain": [
       "array([[ 640.      ,  360.      , 3854.144927,    1.6884  ,    0.243943,\n",
       "          -0.213464,   51.974747,  -53.391455,   15.158311],\n",
       "       [ 640.      ,  360.      , 4992.664677,    1.724868,   -0.236567,\n",
       "           0.192668,   58.227037,  -43.640134,   13.287872],\n",
       "       [ 640.      ,  360.      , 2918.389825,    1.736694,    0.138454,\n",
       "          -0.111589,   48.270506,  -47.907207,   14.251457],\n",
       "       [ 640.      ,  360.      , 3604.84738 ,    1.772747,   -0.022877,\n",
       "           0.008633,   53.119063,  -41.81307 ,   14.684627],\n",
       "       [ 640.      ,  360.      , 2797.713665,    1.656788,   -0.239269,\n",
       "           0.21015 ,   52.201609,  -43.969138,   13.911572],\n",
       "       [ 640.      ,  360.      , 4022.714545,    1.738111,   -0.151789,\n",
       "           0.134468,   53.14781 ,  -47.103762,   12.389078]])"
      ]
     },
     "execution_count": 11,
     "metadata": {},
     "output_type": "execute_result"
    }
   ],
   "source": [
    "worldcup_sampled_cameras['pivot_cameras'][12:18]"
   ]
  },
  {
   "cell_type": "markdown",
   "id": "98bab92f",
   "metadata": {},
   "source": [
    "### features/database_camera_feature.mat"
   ]
  },
  {
   "cell_type": "code",
   "execution_count": 12,
   "id": "e4415e09",
   "metadata": {},
   "outputs": [
    {
     "name": "stdout",
     "output_type": "stream",
     "text": [
      "cameras: (91173, 9)\n",
      "features: (91173, 16)\n"
     ]
    }
   ],
   "source": [
    "database_camera_features = sio.loadmat(f'{TOP_DIR}/data/features/database_camera_feature.mat')\n",
    "_print_dictkeys_shape(database_camera_features)"
   ]
  },
  {
   "cell_type": "code",
   "execution_count": 13,
   "id": "ee01a10b",
   "metadata": {},
   "outputs": [
    {
     "data": {
      "text/plain": [
       "array([[ 640.      ,  360.      , 1843.086214,    1.668861,    0.237341,\n",
       "          -0.216936,   51.725313,  -55.24253 ,   13.741604],\n",
       "       [ 640.      ,  360.      , 2735.760138,    1.683446,   -0.439934,\n",
       "           0.380944,   55.36815 ,  -47.510307,   15.00194 ],\n",
       "       [ 640.      ,  360.      , 2636.988208,    1.710394,    0.35452 ,\n",
       "          -0.30104 ,   50.968008,  -56.355524,   13.276288],\n",
       "       [ 640.      ,  360.      , 1969.785521,    1.639676,    0.421219,\n",
       "          -0.381463,   49.688613,  -27.465165,   17.864562],\n",
       "       [ 640.      ,  360.      , 2702.236468,    1.786187,   -0.126308,\n",
       "           0.106665,   49.974861,  -54.884818,   16.401735]])"
      ]
     },
     "execution_count": 13,
     "metadata": {},
     "output_type": "execute_result"
    }
   ],
   "source": [
    "database_camera_features['cameras'][:5]"
   ]
  },
  {
   "cell_type": "code",
   "execution_count": 14,
   "id": "71a9cf9a",
   "metadata": {},
   "outputs": [
    {
     "data": {
      "text/plain": [
       "array([[-0.372055, -0.09087 , -0.259755, -0.208958,  0.21655 , -0.135903,\n",
       "         0.207431,  0.185724, -0.221791,  0.125692,  0.043995,  0.469147,\n",
       "        -0.093933,  0.227581,  0.495774,  0.076366],\n",
       "       [ 0.267115,  0.11651 , -0.386815, -0.154943, -0.17079 , -0.271643,\n",
       "         0.10116 , -0.144005,  0.252797,  0.299399,  0.400056, -0.09353 ,\n",
       "         0.089256,  0.375996,  0.236919,  0.282277],\n",
       "       [ 0.646169, -0.152043, -0.403935, -0.07253 , -0.016389, -0.004778,\n",
       "        -0.090194, -0.087009,  0.240885,  0.287335,  0.152687,  0.284175,\n",
       "        -0.30157 , -0.012018, -0.123235, -0.154816],\n",
       "       [-0.115721, -0.269547,  0.277795, -0.260665, -0.022519,  0.030737,\n",
       "        -0.107026, -0.235174,  0.190954,  0.126271, -0.248658, -0.424408,\n",
       "         0.493188,  0.300325,  0.230555,  0.140185],\n",
       "       [ 0.297994,  0.317869,  0.033043, -0.257077, -0.295638, -0.128306,\n",
       "         0.220009, -0.255847,  0.546875, -0.143696,  0.195117,  0.130659,\n",
       "         0.278087, -0.027115,  0.259274, -0.071265]], dtype=float32)"
      ]
     },
     "execution_count": 14,
     "metadata": {},
     "output_type": "execute_result"
    }
   ],
   "source": [
    "# calculate from siamese neural network\n",
    "database_camera_features['features'][:5]"
   ]
  },
  {
   "cell_type": "markdown",
   "id": "c65d495f",
   "metadata": {},
   "source": [
    "### features/testset_feature.mat"
   ]
  },
  {
   "cell_type": "code",
   "execution_count": 15,
   "id": "e5d52969",
   "metadata": {},
   "outputs": [
    {
     "name": "stdout",
     "output_type": "stream",
     "text": [
      "edge_distances: (180, 320, 1, 186)\n",
      "edge_map: (720, 1280, 1, 186)\n",
      "features: (16, 186)\n"
     ]
    }
   ],
   "source": [
    "testset_features = sio.loadmat(f'{TOP_DIR}/data/features/testset_feature.mat')\n",
    "_print_dictkeys_shape(testset_features)"
   ]
  },
  {
   "cell_type": "code",
   "execution_count": 16,
   "id": "ea8f71a5",
   "metadata": {},
   "outputs": [
    {
     "data": {
      "text/plain": [
       "(180, 320, 1, 4)"
      ]
     },
     "execution_count": 16,
     "metadata": {},
     "output_type": "execute_result"
    }
   ],
   "source": [
    "# calculate by cv.distanceTransform\n",
    "show_num = 4\n",
    "edge_distances_x = testset_features[\"edge_distances\"][..., :show_num]\n",
    "edge_distances_x.shape"
   ]
  },
  {
   "cell_type": "code",
   "execution_count": 17,
   "id": "ad59b9f4",
   "metadata": {},
   "outputs": [
    {
     "data": {
      "image/png": "[encoded data removed]",
      "text/plain": [
       "<Figure size 864x144 with 1 Axes>"
      ]
     },
     "metadata": {
      "needs_background": "light"
     },
     "output_type": "display_data"
    }
   ],
   "source": [
    "_imshow(np.hstack(np.split(edge_distances_x, indices_or_sections=show_num, axis=-1)).squeeze(), color='gray', figsize=(3 * show_num, 2))"
   ]
  },
  {
   "cell_type": "code",
   "execution_count": 19,
   "id": "20646287",
   "metadata": {},
   "outputs": [
    {
     "data": {
      "text/plain": [
       "(720, 1280, 1, 4)"
      ]
     },
     "execution_count": 19,
     "metadata": {},
     "output_type": "execute_result"
    }
   ],
   "source": [
    "show_num = 4\n",
    "edge_map_x = testset_features[\"edge_map\"][..., :show_num]\n",
    "edge_map_x.shape"
   ]
  },
  {
   "cell_type": "code",
   "execution_count": 20,
   "id": "a4a61bb9",
   "metadata": {},
   "outputs": [
    {
     "data": {
      "image/png": "[encoded data removed]",
      "text/plain": [
       "<Figure size 864x144 with 1 Axes>"
      ]
     },
     "metadata": {
      "needs_background": "light"
     },
     "output_type": "display_data"
    }
   ],
   "source": [
    "_imshow(np.hstack(np.split(edge_map_x, indices_or_sections=show_num, axis=-1)).squeeze(), color='gray', figsize=(3 * show_num, 2))"
   ]
  },
  {
   "cell_type": "markdown",
   "id": "7fda7820",
   "metadata": {},
   "source": [
    "### UoT_soccer/train_val.mat"
   ]
  },
  {
   "cell_type": "code",
   "execution_count": 24,
   "id": "f45458fe",
   "metadata": {},
   "outputs": [
    {
     "name": "stdout",
     "output_type": "stream",
     "text": [
      "annotation: (1, 209)\n",
      "meta: (1, 1)\n"
     ]
    }
   ],
   "source": [
    "train_val_UoT = sio.loadmat(f'{TOP_DIR}/data/UoT_soccer/train_val.mat')\n",
    "_print_dictkeys_shape(train_val_UoT)"
   ]
  },
  {
   "cell_type": "code",
   "execution_count": 25,
   "id": "5a1cc4d0",
   "metadata": {},
   "outputs": [
    {
     "data": {
      "text/plain": [
       "array([[(array(['train_val'], dtype='<U9'), array(['/Users/jimmy/Desktop/images/UoT_soccer/train_val'], dtype='<U48'))]],\n",
       "      dtype=[('data_type', 'O'), ('folder', 'O')])"
      ]
     },
     "execution_count": 25,
     "metadata": {},
     "output_type": "execute_result"
    }
   ],
   "source": [
    "train_val_UoT['meta']"
   ]
  },
  {
   "cell_type": "code",
   "execution_count": 26,
   "id": "9317a7d9",
   "metadata": {},
   "outputs": [
    {
     "data": {
      "text/plain": [
       "(numpy.void,\n",
       " (array(['1.jpg'], dtype='<U5'), array([[ -1.21252 ,   0.032872,  64.237605],\n",
       "        [ -0.004756,   0.009247, -19.363899],\n",
       "        [ -0.000126,   0.000496,  -0.053625]])))"
      ]
     },
     "execution_count": 26,
     "metadata": {},
     "output_type": "execute_result"
    }
   ],
   "source": [
    "type(train_val_UoT['annotation'][0][0]), train_val_UoT['annotation'][0][0]"
   ]
  },
  {
   "cell_type": "code",
   "execution_count": 27,
   "id": "b5926082",
   "metadata": {},
   "outputs": [
    {
     "data": {
      "text/plain": [
       "array([(array(['16.jpg'], dtype='<U6'), array([[   9.964002,    1.539575, -775.332768],\n",
       "              [  -0.422633,    0.694584,  152.285376],\n",
       "              [   0.000789,   -0.003297,    0.401312]]))                               ,\n",
       "       (array(['17.jpg'], dtype='<U6'), array([[   8.145961,    1.639647, -688.687658],\n",
       "              [  -0.217398,    0.451414,  126.647341],\n",
       "              [   0.001019,   -0.002626,    0.2949  ]]))                               ],\n",
       "      dtype=[('image_name', 'O'), ('homography', 'O')])"
      ]
     },
     "execution_count": 27,
     "metadata": {},
     "output_type": "execute_result"
    }
   ],
   "source": [
    "train_val_UoT['annotation'][0][15:17]"
   ]
  },
  {
   "cell_type": "code",
   "execution_count": 28,
   "id": "c05a613b",
   "metadata": {},
   "outputs": [
    {
     "name": "stdout",
     "output_type": "stream",
     "text": [
      "grass: (720, 1280)\n"
     ]
    }
   ],
   "source": [
    "h16_gt_mat = sio.loadmat(f'{TOP_DIR}/data/UoT_soccer/16_grass_gt.mat')\n",
    "_print_dictkeys_shape(h16_gt_mat)"
   ]
  },
  {
   "cell_type": "code",
   "execution_count": 29,
   "id": "cb64f4cd",
   "metadata": {
    "scrolled": false
   },
   "outputs": [
    {
     "data": {
      "image/png": "[encoded data removed]",
      "text/plain": [
       "<Figure size 432x216 with 1 Axes>"
      ]
     },
     "metadata": {
      "needs_background": "light"
     },
     "output_type": "display_data"
    }
   ],
   "source": [
    "_imshow(h16_gt_mat['grass'], 'gray')"
   ]
  },
  {
   "cell_type": "markdown",
   "id": "d86f54ef",
   "metadata": {},
   "source": [
    "### UoT_soccer/test.mat (same size with testset_feature.mat)"
   ]
  },
  {
   "cell_type": "code",
   "execution_count": 30,
   "id": "320cc108",
   "metadata": {},
   "outputs": [
    {
     "name": "stdout",
     "output_type": "stream",
     "text": [
      "annotation: (1, 186)\n",
      "meta: (1, 1)\n"
     ]
    }
   ],
   "source": [
    "test_UoT = sio.loadmat(f'{TOP_DIR}/data/UoT_soccer/test.mat')\n",
    "_print_dictkeys_shape(test_UoT)"
   ]
  },
  {
   "cell_type": "code",
   "execution_count": 31,
   "id": "837f2f24",
   "metadata": {},
   "outputs": [
    {
     "data": {
      "text/plain": [
       "array([(array(['16.jpg'], dtype='<U6'), array([[ 11.11628 ,  -6.766282, 188.062353],\n",
       "              [  0.440481,   0.381525, 127.388439],\n",
       "              [ -0.000302,  -0.003024,   0.402609]]))                               ,\n",
       "       (array(['17.jpg'], dtype='<U6'), array([[   1.878536,   -0.059891, -100.151941],\n",
       "              [  -0.030807,    0.022421,   28.215382],\n",
       "              [   0.000111,   -0.000737,    0.08457 ]]))                               ],\n",
       "      dtype=[('image_name', 'O'), ('homography', 'O')])"
      ]
     },
     "execution_count": 31,
     "metadata": {},
     "output_type": "execute_result"
    }
   ],
   "source": [
    "test_UoT['annotation'][0][15:17]"
   ]
  },
  {
   "cell_type": "markdown",
   "id": "dd6e715f",
   "metadata": {},
   "source": [
    "## Plot3D"
   ]
  },
  {
   "cell_type": "code",
   "execution_count": 32,
   "id": "edca5607",
   "metadata": {},
   "outputs": [
    {
     "data": {
      "text/plain": [
       "{'__header__': b'MATLAB 5.0 MAT-file, Platform: MACI64, Created on: Mon Jan 29 09:43:18 2018',\n",
       " '__version__': '1.0',\n",
       " '__globals__': [],\n",
       " 'cc_max': array([[ 60.845633, -16.741782,  23.011261]]),\n",
       " 'cc_mean': array([[ 52.366185, -45.156501,  16.821567]]),\n",
       " 'cc_min': array([[ 45.056791, -66.070204,  10.138713]]),\n",
       " 'cc_std': array([[2.231926, 9.382564, 2.948753]]),\n",
       " 'fl_max': array([[5696.984549]]),\n",
       " 'fl_mean': array([[3018.181398]]),\n",
       " 'fl_min': array([[1463.164684]]),\n",
       " 'fl_std': array([[716.068171]])}"
      ]
     },
     "execution_count": 32,
     "metadata": {},
     "output_type": "execute_result"
    }
   ],
   "source": [
    "worldcup_camera_parameter"
   ]
  },
  {
   "cell_type": "code",
   "execution_count": 90,
   "id": "8df1848a",
   "metadata": {},
   "outputs": [
    {
     "data": {
      "text/plain": [
       "(array([[ 0.996195, -0.      , -0.087156],\n",
       "        [ 0.087156,  0.      ,  0.996195],\n",
       "        [ 0.      , -1.      ,  0.      ]]),\n",
       " array([ 52.366185, -45.156501,  16.821567]))"
      ]
     },
     "execution_count": 90,
     "metadata": {},
     "output_type": "execute_result"
    },
    {
     "data": {
      "application/vnd.jupyter.widget-view+json": {
       "model_id": "f2196debf0224caa8bf93a5b6ccc7f2c",
       "version_major": 2,
       "version_minor": 0
      },
      "image/png": "[encoded data removed]",
      "text/html": [
       "\n",
       "            <div style=\"display: inline-block;\">\n",
       "                <div class=\"jupyter-widgets widget-label\" style=\"text-align: center;\">\n",
       "                    Figure\n",
       "                </div>\n",
       "                <img src='data:image/png;base64,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' width=1152.0/>\n",
       "            </div>\n",
       "        "
      ],
      "text/plain": [
       "Canvas(toolbar=Toolbar(toolitems=[('Home', 'Reset original view', 'home', 'home'), ('Back', 'Back to previous …"
      ]
     },
     "metadata": {},
     "output_type": "display_data"
    }
   ],
   "source": [
    "img_soccer = cv2.cvtColor(img_soccer_field, cv2.COLOR_BGR2RGB)\n",
    "img_soccer = np.transpose(img_soccer, (1, 0, 2))\n",
    "\n",
    "plt.close('all')\n",
    "fig = plt.figure(figsize=(16, 8))\n",
    "ax = fig.add_subplot(111, projection='3d')\n",
    "ax.set(xlim=(-5, img_soccer.shape[0] + 5), ylim=(-45, img_soccer.shape[1] + 5), zlim=(0, 20))\n",
    "ax = pytransform3d.rotations.plot_basis(\n",
    "    ax,\n",
    "    s=10, # 基坐标大小\n",
    "    lw=3,\n",
    ")\n",
    "\n",
    "Rx_neg_90 = pytransform3d.rotations.active_matrix_from_angle(0, np.deg2rad(-90))\n",
    "Ry_pos_00 = pytransform3d.rotations.active_matrix_from_angle(1, np.deg2rad(0))\n",
    "Rz_pos_05 = pytransform3d.rotations.active_matrix_from_angle(2, np.deg2rad(5))\n",
    "# R = pytransform3d.rotations.active_matrix_from_extrinsic_euler_xyz((np.deg2rad(-90), 0, np.deg2rad(5)))\n",
    "R_c = Rz_pos_05 @ Ry_pos_00 @ Rx_neg_90 \n",
    "C = worldcup_camera_parameter['cc_mean'][0]\n",
    "ax = pytransform3d.rotations.plot_basis(\n",
    "    ax,\n",
    "    s=10, lw=3,\n",
    "    R=R_c,\n",
    "    p=C,\n",
    "    # label='Camera PTZ'\n",
    ")\n",
    "xx, yy = np.ogrid[0:img_soccer.shape[0], 0:img_soccer.shape[1]]\n",
    "# 设置x,y,z坐标轴刻度等大小\n",
    "ax.set_box_aspect((np.ptp(xx), np.ptp(yy), 20))\n",
    "ax.plot_surface(xx, yy, np.atleast_2d(0), alpha=0.75, rstride=1, cstride=1, facecolors=img_soccer.astype(np.float32) / 255.0)\n",
    "\n",
    "# Camera\n",
    "f = worldcup_camera_parameter['fl_mean'][0][0]\n",
    "sensor_size = (1280, 720)\n",
    "intrinsic_matrix = np.array([\n",
    "    [f, 0, sensor_size[0] / 2],\n",
    "    [0, f, sensor_size[1] / 2],\n",
    "    [0, 0, 1.0]\n",
    "], dtype=np.float32)\n",
    "\n",
    "# H(p) @ H(R)\n",
    "cam2world = pytransform3d.transformations.transform_from(R=R_c, p=C)\n",
    "pytransform3d.camera.plot_camera(\n",
    "    ax=ax,\n",
    "    cam2world=cam2world,\n",
    "    M=intrinsic_matrix, \n",
    "    sensor_size=sensor_size, # TODO\n",
    "    virtual_image_distance=30,\n",
    "    alpha=0.45, color='#181818'\n",
    ")\n",
    "ax.view_init(elev=30, azim=40, vertical_axis='z')\n",
    "ax.set_title(\"camera transformation\")\n",
    "ax.set_xlabel(\"X-axis\")\n",
    "ax.set_ylabel(\"Y-axis\")\n",
    "ax.set_zlabel(\"Z-axis\")\n",
    "R_c, C"
   ]
  },
  {
   "cell_type": "markdown",
   "id": "976dd16d",
   "metadata": {},
   "source": [
    "### Camera Pose\n",
    "\n",
    "Let $C$ be a column vector describing the location of the camera-center in world coordinates, and let $R_c$\n",
    "be the rotation matrix describing the camera's orientation with respect to the world coordinate axes."
   ]
  },
  {
   "cell_type": "code",
   "execution_count": 34,
   "id": "51516b00",
   "metadata": {},
   "outputs": [
    {
     "data": {
      "text/plain": [
       "array([[ 0.996195, -0.      , -0.087156,  0.      ],\n",
       "       [ 0.087156,  0.      ,  0.996195,  0.      ],\n",
       "       [ 0.      , -1.      ,  0.      ,  0.      ],\n",
       "       [ 0.      ,  0.      ,  0.      ,  1.      ]])"
      ]
     },
     "execution_count": 34,
     "metadata": {},
     "output_type": "execute_result"
    }
   ],
   "source": [
    "R_h = np.eye(4)\n",
    "R_h[:3, :3] = R_c\n",
    "R_h"
   ]
  },
  {
   "cell_type": "code",
   "execution_count": 35,
   "id": "ae582fe2",
   "metadata": {},
   "outputs": [
    {
     "data": {
      "text/plain": [
       "array([[  1.      ,   0.      ,   0.      ,  52.366185],\n",
       "       [  0.      ,   1.      ,   0.      , -45.156501],\n",
       "       [  0.      ,   0.      ,   1.      ,  16.821567],\n",
       "       [  0.      ,   0.      ,   0.      ,   1.      ]])"
      ]
     },
     "execution_count": 35,
     "metadata": {},
     "output_type": "execute_result"
    }
   ],
   "source": [
    "C_h = np.eye(4)\n",
    "C_h[:3, -1] = C\n",
    "C_h"
   ]
  },
  {
   "cell_type": "code",
   "execution_count": 36,
   "id": "ea7ebb99",
   "metadata": {},
   "outputs": [
    {
     "data": {
      "text/plain": [
       "array([[  0.996195,  -0.      ,  -0.087156,  52.366185],\n",
       "       [  0.087156,   0.      ,   0.996195, -45.156501],\n",
       "       [  0.      ,  -1.      ,   0.      ,  16.821567],\n",
       "       [  0.      ,   0.      ,   0.      ,   1.      ]])"
      ]
     },
     "execution_count": 36,
     "metadata": {},
     "output_type": "execute_result"
    }
   ],
   "source": [
    "Pose = C_h @ R_h\n",
    "Pose"
   ]
  },
  {
   "cell_type": "code",
   "execution_count": 37,
   "id": "69d87dd2",
   "metadata": {},
   "outputs": [
    {
     "data": {
      "text/plain": [
       "(array([[  0.996195,   0.087156,   0.      ,   0.      ],\n",
       "        [ -0.      ,   0.      ,  -1.      ,   0.      ],\n",
       "        [ -0.087156,   0.996195,   0.      ,   0.      ],\n",
       "        [ 52.366185, -45.156501,  16.821567,   1.      ]]),\n",
       " array([[  0.996195,   0.087156,   0.      , -48.231267],\n",
       "        [ -0.      ,   0.      ,  -1.      ,  16.821567],\n",
       "        [ -0.087156,   0.996195,   0.      ,  49.548681],\n",
       "        [  0.      ,   0.      ,   0.      ,   1.      ]]))"
      ]
     },
     "execution_count": 37,
     "metadata": {},
     "output_type": "execute_result"
    }
   ],
   "source": [
    "Pose.T, np.linalg.inv(Pose)"
   ]
  },
  {
   "cell_type": "markdown",
   "id": "76766d3f",
   "metadata": {},
   "source": [
    "### Camera Extrinsic\n",
    "\n",
    "Describes how to transform points in world coordinates to camera coordinates. The vector $t$ can be interpreted as the position of the world origin in camera coordinates, and the columns of $R$ represent represent the directions of the world-axes in camera coordinates.\n",
    "\n",
    "The extrinsic matrix is obtained by inverting the camera's pose matrix."
   ]
  },
  {
   "cell_type": "code",
   "execution_count": 38,
   "id": "d056dd4f",
   "metadata": {},
   "outputs": [
    {
     "data": {
      "text/plain": [
       "(array([[ 0.996195,  0.087156,  0.      ],\n",
       "        [-0.      ,  0.      , -1.      ],\n",
       "        [-0.087156,  0.996195,  0.      ]]),\n",
       " array([-48.231267,  16.821567,  49.548681]))"
      ]
     },
     "execution_count": 38,
     "metadata": {},
     "output_type": "execute_result"
    }
   ],
   "source": [
    "R = R_c.T\n",
    "t = -R_c.T @ C\n",
    "R, t"
   ]
  },
  {
   "cell_type": "code",
   "execution_count": null,
   "id": "06fdc76d",
   "metadata": {},
   "outputs": [],
   "source": [
    "raise"
   ]
  },
  {
   "cell_type": "markdown",
   "id": "b6618b9b",
   "metadata": {},
   "source": [
    "## Search Feature"
   ]
  },
  {
   "cell_type": "code",
   "execution_count": 44,
   "id": "349e61bd",
   "metadata": {},
   "outputs": [
    {
     "data": {
      "text/plain": [
       "(numpy.void,\n",
       " array(['16.jpg'], dtype='<U6'),\n",
       " array([[ 11.11628 ,  -6.766282, 188.062353],\n",
       "        [  0.440481,   0.381525, 127.388439],\n",
       "        [ -0.000302,  -0.003024,   0.402609]]))"
      ]
     },
     "execution_count": 44,
     "metadata": {},
     "output_type": "execute_result"
    }
   ],
   "source": [
    "query_index = 15\n",
    "struct_void = test_UoT['annotation'][0][query_index]\n",
    "type(struct_void), struct_void['image_name'], struct_void['homography']"
   ]
  },
  {
   "cell_type": "code",
   "execution_count": 45,
   "id": "ec572b13",
   "metadata": {
    "code_folding": []
   },
   "outputs": [
    {
     "data": {
      "text/plain": [
       "(array(['16.jpg'], dtype='<U6'),\n",
       " array([[ 11.11628 ,  -6.766282, 188.062353],\n",
       "        [  0.440481,   0.381525, 127.388439],\n",
       "        [ -0.000302,  -0.003024,   0.402609]]))"
      ]
     },
     "execution_count": 45,
     "metadata": {},
     "output_type": "execute_result"
    }
   ],
   "source": [
    "# ground truth homography\n",
    "test_image_name, test_gt_h = struct_void\n",
    "test_image_name, test_gt_h"
   ]
  },
  {
   "cell_type": "code",
   "execution_count": 46,
   "id": "240d2b79",
   "metadata": {},
   "outputs": [
    {
     "data": {
      "text/plain": [
       "((16, 186), (91173, 16))"
      ]
     },
     "execution_count": 46,
     "metadata": {},
     "output_type": "execute_result"
    }
   ],
   "source": [
    "testset_features['features'].shape, database_camera_features['features'].shape"
   ]
  },
  {
   "cell_type": "code",
   "execution_count": 47,
   "id": "aa1560df",
   "metadata": {},
   "outputs": [
    {
     "data": {
      "text/plain": [
       "array([ 0.025688, -0.233451, -0.096971, -0.20187 , -0.0677  ,  0.410727,\n",
       "       -0.082704,  0.275503,  0.354157,  0.520592,  0.193371,  0.137005,\n",
       "        0.227932, -0.352738, -0.097878,  0.008252], dtype=float32)"
      ]
     },
     "execution_count": 47,
     "metadata": {},
     "output_type": "execute_result"
    }
   ],
   "source": [
    "database_features, testset_feature_x = database_camera_features['features'], testset_features['features'][:, query_index]\n",
    "testset_feature_x"
   ]
  },
  {
   "cell_type": "code",
   "execution_count": 48,
   "id": "b41f8b37",
   "metadata": {},
   "outputs": [
    {
     "data": {
      "text/plain": [
       "array([74009], dtype=int32)"
      ]
     },
     "execution_count": 48,
     "metadata": {},
     "output_type": "execute_result"
    }
   ],
   "source": [
    "# %%timeit\n",
    "\n",
    "# get the similar camera feature from feature database\n",
    "flann = pyflann.FLANN()\n",
    "result, _ = flann.nn(database_features, testset_feature_x, 1, algorithm=\"kdtree\", trees=8, checks=64)\n",
    "result"
   ]
  },
  {
   "cell_type": "code",
   "execution_count": 49,
   "id": "d2fd627c",
   "metadata": {},
   "outputs": [
    {
     "data": {
      "text/plain": [
       "array([ 640.      ,  360.      , 4444.471781,    1.674882,    0.29559 ,\n",
       "         -0.259898,   51.736009,  -54.392403,   14.967156])"
      ]
     },
     "execution_count": 49,
     "metadata": {},
     "output_type": "execute_result"
    }
   ],
   "source": [
    "retrieved_camera_param = database_camera_features['cameras'][result[0]]\n",
    "retrieved_camera_param"
   ]
  },
  {
   "cell_type": "code",
   "execution_count": 50,
   "id": "b1416993",
   "metadata": {},
   "outputs": [
    {
     "data": {
      "text/plain": [
       "(None,\n",
       " array([ 640.      ,  360.      , 4444.471781,    1.674882,    0.29559 ,\n",
       "          -0.259898,   51.736009,  -54.392403,   14.967156]))"
      ]
     },
     "execution_count": 50,
     "metadata": {},
     "output_type": "execute_result"
    },
    {
     "data": {
      "image/png": "[encoded data removed]",
      "text/plain": [
       "<Figure size 432x216 with 1 Axes>"
      ]
     },
     "metadata": {
      "needs_background": "light"
     },
     "output_type": "display_data"
    }
   ],
   "source": [
    "retrieved_image = SyntheticUtil.camera_to_edge_image(\n",
    "    retrieved_camera_param, worldcup_2014_mat['points'], worldcup_2014_mat['line_segment_index'],\n",
    "    im_h=720, im_w=1280, line_width=4)\n",
    "\n",
    "_imshow(retrieved_image), retrieved_camera_param"
   ]
  },
  {
   "cell_type": "code",
   "execution_count": 51,
   "id": "346d30bc",
   "metadata": {},
   "outputs": [
    {
     "data": {
      "text/plain": [
       "(None,\n",
       " array([ 0.025688, -0.233451, -0.096971, -0.20187 , -0.0677  ,  0.410727,\n",
       "        -0.082704,  0.275503,  0.354157,  0.520592,  0.193371,  0.137005,\n",
       "         0.227932, -0.352738, -0.097878,  0.008252], dtype=float32))"
      ]
     },
     "execution_count": 51,
     "metadata": {},
     "output_type": "execute_result"
    },
    {
     "data": {
      "image/png": "[encoded data removed]",
      "text/plain": [
       "<Figure size 432x216 with 1 Axes>"
      ]
     },
     "metadata": {
      "needs_background": "light"
     },
     "output_type": "display_data"
    }
   ],
   "source": [
    "_imshow(testset_features['edge_map'][..., query_index]), testset_features['features'][..., query_index]"
   ]
  },
  {
   "cell_type": "code",
   "execution_count": 52,
   "id": "fe95ab7c",
   "metadata": {},
   "outputs": [
    {
     "name": "stdout",
     "output_type": "stream",
     "text": [
      "points: (302, 2)\n",
      "line_segment_index: (151, 2)\n",
      "grid_points: (2204, 2)\n"
     ]
    }
   ],
   "source": [
    "_print_dictkeys_shape(worldcup_2014_mat)"
   ]
  },
  {
   "cell_type": "code",
   "execution_count": 53,
   "id": "bb55648e",
   "metadata": {},
   "outputs": [
    {
     "name": "stdout",
     "output_type": "stream",
     "text": [
      "edge_distances: (180, 320, 1, 186)\n",
      "edge_map: (720, 1280, 1, 186)\n",
      "features: (16, 186)\n"
     ]
    }
   ],
   "source": [
    "_print_dictkeys_shape(testset_features)"
   ]
  },
  {
   "cell_type": "markdown",
   "id": "f84c34e4",
   "metadata": {
    "heading_collapsed": true
   },
   "source": [
    "## Utils"
   ]
  },
  {
   "cell_type": "code",
   "execution_count": null,
   "id": "10c72e0e",
   "metadata": {
    "deletable": false,
    "editable": false,
    "hidden": true,
    "run_control": {
     "frozen": true
    }
   },
   "outputs": [],
   "source": [
    "img = cv2.imread(f'{TOP_DIR}/data/16_edge_image.jpg')\n",
    "show_image(img)"
   ]
  },
  {
   "cell_type": "code",
   "execution_count": null,
   "id": "926924ee",
   "metadata": {
    "deletable": false,
    "editable": false,
    "hidden": true,
    "run_control": {
     "frozen": true
    }
   },
   "outputs": [],
   "source": [
    "img = cv2.cvtColor(img, cv.COLOR_BGR2GRAY)\n",
    "show_image(img)"
   ]
  },
  {
   "cell_type": "code",
   "execution_count": null,
   "id": "e8db1aac",
   "metadata": {
    "deletable": false,
    "editable": false,
    "hidden": true,
    "run_control": {
     "frozen": true
    }
   },
   "outputs": [],
   "source": [
    "_, binary_im = cv2.threshold(img, 10, 255, cv.THRESH_BINARY_INV)\n",
    "show_image(binary_im)"
   ]
  },
  {
   "cell_type": "code",
   "execution_count": null,
   "id": "5ac38b59",
   "metadata": {
    "deletable": false,
    "editable": false,
    "hidden": true,
    "run_control": {
     "frozen": true
    }
   },
   "outputs": [],
   "source": [
    "dist_im = cv2.distanceTransform(binary_im, cv.DIST_L2, cv.DIST_MASK_PRECISE)\n",
    "dist_im[dist_im > 255] = 255\n",
    "dist_im = dist_im.astype(np.uint8)\n",
    "show_image(dist_im)"
   ]
  },
  {
   "cell_type": "code",
   "execution_count": null,
   "id": "a6953e28",
   "metadata": {
    "deletable": false,
    "editable": false,
    "hidden": true,
    "run_control": {
     "frozen": true
    }
   },
   "outputs": [],
   "source": [
    "dist_im.max()"
   ]
  },
  {
   "cell_type": "code",
   "execution_count": null,
   "id": "aec19ab8",
   "metadata": {
    "deletable": false,
    "editable": false,
    "hidden": true,
    "run_control": {
     "frozen": true
    }
   },
   "outputs": [],
   "source": [
    "train_sample_data = sio.loadmat('./worldcup_sampled_cameras.mat')"
   ]
  },
  {
   "cell_type": "code",
   "execution_count": null,
   "id": "23fca419",
   "metadata": {
    "deletable": false,
    "editable": false,
    "hidden": true,
    "run_control": {
     "frozen": true
    }
   },
   "outputs": [],
   "source": [
    "train_sample_data.keys()"
   ]
  },
  {
   "cell_type": "code",
   "execution_count": null,
   "id": "25e16a94",
   "metadata": {
    "deletable": false,
    "editable": false,
    "hidden": true,
    "run_control": {
     "frozen": true
    }
   },
   "outputs": [],
   "source": [
    "train_sample_data['pivot_cameras'].shape, train_sample_data['positive_cameras'].shape, train_sample_data['positive_ious'].shape"
   ]
  },
  {
   "cell_type": "code",
   "execution_count": null,
   "id": "6c69ec61",
   "metadata": {
    "deletable": false,
    "editable": false,
    "hidden": true,
    "run_control": {
     "frozen": true
    }
   },
   "outputs": [],
   "source": [
    "for i in range(10000, 10100, 10):\n",
    "    pivot = train_sample_data['pivot_cameras'][i]\n",
    "    print(pivot.tolist())"
   ]
  },
  {
   "cell_type": "code",
   "execution_count": null,
   "id": "55cb0a85",
   "metadata": {
    "deletable": false,
    "editable": false,
    "hidden": true,
    "run_control": {
     "frozen": true
    }
   },
   "outputs": [],
   "source": [
    "for i in range(10000, 10100, 10):\n",
    "    pivot = train_sample_data['positive_cameras'][i]\n",
    "    print(pivot.tolist())"
   ]
  },
  {
   "cell_type": "code",
   "execution_count": null,
   "id": "f7af24bd",
   "metadata": {
    "deletable": false,
    "editable": false,
    "hidden": true,
    "run_control": {
     "frozen": true
    }
   },
   "outputs": [],
   "source": [
    "train_sample_data['positive_cameras'][0]"
   ]
  },
  {
   "cell_type": "markdown",
   "id": "c67f85b9",
   "metadata": {},
   "source": [
    "## Last\n",
    "\n",
    "\n",
    "$$\n",
    "(A @ B)^T = B^T @ A^T\n",
    "$$"
   ]
  },
  {
   "cell_type": "markdown",
   "id": "ad0862c0",
   "metadata": {},
   "source": [
    "### A"
   ]
  },
  {
   "cell_type": "code",
   "execution_count": 39,
   "id": "0d5fe3f2",
   "metadata": {
    "code_folding": [
     0
    ]
   },
   "outputs": [],
   "source": [
    "class RotationUtil:\n",
    "    @staticmethod\n",
    "    def rotate_x_axis(angle):\n",
    "        \"\"\"\n",
    "        rotate coordinate with X axis\n",
    "        https://en.wikipedia.org/wiki/Rotation_matrix + transpose\n",
    "        http://mathworld.wolfram.com/RotationMatrix.html\n",
    "        :param angle: in degree\n",
    "        :return:\n",
    "        \"\"\"\n",
    "        angle = math.radians(angle)\n",
    "        s = math.sin(angle)\n",
    "        c = math.cos(angle)\n",
    "\n",
    "        r = np.asarray([[1, 0, 0],\n",
    "                        [0, c, -s],\n",
    "                        [0, s, c]])\n",
    "        r = np.transpose(r)\n",
    "        return r\n",
    "\n",
    "    @staticmethod\n",
    "    def rotate_y_axis(angle):\n",
    "        \"\"\"\n",
    "        rotate coordinate with X axis\n",
    "        :param angle:\n",
    "        :return:\n",
    "        \"\"\"\n",
    "        angle = math.radians(angle)\n",
    "        s = math.sin(angle)\n",
    "        c = math.cos(angle)\n",
    "\n",
    "        r = np.asarray([[c, 0, s],\n",
    "                        [0, 1, 0],\n",
    "                        [-s, 0, c]])\n",
    "        r = np.transpose(r)\n",
    "        return r\n",
    "\n",
    "    @staticmethod\n",
    "    def rotate_z_axis(angle):\n",
    "        \"\"\"\n",
    "\n",
    "        :param angle:\n",
    "        :return:\n",
    "        \"\"\"\n",
    "        angle = math.radians(angle)\n",
    "        s = math.sin(angle)\n",
    "        c = math.cos(angle)\n",
    "\n",
    "        r = np.asarray([[c, -s, 0],\n",
    "                        [s, c, 0],\n",
    "                        [0, 0, 1]])\n",
    "        r = np.transpose(r)\n",
    "        return r\n",
    "\n",
    "    @staticmethod\n",
    "    def pan_y_tilt_x(pan, tilt):\n",
    "        \"\"\"\n",
    "        Rotation matrix of first pan, then tilt\n",
    "        :param pan:\n",
    "        :param tilt:\n",
    "        :return:\n",
    "        \"\"\"\n",
    "        r_tilt = RotationUtil.rotate_x_axis(tilt)\n",
    "        r_pan = RotationUtil.rotate_y_axis(pan)\n",
    "        m = r_tilt @ r_pan\n",
    "        return m\n",
    "\n",
    "    #  rot_vec, _ = cv.Rodrigues(rotation)\n",
    "    @staticmethod\n",
    "    def rotation_matrix_to_Rodrigues(m):\n",
    "        assert m.shape[0] == 3 and m.shape[1] == 3\n",
    "        rot_vec, _ = cv.Rodrigues(m)\n",
    "        return rot_vec"
   ]
  },
  {
   "cell_type": "code",
   "execution_count": 40,
   "id": "f0e2f956",
   "metadata": {
    "code_folding": [
     0
    ]
   },
   "outputs": [],
   "source": [
    "class ProjectiveCamera:\n",
    "    def __init__(self, fl, u, v, cc, rod_rot):\n",
    "        \"\"\"\n",
    "        :param fl:\n",
    "        :param u:\n",
    "        :param v:\n",
    "        :param cc:\n",
    "        :param rod_rot:\n",
    "        \"\"\"\n",
    "        self.K = np.zeros((3, 3)) # calibration matrix\n",
    "        self.camera_center = np.zeros(3)\n",
    "        self.rotation = np.zeros(3)\n",
    "\n",
    "        self.P = np.zeros((3, 4)) # projection matrix\n",
    "\n",
    "        self.set_calibration(fl, u, v)\n",
    "        self.set_camera_center(cc)\n",
    "        self.set_rotation(rod_rot)\n",
    "\n",
    "    def set_calibration(self, fl, u, v):\n",
    "        \"\"\"\n",
    "        :param fl:\n",
    "        :param u:\n",
    "        :param v:\n",
    "        :return:\n",
    "        \"\"\"\n",
    "        self.K = np.asarray([[fl, 0, u],\n",
    "                             [0, fl, v],\n",
    "                             [0, 0, 1]])\n",
    "        self._recompute_matrix()\n",
    "\n",
    "    def set_camera_center(self, cc):\n",
    "        assert cc.shape[0] == 3\n",
    "\n",
    "        self.camera_center[0] = cc[0]\n",
    "        self.camera_center[1] = cc[1]\n",
    "        self.camera_center[2] = cc[2]\n",
    "        self._recompute_matrix()\n",
    "\n",
    "    def set_rotation(self, rod_rot):\n",
    "        \"\"\"\n",
    "        :param rod_rot: Rodrigues vector\n",
    "        :return:\n",
    "        \"\"\"\n",
    "        assert rod_rot.shape[0] == 3\n",
    "\n",
    "        self.rotation[0] = rod_rot[0]\n",
    "        self.rotation[1] = rod_rot[1]\n",
    "        self.rotation[2] = rod_rot[2]\n",
    "        self._recompute_matrix()\n",
    "\n",
    "    def project_3d(self, x, y, z, w=1.0):\n",
    "        \"\"\"\n",
    "        :param x:\n",
    "        :param y:\n",
    "        :param z:\n",
    "        :return:\n",
    "        \"\"\"\n",
    "        p = np.zeros(4)\n",
    "        p[0],p[1],p[2], p[3] = x, y, z, w\n",
    "        q = self.P @ p\n",
    "        assert q[2] != 0.0\n",
    "        return (q[0]/q[2], q[1]/q[2])\n",
    "\n",
    "    def get_homography(self):\n",
    "        \"\"\"\n",
    "        homography matrix from the projection matrix\n",
    "        :return:\n",
    "        \"\"\"\n",
    "        h = self.P[:, [0, 1,3]]\n",
    "        return h\n",
    "\n",
    "\n",
    "    def _recompute_matrix(self):\n",
    "        \"\"\"\n",
    "        :return:\n",
    "        \"\"\"\n",
    "        P = np.zeros((3, 4))\n",
    "        for i in range(3):\n",
    "            P[i][i] = 1.0\n",
    "\n",
    "        for i in range(3):\n",
    "            P[i][3] = -self.camera_center[i]\n",
    "\n",
    "        r, _ = cv.Rodrigues(self.rotation)\n",
    "        #print(r)\n",
    "        #print('{} {} {}'.format(self.K.shape, r.shape, P.shape))\n",
    "        self.P = self.K @ r @ P"
   ]
  },
  {
   "cell_type": "code",
   "execution_count": 41,
   "id": "e1e3f139",
   "metadata": {
    "code_folding": [
     0
    ]
   },
   "outputs": [],
   "source": [
    "class SyntheticUtil:\n",
    "    @staticmethod\n",
    "    def camera_to_edge_image(camera_data,\n",
    "                             model_points, model_line_segment,\n",
    "                             im_h=720, im_w=1280, line_width=4):\n",
    "        \"\"\"\n",
    "         Project (line) model images using the camera\n",
    "        :param camera_data: 9 numbers\n",
    "        :param model_points:\n",
    "        :param model_line_segment:\n",
    "        :param im_h: 720\n",
    "        :param im_w: 1280\n",
    "        :return: H * W * 3 OpenCV image\n",
    "        \"\"\"\n",
    "        assert camera_data.shape[0] == 9\n",
    "\n",
    "        u, v, fl = camera_data[0:3]\n",
    "        rod_rot = camera_data[3:6]\n",
    "        cc = camera_data[6:9]\n",
    "\n",
    "        camera = ProjectiveCamera(fl, u, v, cc, rod_rot)\n",
    "        im = np.zeros((im_h, im_w, 3), dtype=np.uint8)\n",
    "        n = model_line_segment.shape[0]\n",
    "        color = (255, 255, 255)\n",
    "        for i in range(n):\n",
    "            idx1, idx2 = model_line_segment[i][0], model_line_segment[i][1]\n",
    "            p1, p2 = model_points[idx1], model_points[idx2]\n",
    "            q1 = camera.project_3d(p1[0], p1[1], 0.0, 1.0)\n",
    "            q2 = camera.project_3d(p2[0], p2[1], 0.0, 1.0)\n",
    "            q1 = np.rint(q1).astype(np.int32)\n",
    "            q2 = np.rint(q2).astype(np.int32)\n",
    "            cv.line(im, tuple(q1), tuple(q2), color, thickness=line_width)\n",
    "        return im\n",
    "\n",
    "    @staticmethod\n",
    "    def distance_transform(img):\n",
    "        \"\"\"\n",
    "        :param img: OpenCV Image\n",
    "        :return:\n",
    "        \"\"\"\n",
    "        h, w, c = img.shape\n",
    "        if c == 3:\n",
    "            img = cv.cvtColor(img, cv.COLOR_BGR2GRAY)\n",
    "        else:\n",
    "            assert c == 1\n",
    "\n",
    "        _, binary_im = cv.threshold(img, 10, 255, cv.THRESH_BINARY_INV)\n",
    "\n",
    "        dist_im = cv.distanceTransform(\n",
    "            binary_im, cv.DIST_L2, cv.DIST_MASK_PRECISE)\n",
    "        return dist_im\n",
    "\n",
    "    @staticmethod\n",
    "    def find_transform(im_src, im_dst):\n",
    "        warp = np.eye(3, dtype=np.float32)\n",
    "        criteria = (cv.TERM_CRITERIA_EPS | cv.TERM_CRITERIA_COUNT, 50, 0.001)\n",
    "        # suggested by felibol\n",
    "        # https://github.com/lood339/SCCvSD/issues/8\n",
    "        try:\n",
    "            _, warp = cv.findTransformECC(\n",
    "                im_src, im_dst, warp, cv.MOTION_HOMOGRAPHY, criteria, None, 5)\n",
    "        except:\n",
    "            print('Warning: find transform failed. Set warp as identity')\n",
    "        return warp\n",
    "\n",
    "    @staticmethod\n",
    "    def generate_ptz_cameras(cc_statistics,\n",
    "                             fl_statistics,\n",
    "                             roll_statistics,\n",
    "                             pan_range, tilt_range,\n",
    "                             u, v,\n",
    "                             camera_num):\n",
    "        \"\"\"\n",
    "        Input: PTZ camera base information\n",
    "        Output: randomly sampled camera parameters\n",
    "        :param cc_statistics:\n",
    "        :param fl_statistics:\n",
    "        :param roll_statistics:\n",
    "        :param pan_range:\n",
    "        :param tilt_range:\n",
    "        :param u:\n",
    "        :param v:\n",
    "        :param camera_num:\n",
    "        :return: N * 9 cameras\n",
    "        \"\"\"\n",
    "        cc_mean, cc_std, cc_min, cc_max = cc_statistics\n",
    "        fl_mean, fl_std, fl_min, fl_max = fl_statistics\n",
    "        roll_mean, roll_std, roll_min, roll_max = roll_statistics\n",
    "        pan_min, pan_max = pan_range\n",
    "        tilt_min, tilt_max = tilt_range\n",
    "\n",
    "        # generate random values from the distribution\n",
    "        camera_centers = np.random.normal(cc_mean, cc_std, (camera_num, 3))\n",
    "        focal_lengths = np.random.normal(fl_mean, fl_std, (camera_num, 1))\n",
    "        rolls = np.random.normal(roll_mean, roll_std, (camera_num, 1))\n",
    "        pans = np.random.uniform(pan_min, pan_max, camera_num)\n",
    "        tilts = np.random.uniform(tilt_min, tilt_max, camera_num)\n",
    "\n",
    "        cameras = np.zeros((camera_num, 9))\n",
    "        for i in range(camera_num):\n",
    "            base_rotation = RotationUtil.rotate_y_axis(0) @ RotationUtil.rotate_x_axis(rolls[i]) @\\\n",
    "                RotationUtil.rotate_x_axis(-90)\n",
    "            pan_tilt_rotation = RotationUtil.pan_y_tilt_x(pans[i], tilts[i])\n",
    "            rotation = pan_tilt_rotation @ base_rotation\n",
    "            rot_vec, _ = cv.Rodrigues(rotation)\n",
    "\n",
    "            cameras[i][0], cameras[i][1] = u, v\n",
    "            cameras[i][2] = focal_lengths[i]\n",
    "            cameras[i][3], cameras[i][4], cameras[i][5] = rot_vec[0], rot_vec[1], rot_vec[2]\n",
    "            cameras[i][6], cameras[i][7], cameras[i][8] = camera_centers[i][0], camera_centers[i][1], camera_centers[i][2]\n",
    "        return cameras\n",
    "\n",
    "    @staticmethod\n",
    "    def sample_positive_pair(pp, cc, base_roll, pan, tilt, fl,\n",
    "                             pan_std, tilt_std, fl_std):\n",
    "        \"\"\"\n",
    "        Sample a camera that has similar pan-tilt-zoom with (pan, tilt, fl).\n",
    "        The pair of the camera will be used a positive-pair in the training\n",
    "        :param pp: [u, v]\n",
    "        :param cc: camera center\n",
    "        :param base_roll: camera base, roll angle\n",
    "        :param pan:\n",
    "        :param tilt:\n",
    "        :param fl:\n",
    "        :param pan_std:\n",
    "        :param tilt_std:\n",
    "        :param fl_std:\n",
    "        :return:\n",
    "        \"\"\"\n",
    "\n",
    "        def get_nearby_data(d, std):\n",
    "            assert std > 0\n",
    "            delta = np.random.uniform(-0.5, 0.5, 1) * std\n",
    "            return d + delta\n",
    "\n",
    "        pan = get_nearby_data(pan, pan_std)\n",
    "        tilt = get_nearby_data(tilt, tilt_std)\n",
    "        fl = get_nearby_data(fl, fl_std)\n",
    "\n",
    "        camera = np.zeros(9)\n",
    "        camera[0] = pp[0]\n",
    "        camera[1] = pp[1]\n",
    "        camera[2] = fl\n",
    "\n",
    "        base_rotation = RotationUtil.rotate_y_axis(0) @ RotationUtil.rotate_y_axis(base_roll) @\\\n",
    "            RotationUtil.rotate_x_axis(-90)\n",
    "        pan_tilt_rotation = RotationUtil.pan_y_tilt_x(pan, tilt)\n",
    "        rotation = pan_tilt_rotation @ base_rotation\n",
    "        rot_vec = RotationUtil.rotation_matrix_to_Rodrigues(rotation)\n",
    "        camera[3: 6] = rot_vec.squeeze()\n",
    "        camera[6: 9] = cc\n",
    "        return camera\n",
    "\n",
    "    @staticmethod\n",
    "    def generate_database_images(pivot_cameras, positive_cameras,\n",
    "                                 model_points, model_line_segment):\n",
    "        \"\"\"\n",
    "        Default size 180 x 320 (h x w)\n",
    "        Generate database image for siamese network training\n",
    "        :param pivot_cameras:\n",
    "        :param positive_cameras:\n",
    "        :return:\n",
    "        \"\"\"\n",
    "        n = pivot_cameras.shape[0]\n",
    "        assert n == positive_cameras.shape[0]\n",
    "\n",
    "        # N x 1 x H x W pivot images\n",
    "        # N x 1 x H x w positive image\n",
    "        # negative pairs are randomly selected\n",
    "        im_h, im_w = 180, 320\n",
    "        pivot_images = np.zeros((n, 1, im_h, im_w), dtype=np.uint8)\n",
    "        positive_images = np.zeros((n, 1, im_h, im_w), dtype=np.uint8)\n",
    "\n",
    "        for i in range(n):\n",
    "            piv_cam = pivot_cameras[i, :]\n",
    "            pos_cam = positive_cameras[i, :]\n",
    "\n",
    "            piv_im = SyntheticUtil.camera_to_edge_image(\n",
    "                piv_cam, model_points, model_line_segment, 720, 1280, 4)\n",
    "            pos_im = SyntheticUtil.camera_to_edge_image(\n",
    "                pos_cam, model_points, model_line_segment, 720, 1280, 4)\n",
    "\n",
    "            # to a smaller image\n",
    "            piv_im = cv.resize(piv_im, (im_w, im_h))\n",
    "            pos_im = cv.resize(pos_im, (im_w, im_h))\n",
    "\n",
    "            # to a gray image\n",
    "            piv_im = cv.cvtColor(piv_im, cv.COLOR_BGR2GRAY)\n",
    "            pos_im = cv.cvtColor(pos_im, cv.COLOR_RGB2GRAY)\n",
    "\n",
    "            pivot_images[i, 0, :, :] = piv_im\n",
    "            positive_images[i, 0, :, :] = pos_im\n",
    "\n",
    "        return (pivot_images, positive_images)"
   ]
  },
  {
   "cell_type": "code",
   "execution_count": 57,
   "id": "6e888e32",
   "metadata": {
    "code_folding": [
     0
    ]
   },
   "outputs": [],
   "source": [
    "class IouUtil:\n",
    "    @staticmethod\n",
    "    def homography_warp(h, image, dst_size, background_color):\n",
    "        \"\"\"\n",
    "        :param h:\n",
    "        :param image:\n",
    "        :param dst_size:\n",
    "        :param background_color:\n",
    "        :return:\n",
    "        \"\"\"\n",
    "        assert h.shape == (3, 3)\n",
    "        im_dst = cv.warpPerspective(image, h, dst_size, borderMode=cv.BORDER_CONSTANT, borderValue=background_color)\n",
    "        return im_dst\n",
    "\n",
    "    @staticmethod\n",
    "    def template_to_image_homography_uot(camera, template_h=74, template_w=115):\n",
    "        \"\"\"\n",
    "        Only for UofT soccer model\n",
    "        camera: measured in meter\n",
    "        template_h, template_w: measured in yard\n",
    "        template is an image\n",
    "        template original point at top left of image, every pixel is 3 inch\n",
    "\n",
    "        :param camera: projective camera\n",
    "        :param template_h:\n",
    "        :param template_w:\n",
    "        :return: a homography matrix from template to image\n",
    "        \"\"\"\n",
    "        assert (template_h, template_w) == (74, 115)\n",
    "\n",
    "        yard2meter = 0.9144\n",
    "\n",
    "        # flip template in y direction\n",
    "        m1 = np.asarray([[1, 0, 0],\n",
    "                         [0, -1, template_h],\n",
    "                         [0, 0, 1]])\n",
    "        # scale\n",
    "        m2 = np.asarray([[yard2meter, 0, 0],\n",
    "                         [0, yard2meter, 0],\n",
    "                         [0, 0, 1]])\n",
    "        tempalte2world = m2 @ m1\n",
    "        world2image = camera.get_homography()\n",
    "        h = world2image @ tempalte2world\n",
    "        return h\n",
    "\n",
    "    @staticmethod\n",
    "    def iou_on_template_uot(gt_h, pred_h, im_h=720, im_w=1280, template_h=74, template_w=115):\n",
    "        im = np.ones((im_h, im_w, 3), dtype=np.uint8) * 255\n",
    "        gt_mask = IouUtil.homography_warp(np.linalg.inv(gt_h), im, (template_w, template_h), (0))\n",
    "        pred_mask = IouUtil.homography_warp(np.linalg.inv(pred_h), im, (template_w, template_h), (0))\n",
    "\n",
    "        val_intersection = (gt_mask != 0) * (pred_mask != 0)\n",
    "        val_union = (gt_mask != 0) + (pred_mask != 0)\n",
    "        u = float(np.sum(val_union))\n",
    "        if u <= 0:\n",
    "            iou = 0\n",
    "        else:\n",
    "            iou = 1.0 * np.sum(val_intersection) / u\n",
    "        return iou\n",
    "\n"
   ]
  },
  {
   "cell_type": "code",
   "execution_count": 42,
   "id": "b5f3f471",
   "metadata": {
    "code_folding": [
     0
    ]
   },
   "outputs": [],
   "source": [
    "# C\n",
    "def ut_camera_to_edge_image():\n",
    "    import scipy.io as sio\n",
    "    # this camera is from UoT world cup dataset, train, index 16\n",
    "    camera_data = np.asarray([640, 360, 3081.976880,\n",
    "                              1.746393, -0.321347, 0.266827,\n",
    "                              52.816224, -54.753716, 19.960425])\n",
    "    data = sio.loadmat(f'{TOP_DIR}/data/worldcup2014.mat')\n",
    "    model_points = data['points']\n",
    "    model_line_index = data['line_segment_index']\n",
    "    im = SyntheticUtil.camera_to_edge_image(\n",
    "        camera_data, model_points, model_line_index, 720, 1280, line_width=4)\n",
    "    return im\n",
    "\n",
    "\n",
    "def ut_generate_ptz_cameras():\n",
    "    \"\"\"\n",
    "    Generate PTZ camera demo:  Section 3.1\n",
    "    \"\"\"\n",
    "    import scipy.io as sio\n",
    "    data = sio.loadmat('../../data/worldcup_dataset_camera_parameter.mat')\n",
    "    print(data.keys())\n",
    "\n",
    "    cc_mean = data['cc_mean']\n",
    "    cc_std = data['cc_std']\n",
    "    cc_min = data['cc_min']\n",
    "    cc_max = data['cc_max']\n",
    "    cc_statistics = [cc_mean, cc_std, cc_min, cc_max]\n",
    "\n",
    "    fl_mean = data['fl_mean']\n",
    "    fl_std = data['fl_std']\n",
    "    fl_min = data['fl_min']\n",
    "    fl_max = data['fl_max']\n",
    "    fl_statistics = [fl_mean, fl_std, fl_min, fl_max]\n",
    "    roll_statistics = [0, 0.2, -1.0, 1.0]\n",
    "\n",
    "    pan_range = [-35.0, 35.0]\n",
    "    tilt_range = [-15.0, -5.0]\n",
    "    num_camera = 10\n",
    "\n",
    "    cameras = SyntheticUtil.generate_ptz_cameras(cc_statistics,\n",
    "                                                 fl_statistics,\n",
    "                                                 roll_statistics,\n",
    "                                                 pan_range, tilt_range,\n",
    "                                                 1280/2.0, 720/2.0,\n",
    "                                                 num_camera)\n",
    "\n",
    "    data = sio.loadmat('../../data/worldcup2014.mat')\n",
    "    model_points = data['points']\n",
    "    model_line_index = data['line_segment_index']\n",
    "    for i in range(num_camera):\n",
    "        cam = cameras[i]\n",
    "        print(cam[0:3])\n",
    "        im = SyntheticUtil.camera_to_edge_image(\n",
    "            cam, model_points, model_line_index, 720, 1280, line_width=4)\n",
    "        print(im.shape)\n",
    "        cv.imshow('image from camera', im)\n",
    "        cv.waitKey(1000)\n",
    "    cv.destroyAllWindows()\n",
    "\n",
    "\n",
    "def ut_sample_positive_pair():\n",
    "    \"\"\"\n",
    "    def sample_positive_pair(pp, cc, base_roll, pan, tilt, fl,\n",
    "                             pan_std, tilt_std, fl_std):\n",
    "    \"\"\"\n",
    "    import scipy.io as sio\n",
    "    data = sio.loadmat('../../data/worldcup_dataset_camera_parameter.mat')\n",
    "    cc_mean = data['cc_mean']\n",
    "\n",
    "    pp = np.asarray([1280.0/2, 720.0/2])\n",
    "    cc = cc_mean\n",
    "    base_roll = np.random.uniform(-0.5, 0.5)\n",
    "    pan = 10.0\n",
    "    tilt = -10.0\n",
    "    fl = 3800\n",
    "    pan_std = 1.5\n",
    "    tilt_std = 0.75\n",
    "    fl_std = 30\n",
    "\n",
    "    camera = np.zeros(9)\n",
    "    camera[0] = 640.000000\n",
    "    camera[1] = 360.000000\n",
    "    camera[2] = fl\n",
    "\n",
    "    base_rotation = RotationUtil.rotate_y_axis(0) @ \\\n",
    "        RotationUtil.rotate_z_axis(base_roll) @ \\\n",
    "        RotationUtil.rotate_x_axis(-90)\n",
    "    pan_tilt_rotation = RotationUtil.pan_y_tilt_x(pan, tilt)\n",
    "    rotation = pan_tilt_rotation @ base_rotation\n",
    "    rot_vec, _ = cv.Rodrigues(rotation)\n",
    "    camera[3: 6] = rot_vec.squeeze()\n",
    "    camera[6: 9] = cc\n",
    "\n",
    "    pivot = camera\n",
    "\n",
    "    positive = SyntheticUtil.sample_positive_pair(pp, cc, base_roll, pan, tilt, fl,\n",
    "                                                  pan_std, tilt_std, fl_std)\n",
    "\n",
    "    data = sio.loadmat('../../data/worldcup2014.mat')\n",
    "    print(data.keys())\n",
    "    model_points = data['points']\n",
    "    model_line_index = data['line_segment_index']\n",
    "\n",
    "    im1 = SyntheticUtil.camera_to_edge_image(\n",
    "        pivot, model_points, model_line_index, 720, 1280)\n",
    "    im2 = SyntheticUtil.camera_to_edge_image(\n",
    "        positive, model_points, model_line_index, 720, 1280)\n",
    "    cv.imshow(\"pivot\", im1)\n",
    "    cv.imshow(\"positive\", im2)\n",
    "    cv.waitKey(5000)\n",
    "\n",
    "\n",
    "def ut_generate_database_images():\n",
    "    import scipy.io as sio\n",
    "    data = sio.loadmat('../../data/worldcup_sampled_cameras.mat')\n",
    "    pivot_cameras = data['pivot_cameras']\n",
    "    positive_cameras = data['positive_cameras']\n",
    "\n",
    "    n = 10000\n",
    "    pivot_cameras = pivot_cameras[0:n, :]\n",
    "    positive_cameras = positive_cameras[0:n, :]\n",
    "\n",
    "    data = sio.loadmat('../../data/worldcup2014.mat')\n",
    "    print(data.keys())\n",
    "    model_points = data['points']\n",
    "    model_line_index = data['line_segment_index']\n",
    "\n",
    "    pivot_images, positive_images = SyntheticUtil.generate_database_images(pivot_cameras, positive_cameras,\n",
    "                                                                           model_points, model_line_index)\n",
    "\n",
    "    # print('{} {}'.format(pivot_images.shape, positive_images.shape))\n",
    "    sio.savemat('train_data_10k.mat', {'pivot_images': pivot_images,\n",
    "                                       'positive_images': positive_images,\n",
    "                                       'cameras': pivot_cameras})\n",
    "\n",
    "\n",
    "def ut_distance_transform():\n",
    "    im = cv.imread('../../data/16_edge_image.jpg')\n",
    "    dist_im = SyntheticUtil.distance_transform(im)\n",
    "\n",
    "    dist_im[dist_im > 255] = 255\n",
    "    dist_im = dist_im.astype(np.uint8)\n",
    "    cv.imshow('distance image', dist_im)\n",
    "    cv.waitKey()"
   ]
  },
  {
   "cell_type": "code",
   "execution_count": 59,
   "id": "a0738e3a",
   "metadata": {},
   "outputs": [
    {
     "name": "stdout",
     "output_type": "stream",
     "text": [
      "homography is [[   2837.205305     472.286743 -224745.460802]\n",
      " [    -76.027693     216.571515   37129.767227]\n",
      " [      0.321135      -0.837194      97.445473]]\n"
     ]
    }
   ],
   "source": [
    "def ut_template_to_image_homography_uot():\n",
    "    camera_data = np.asarray([640, 360, 3081.976880,\n",
    "                              1.746393, -0.321347, 0.266827,\n",
    "                              52.816224, -54.753716, 19.960425])\n",
    "\n",
    "    u, v, fl = camera_data[0:3]\n",
    "    rod_rot = camera_data[3:6]\n",
    "    cc = camera_data[6:9]\n",
    "\n",
    "    camera = ProjectiveCamera(fl, u, v, cc, rod_rot)\n",
    "\n",
    "    h = IouUtil.template_to_image_homography_uot(camera)\n",
    "    print('homography is {}'.format(h))\n",
    "\n",
    "ut_template_to_image_homography_uot()"
   ]
  },
  {
   "cell_type": "code",
   "execution_count": null,
   "id": "7c002db0",
   "metadata": {},
   "outputs": [],
   "source": [
    "def ut_generate_grassland_mask():\n",
    "    # An example of generate soft mask for grassland segmentation\n",
    "    import scipy.io as sio\n",
    "\n",
    "    index = 16 - 1   # image index from 1\n",
    "    data = sio.loadmat('../../data/UoT_soccer/train_val.mat')\n",
    "    annotation = data['annotation']\n",
    "    homo = annotation[0][index][1]  # ground truth homography\n",
    "\n",
    "    # step 1: generate a 'hard' grass mask\n",
    "    template_h = 74\n",
    "    template_w = 115\n",
    "    tempalte_im = np.ones((template_h, template_w, 1), dtype=np.uint8) * 255\n",
    "\n",
    "    grass_mask = IouUtil.homography_warp(homo, tempalte_im, (1280, 720), (0));\n",
    "    cv.imshow('grass mask', grass_mask)\n",
    "    cv.waitKey(0)\n",
    "\n",
    "    # step 2: generate a 'soft' grass mask\n",
    "    dist_threshold = 30  # change this value to change mask boundary\n",
    "    _, binary_im = cv.threshold(grass_mask, 10, 255, cv.THRESH_BINARY_INV)\n",
    "\n",
    "    dist_im = cv.distanceTransform(binary_im, cv.DIST_L2, cv.DIST_MASK_PRECISE)\n",
    "\n",
    "    dist_im[dist_im > dist_threshold] = dist_threshold\n",
    "    soft_mask = 1.0 - dist_im / dist_threshold  # normalize to [0, 1]\n",
    "\n",
    "    cv.imshow('soft mask', soft_mask)\n",
    "    cv.waitKey(0)\n",
    "\n",
    "    # step 3: soft mask on the original image\n",
    "    stacked_mask = np.stack((soft_mask,) * 3, axis=-1)\n",
    "    im = cv.imread('../../data/16.jpg')\n",
    "    # soft_im = cv.multiply(stacked_mask, im.astype(np.float32)).astype(np.uint8)\n",
    "    # cv.imshow('soft masked image', soft_im)\n",
    "    # cv.waitKey(0)\n"
   ]
  },
  {
   "cell_type": "code",
   "execution_count": 63,
   "id": "c5cddec6",
   "metadata": {},
   "outputs": [
    {
     "data": {
      "text/plain": [
       "array([[   9.964002,    1.539575, -775.332768],\n",
       "       [  -0.422633,    0.694584,  152.285376],\n",
       "       [   0.000789,   -0.003297,    0.401312]])"
      ]
     },
     "execution_count": 63,
     "metadata": {},
     "output_type": "execute_result"
    }
   ],
   "source": [
    "homo = train_val_UoT['annotation'][0][15][1]\n",
    "homo"
   ]
  },
  {
   "cell_type": "code",
   "execution_count": 64,
   "id": "ecf6219b",
   "metadata": {},
   "outputs": [],
   "source": [
    "template_h = 74\n",
    "template_w = 115\n",
    "tempalte_im = np.ones((template_h, template_w, 1), dtype=np.uint8) * 255"
   ]
  },
  {
   "cell_type": "code",
   "execution_count": 72,
   "id": "25a0fe58",
   "metadata": {},
   "outputs": [
    {
     "data": {
      "image/png": "[encoded data removed]",
      "text/plain": [
       "<Figure size 864x576 with 1 Axes>"
      ]
     },
     "metadata": {
      "needs_background": "light"
     },
     "output_type": "display_data"
    }
   ],
   "source": [
    "grass_mask = IouUtil.homography_warp(homo, tempalte_im, (1280, 720), (0));\n",
    "show_image(grass_mask)"
   ]
  },
  {
   "cell_type": "code",
   "execution_count": 73,
   "id": "fec48ae4",
   "metadata": {},
   "outputs": [
    {
     "data": {
      "image/png": "[encoded data removed]",
      "text/plain": [
       "<Figure size 864x576 with 1 Axes>"
      ]
     },
     "metadata": {
      "needs_background": "light"
     },
     "output_type": "display_data"
    }
   ],
   "source": [
    "dist_threshold = 30\n",
    "_, binary_im = cv.threshold(grass_mask, 10, 255, cv.THRESH_BINARY_INV)\n",
    "dist_im = cv.distanceTransform(binary_im, cv.DIST_L2, cv.DIST_MASK_PRECISE)\n",
    "dist_im[dist_im > dist_threshold] = dist_threshold\n",
    "show_image(dist_im)"
   ]
  },
  {
   "cell_type": "code",
   "execution_count": 74,
   "id": "d32a0c30",
   "metadata": {},
   "outputs": [],
   "source": [
    " soft_mask = 1.0 - dist_im / dist_threshold"
   ]
  },
  {
   "cell_type": "code",
   "execution_count": 76,
   "id": "b369a4fd",
   "metadata": {},
   "outputs": [
    {
     "data": {
      "image/png": "[encoded data removed]",
      "text/plain": [
       "<Figure size 432x216 with 1 Axes>"
      ]
     },
     "metadata": {
      "needs_background": "light"
     },
     "output_type": "display_data"
    }
   ],
   "source": [
    "stacked_mask = np.stack((soft_mask,) * 3, axis=-1)\n",
    "_imshow(stacked_mask)"
   ]
  },
  {
   "cell_type": "code",
   "execution_count": 80,
   "id": "4e03400c",
   "metadata": {},
   "outputs": [],
   "source": [
    "im = cv.imread(f'{TOP_DIR}/data/UoT_soccer/16.jpg')\n",
    "soft_im = cv.multiply(stacked_mask, im.astype(np.float32)).astype(np.uint8)"
   ]
  },
  {
   "cell_type": "code",
   "execution_count": 82,
   "id": "d0ec1c0d",
   "metadata": {},
   "outputs": [
    {
     "data": {
      "image/png": "[encoded data removed]",
      "text/plain": [
       "<Figure size 432x216 with 1 Axes>"
      ]
     },
     "metadata": {
      "needs_background": "light"
     },
     "output_type": "display_data"
    }
   ],
   "source": [
    "_imshow(soft_im)"
   ]
  },
  {
   "cell_type": "code",
   "execution_count": 88,
   "id": "5b7efef0",
   "metadata": {},
   "outputs": [
    {
     "data": {
      "text/plain": [
       "(None, (74, 115, 3))"
      ]
     },
     "execution_count": 88,
     "metadata": {},
     "output_type": "execute_result"
    },
    {
     "data": {
      "image/png": "[encoded data removed]",
      "text/plain": [
       "<Figure size 864x576 with 1 Axes>"
      ]
     },
     "metadata": {
      "needs_background": "light"
     },
     "output_type": "display_data"
    }
   ],
   "source": [
    "camera_data = np.asarray([640, 360, 3081.976880,\n",
    "                          1.746393, -0.321347, 0.266827,\n",
    "                          52.816224, -54.753716, 19.960425])\n",
    "\n",
    "u, v, fl = camera_data[0:3]\n",
    "rod_rot = camera_data[3:6]\n",
    "cc = camera_data[6:9]\n",
    "\n",
    "camera = ProjectiveCamera(fl, u, v, cc, rod_rot)\n",
    "h = camera.get_homography()\n",
    "inv_h = np.linalg.inv(h)\n",
    "\n",
    "#homography_warp(h, image, dst_size, background_color):\n",
    "template_size = (115, 74);\n",
    "warped_im = IouUtil.homography_warp(inv_h, im, template_size, (0, 0, 0))\n",
    "show_image(warped_im), warped_im.shape"
   ]
  },
  {
   "cell_type": "markdown",
   "id": "093ff2ce",
   "metadata": {},
   "source": [
    "## Referencs"
   ]
  },
  {
   "cell_type": "markdown",
   "id": "c903fd47",
   "metadata": {},
   "source": [
    "- https://wikiless.org/wiki/Rotation_matrix?lang=en\n",
    "- https://nhoma.github.io/ \"数据集\"\n",
    "- https://github.com/lood339/SCCvSD/\n",
    "- [Dissecting the Camera Matrix, Part 2: The Extrinsic Matrix][1]\n",
    "\n",
    "[1]: https://ksimek.github.io/2012/08/22/extrinsic/"
   ]
  },
  {
   "cell_type": "markdown",
   "id": "821ed9ff",
   "metadata": {},
   "source": [
    "## B"
   ]
  },
  {
   "cell_type": "code",
   "execution_count": null,
   "id": "281648cf",
   "metadata": {},
   "outputs": [],
   "source": []
  }
 ],
 "metadata": {
  "hide_input": false,
  "kernelspec": {
   "display_name": "Python 3 (ipykernel)",
   "language": "python",
   "name": "python3"
  },
  "language_info": {
   "codemirror_mode": {
    "name": "ipython",
    "version": 3
   },
   "file_extension": ".py",
   "mimetype": "text/x-python",
   "name": "python",
   "nbconvert_exporter": "python",
   "pygments_lexer": "ipython3",
   "version": "3.8.10"
  },
  "toc": {
   "base_numbering": 1,
   "nav_menu": {},
   "number_sections": true,
   "sideBar": false,
   "skip_h1_title": true,
   "title_cell": "Contents",
   "title_sidebar": "Contents",
   "toc_cell": false,
   "toc_position": {
    "height": "557.688px",
    "left": "1411.19px",
    "top": "67.125px",
    "width": "429px"
   },
   "toc_section_display": true,
   "toc_window_display": true
  }
 },
 "nbformat": 4,
 "nbformat_minor": 5
}
