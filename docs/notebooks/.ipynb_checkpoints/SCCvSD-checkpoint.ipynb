{
 "cells": [
  {
   "cell_type": "markdown",
   "id": "b288da3a",
   "metadata": {
    "heading_collapsed": true
   },
   "source": [
    "## Import"
   ]
  },
  {
   "cell_type": "code",
   "execution_count": 1,
   "id": "72860380",
   "metadata": {
    "hidden": true
   },
   "outputs": [],
   "source": [
    "%reload_ext watermark\n",
    "%reload_ext autoreload\n",
    "%autoreload 2\n",
    "# %watermark -p numpy,sklearn,pandas\n",
    "# %watermark -p ipywidgets,cv2,PIL,matplotlib,plotly,netron\n",
    "# %watermark -p torch,torchvision,torchaudio\n",
    "# %watermark -p tensorflow,tensorboard,tflite\n",
    "# %watermark -p onnx,tf2onnx,onnxruntime,tensorrt,tvm\n",
    "# %matplotlib inline\n",
    "# %config InlineBackend.figure_format='retina'\n",
    "# %config IPCompleter.use_jedi = False\n",
    "\n",
    "%matplotlib inline\n",
    "# %matplotlib widget\n",
    "# from IPython.display import display, Markdown, HTML, IFrame, Image, Javascript\n",
    "# from IPython.core.magic import register_line_cell_magic, register_line_magic, register_cell_magic\n",
    "# display(HTML('<style>.container { width:%d%% !important; }</style>' % 90))\n",
    "\n",
    "import sys, os, io, logging, time, random, math\n",
    "import json, base64, requests, shutil\n",
    "import argparse, shlex, signal\n",
    "import numpy as np\n",
    "import scipy.io as sio\n",
    "\n",
    "argparse.ArgumentParser.exit = lambda *arg, **kwargs: _IGNORE_\n",
    "\n",
    "def _IMPORT(x, tag='main', debug=False):\n",
    "    def __request_text(url):\n",
    "        response = requests.get(url)\n",
    "        if response.status_code == 200:\n",
    "            return response.text\n",
    "        else:\n",
    "            raise RuntimeError(url)\n",
    "    try:\n",
    "        x = x.strip()\n",
    "        if x[0] == '/' or x[1] == '/':\n",
    "            with open(x) as fr:\n",
    "                x = fr.read()\n",
    "        elif 'github' in x or 'gitee' in x:\n",
    "            if x.startswith('import '):\n",
    "                x = x[7:]\n",
    "            if x.startswith('https://'):\n",
    "                x = x[8:]\n",
    "            if not x.endswith('.py'):\n",
    "                x = x + '.py'\n",
    "            x = x.replace('blob/main/', '').replace('blob/master/', '')\n",
    "            if x.startswith('raw.githubusercontent.com'):\n",
    "                x = 'https://' + x\n",
    "                x = __request_text(x)\n",
    "            elif x.startswith('github.com'):\n",
    "                x = x.replace('github.com', 'raw.githubusercontent.com')\n",
    "                mod = x.split('/')\n",
    "                x = 'https://' + '/'.join(mod[:3]) + f'/{tag}/' + '/'.join(mod[-3:])\n",
    "                x = __request_text(x)\n",
    "            elif x.startswith('gitee.com'):\n",
    "                mod = x.split('/')\n",
    "                x = 'https://' + '/'.join(mod[:3]) + f'/raw/{tag}/' + '/'.join(mod[3:])\n",
    "                x = __request_text(x)\n",
    "        if debug:\n",
    "            return x\n",
    "        else:\n",
    "            exec(x, globals())\n",
    "    except Exception as err:\n",
    "        # sys.stderr.write(f'request {x} : {err}')\n",
    "       pass\n",
    "\n",
    "def _DIR(x, dumps=True, ret=True):\n",
    "    attrs = sorted([y for y in dir(x) if not y.startswith('_')])\n",
    "    result = '%s: %s' % (str(type(x))[8:-2], json.dumps(attrs) if dumps else attrs)\n",
    "    if ret:\n",
    "        return result\n",
    "    print(result)\n",
    "\n",
    "\n",
    "###\n",
    "### Display ###\n",
    "###\n",
    "\n",
    "_IMPORT('import pandas as pd')\n",
    "_IMPORT('import cv2')\n",
    "_IMPORT('from PIL import Image')\n",
    "_IMPORT('import matplotlib.pyplot as plt')\n",
    "_IMPORT('import plotly')\n",
    "_IMPORT('import plotly.graph_objects as go')\n",
    "_IMPORT('import ipywidgets as widgets')\n",
    "_IMPORT('from ipywidgets import interact, interactive, fixed, interact_manual')\n",
    "\n",
    "# plotly.offline.init_notebook_mode(connected=False)\n",
    "\n",
    "plt.rcParams['figure.figsize'] = (12.0, 8.0)\n",
    "# from matplotlib.font_manager import FontProperties\n",
    "# simsun = FontProperties(fname='/sysfonts/simsun.ttc', size=12)\n",
    "\n",
    "    \n",
    "def show_image(imgsrc, width=None, height=None, rgb=True):\n",
    "    if isinstance(imgsrc, np.ndarray):\n",
    "        img = imgsrc\n",
    "        if width or height:\n",
    "            if width and height:\n",
    "                size = (width, height)\n",
    "            else:\n",
    "                rate = img.shape[1] / img.shape[0]\n",
    "                if width:\n",
    "                    size = (width, int(width/rate))\n",
    "                else:\n",
    "                    size = (int(height*rate), height)\n",
    "            img = cv2.resize(img, size)\n",
    "            plt.figure(figsize=(3*int(size[0]/80+1), 3*int(size[1]/80+1)), dpi=80)\n",
    "        plt.axis('off')\n",
    "        if len(img.shape) > 2:\n",
    "            if not rgb:\n",
    "                img = cv2.cvtColor(img, cv2.COLOR_BGR2RGB)\n",
    "            plt.imshow(img);\n",
    "        else:\n",
    "            plt.imshow(img, cmap='gray');\n",
    "        return\n",
    "\n",
    "    W, H = '', ''\n",
    "    if width:\n",
    "        W = 'width=%d' % width\n",
    "    if height:\n",
    "        H = 'height=%d' % height\n",
    "    if imgsrc.startswith('http'):\n",
    "        data_url = imgsrc\n",
    "    else:\n",
    "        if len(imgsrc) > 2048:\n",
    "            data_url = 'data:image/jpg;base64,' + imgsrc\n",
    "        else:\n",
    "            img = open(imgsrc, 'rb').read()\n",
    "            data_url = 'data:image/jpg;base64,' + base64.b64encode(img).decode()\n",
    "    return HTML('<center><img %s %s src=\"%s\"/></center>' % (W, H, data_url))"
   ]
  },
  {
   "cell_type": "markdown",
   "id": "3b3a39ab",
   "metadata": {
    "heading_collapsed": true
   },
   "source": [
    "## Global"
   ]
  },
  {
   "cell_type": "code",
   "execution_count": 8,
   "id": "61a35f36",
   "metadata": {
    "hidden": true
   },
   "outputs": [],
   "source": [
    "TOP_DIR='/jupyter/hzcsbet/gamebet'\n",
    "H = 720\n",
    "W = 1280\n",
    "\n",
    "class COLORS(object):\n",
    "    # BGR\n",
    "    GREEN      = (0   , 255 , 0)\n",
    "    RED        = (0   , 0   , 255)\n",
    "    BLACK      = (0   , 0   , 0)\n",
    "    YELLOW     = (0   , 255 , 255)\n",
    "    WHITE      = (255 , 255 , 255)\n",
    "    CYAN       = (255 , 255 , 0)\n",
    "    MAGENTA    = (255 , 0   , 242)\n",
    "    GOLDEN     = (32  , 218 , 165)\n",
    "    LIGHT_BLUE = (255 , 9   , 2)\n",
    "    PURPLE     = (128 , 0   , 128)\n",
    "    CHOCOLATE  = (30  , 105 , 210)\n",
    "    PINK       = (147 , 20  , 255)\n",
    "    ORANGE     = (0   , 69  , 255)\n",
    "\n",
    "sys.path.append(f'{TOP_DIR}/python')"
   ]
  },
  {
   "cell_type": "code",
   "execution_count": 9,
   "id": "c6601c09",
   "metadata": {
    "hidden": true
   },
   "outputs": [],
   "source": [
    "def _print_dictkeys_shape(d):\n",
    "    for k, v in d.items():\n",
    "        if k.startswith('__'):\n",
    "            continue\n",
    "        print(f'{k}: {v.shape}')\n",
    "        \n",
    "def _print_statistics(o, prefix=''):\n",
    "    if isinstance(o, np.ndarray):\n",
    "        print(f'{prefix} mean: {o.mean()}, std: {o.std()}, max: {o.max()}, min:{o.min()}')"
   ]
  },
  {
   "cell_type": "markdown",
   "id": "124aba0a",
   "metadata": {},
   "source": [
    "## Dataset"
   ]
  },
  {
   "cell_type": "markdown",
   "id": "0edc3947",
   "metadata": {},
   "source": [
    "### worldcup2014.mat"
   ]
  },
  {
   "cell_type": "code",
   "execution_count": 10,
   "id": "af0233d2",
   "metadata": {},
   "outputs": [
    {
     "name": "stdout",
     "output_type": "stream",
     "text": [
      "points: (302, 2)\n",
      "line_segment_index: (151, 2)\n",
      "grid_points: (2204, 2)\n"
     ]
    }
   ],
   "source": [
    "worldcup_2014_mat = sio.loadmat(f'{TOP_DIR}/data/worldcup2014.mat')\n",
    "_print_dictkeys_shape(worldcup_2014_mat)"
   ]
  },
  {
   "cell_type": "code",
   "execution_count": 13,
   "id": "c67ab742",
   "metadata": {},
   "outputs": [
    {
     "name": "stdout",
     "output_type": "stream",
     "text": [
      "points mean: 52.50027599999999, std: 27.479935120360008, max: 105.000552, min:0.0\n",
      "points mean: 34.001964, std: 11.397408419732242, max: 68.003928, min:0.0\n"
     ]
    }
   ],
   "source": [
    "points = worldcup_2014_mat['points']\n",
    "_print_statistics(points[:, 0], 'points'), _print_statistics(points[:, 1], 'points');"
   ]
  },
  {
   "cell_type": "code",
   "execution_count": 14,
   "id": "c51d3424",
   "metadata": {},
   "outputs": [
    {
     "data": {
      "text/plain": [
       "(1051, 681)"
      ]
     },
     "execution_count": 14,
     "metadata": {},
     "output_type": "execute_result"
    }
   ],
   "source": [
    "w, h = int(np.ceil(10 * points[:, 0].max())), int(np.ceil(10 * points[:, 1].max()))\n",
    "w, h"
   ]
  },
  {
   "cell_type": "code",
   "execution_count": 15,
   "id": "5059ef41",
   "metadata": {},
   "outputs": [
    {
     "data": {
      "image/png": "[encoded data removed]",
      "text/plain": [
       "<Figure size 864x576 with 1 Axes>"
      ]
     },
     "metadata": {
      "needs_background": "light"
     },
     "output_type": "display_data"
    }
   ],
   "source": [
    "img_lines = np.zeros((h, w, 3), dtype=np.uint8)\n",
    "for idx1, idx2 in worldcup_2014_mat['line_segment_index']:\n",
    "    p1, p2 = 10 * points[idx1], 10 * points[idx2]\n",
    "    q1 = np.rint(p1).astype(np.int32)\n",
    "    q2 = np.rint(p2).astype(np.int32)\n",
    "    cv2.line(img_lines, tuple(q1), tuple(q2), COLORS.WHITE, thickness=2)\n",
    "show_image(img_lines)"
   ]
  },
  {
   "cell_type": "markdown",
   "id": "edfffac9",
   "metadata": {},
   "source": [
    "### worldcup_dataset_camera_parameter.mat"
   ]
  },
  {
   "cell_type": "code",
   "execution_count": 16,
   "id": "74017cd4",
   "metadata": {},
   "outputs": [
    {
     "name": "stdout",
     "output_type": "stream",
     "text": [
      "cc_max: (1, 3)\n",
      "cc_mean: (1, 3)\n",
      "cc_min: (1, 3)\n",
      "cc_std: (1, 3)\n",
      "fl_max: (1, 1)\n",
      "fl_mean: (1, 1)\n",
      "fl_min: (1, 1)\n",
      "fl_std: (1, 1)\n"
     ]
    }
   ],
   "source": [
    "worldcup_camera_parameter = sio.loadmat(f'{TOP_DIR}/data/worldcup_dataset_camera_parameter.mat')\n",
    "_print_dictkeys_shape(worldcup_camera_parameter)"
   ]
  },
  {
   "cell_type": "code",
   "execution_count": 17,
   "id": "38f23e24",
   "metadata": {},
   "outputs": [
    {
     "data": {
      "text/plain": [
       "{'__header__': b'MATLAB 5.0 MAT-file, Platform: MACI64, Created on: Mon Jan 29 09:43:18 2018',\n",
       " '__version__': '1.0',\n",
       " '__globals__': [],\n",
       " 'cc_max': array([[ 60.84563315, -16.74178234,  23.01126126]]),\n",
       " 'cc_mean': array([[ 52.36618474, -45.15650112,  16.82156705]]),\n",
       " 'cc_min': array([[ 45.05679141, -66.0702037 ,  10.13871263]]),\n",
       " 'cc_std': array([[2.23192608, 9.3825635 , 2.94875254]]),\n",
       " 'fl_max': array([[5696.98454881]]),\n",
       " 'fl_mean': array([[3018.18139785]]),\n",
       " 'fl_min': array([[1463.16468414]]),\n",
       " 'fl_std': array([[716.06817106]])}"
      ]
     },
     "execution_count": 17,
     "metadata": {},
     "output_type": "execute_result"
    }
   ],
   "source": [
    "worldcup_camera_parameter"
   ]
  },
  {
   "cell_type": "markdown",
   "id": "d7c43e36",
   "metadata": {},
   "source": [
    "### worldcup_sampled_cameras.mat"
   ]
  },
  {
   "cell_type": "code",
   "execution_count": 62,
   "id": "4dceecc5",
   "metadata": {},
   "outputs": [
    {
     "name": "stdout",
     "output_type": "stream",
     "text": [
      "pivot_cameras: (91173, 9)\n",
      "positive_cameras: (91173, 9)\n",
      "positive_ious: (91173, 1)\n"
     ]
    }
   ],
   "source": [
    "worldcup_sampled_cameras = sio.loadmat(f'{TOP_DIR}/data/worldcup_sampled_cameras.mat')\n",
    "_print_dictkeys_shape(worldcup_sampled_cameras)"
   ]
  },
  {
   "cell_type": "markdown",
   "id": "d8d8f3c2",
   "metadata": {},
   "source": [
    "### UoT_soccer/train_val.mat"
   ]
  },
  {
   "cell_type": "code",
   "execution_count": 64,
   "id": "2224c330",
   "metadata": {},
   "outputs": [
    {
     "name": "stdout",
     "output_type": "stream",
     "text": [
      "annotation: (1, 209)\n",
      "meta: (1, 1)\n"
     ]
    }
   ],
   "source": [
    "train_val_UoT = sio.loadmat(f'{TOP_DIR}/data/UoT_soccer/train_val.mat')\n",
    "_print_dictkeys_shape(train_val_UoT)"
   ]
  },
  {
   "cell_type": "code",
   "execution_count": 73,
   "id": "79b11dd3",
   "metadata": {},
   "outputs": [
    {
     "data": {
      "text/plain": [
       "array([[(array(['train_val'], dtype='<U9'), array(['/Users/jimmy/Desktop/images/UoT_soccer/train_val'], dtype='<U48'))]],\n",
       "      dtype=[('data_type', 'O'), ('folder', 'O')])"
      ]
     },
     "execution_count": 73,
     "metadata": {},
     "output_type": "execute_result"
    }
   ],
   "source": [
    "train_val_UoT['meta']"
   ]
  },
  {
   "cell_type": "code",
   "execution_count": 74,
   "id": "cc33aeab",
   "metadata": {},
   "outputs": [
    {
     "data": {
      "text/plain": [
       "(array(['16.jpg'], dtype='<U6'),\n",
       " array([[ 9.96400167e+00,  1.53957510e+00, -7.75332768e+02],\n",
       "        [-4.22633249e-01,  6.94584318e-01,  1.52285376e+02],\n",
       "        [ 7.89438644e-04, -3.29728462e-03,  4.01312039e-01]]))"
      ]
     },
     "execution_count": 74,
     "metadata": {},
     "output_type": "execute_result"
    }
   ],
   "source": [
    "train_val_UoT['annotation'][0][15].tolist()"
   ]
  },
  {
   "cell_type": "code",
   "execution_count": 79,
   "id": "15a8d34b",
   "metadata": {},
   "outputs": [
    {
     "name": "stdout",
     "output_type": "stream",
     "text": [
      "grass: (720, 1280)\n"
     ]
    }
   ],
   "source": [
    "h16_gt_mat = sio.loadmat(f'{TOP_DIR}/data/UoT_soccer/16_grass_gt.mat')\n",
    "_print_dictkeys_shape(h16_gt_mat)"
   ]
  },
  {
   "cell_type": "code",
   "execution_count": 80,
   "id": "d8184883",
   "metadata": {
    "scrolled": false
   },
   "outputs": [
    {
     "data": {
      "image/png": "[encoded data removed]",
      "text/plain": [
       "<Figure size 864x576 with 1 Axes>"
      ]
     },
     "metadata": {
      "needs_background": "light"
     },
     "output_type": "display_data"
    }
   ],
   "source": [
    "show_image(h16_gt_mat['grass'])"
   ]
  },
  {
   "cell_type": "markdown",
   "id": "f84c34e4",
   "metadata": {},
   "source": [
    "## Utils"
   ]
  },
  {
   "cell_type": "code",
   "execution_count": null,
   "id": "5bac8663",
   "metadata": {},
   "outputs": [],
   "source": [
    "def _generate_ptz_cameras(data, num=10):\n",
    "    cc_statistics = [\n",
    "        data['cc_mean'],\n",
    "        data['cc_std'],\n",
    "        data['cc_min'],\n",
    "        data['cc_max']\n",
    "    ]\n",
    "    fl_statistics = [\n",
    "        data['fl_mean'], \n",
    "        data['fl_std'],\n",
    "        data['fl_min'],\n",
    "        data['fl_max']\n",
    "    ]\n",
    "    roll_statistics = [0, 0.2, -1.0, 1.0]\n",
    "    pan_range = [-35.0, 35.0]\n",
    "    tilt_range = [-15.0, -5.0]\n",
    "    cameras = SyntheticUtil.generate_ptz_cameras(\n",
    "        cc_statistics,\n",
    "        fl_statistics,\n",
    "        roll_statistics,\n",
    "        pan_range, tilt_range,\n",
    "        W/2.0, H/2.0,\n",
    "        num)\n",
    "\n",
    "_generate_ptz_cameras(worldcup_camera_parameter)"
   ]
  },
  {
   "cell_type": "code",
   "execution_count": null,
   "id": "10c72e0e",
   "metadata": {},
   "outputs": [],
   "source": [
    "img = cv2.imread(f'{TOP_DIR}/data/16_edge_image.jpg')\n",
    "show_image(img)"
   ]
  },
  {
   "cell_type": "code",
   "execution_count": null,
   "id": "926924ee",
   "metadata": {},
   "outputs": [],
   "source": [
    "img = cv2.cvtColor(img, cv.COLOR_BGR2GRAY)\n",
    "show_image(img)"
   ]
  },
  {
   "cell_type": "code",
   "execution_count": null,
   "id": "e8db1aac",
   "metadata": {},
   "outputs": [],
   "source": [
    "_, binary_im = cv2.threshold(img, 10, 255, cv.THRESH_BINARY_INV)\n",
    "show_image(binary_im)"
   ]
  },
  {
   "cell_type": "code",
   "execution_count": null,
   "id": "5ac38b59",
   "metadata": {},
   "outputs": [],
   "source": [
    "dist_im = cv2.distanceTransform(binary_im, cv.DIST_L2, cv.DIST_MASK_PRECISE)\n",
    "dist_im[dist_im > 255] = 255\n",
    "dist_im = dist_im.astype(np.uint8)\n",
    "show_image(dist_im)"
   ]
  },
  {
   "cell_type": "code",
   "execution_count": null,
   "id": "a14d2b04",
   "metadata": {},
   "outputs": [],
   "source": []
  },
  {
   "cell_type": "code",
   "execution_count": null,
   "id": "ea14907e",
   "metadata": {},
   "outputs": [],
   "source": []
  },
  {
   "cell_type": "code",
   "execution_count": null,
   "id": "a6953e28",
   "metadata": {},
   "outputs": [],
   "source": [
    "dist_im.max()"
   ]
  },
  {
   "cell_type": "code",
   "execution_count": null,
   "id": "aec19ab8",
   "metadata": {},
   "outputs": [],
   "source": [
    "train_sample_data = sio.loadmat('./worldcup_sampled_cameras.mat')"
   ]
  },
  {
   "cell_type": "code",
   "execution_count": null,
   "id": "23fca419",
   "metadata": {},
   "outputs": [],
   "source": [
    "train_sample_data.keys()"
   ]
  },
  {
   "cell_type": "code",
   "execution_count": null,
   "id": "25e16a94",
   "metadata": {},
   "outputs": [],
   "source": [
    "train_sample_data['pivot_cameras'].shape, train_sample_data['positive_cameras'].shape, train_sample_data['positive_ious'].shape"
   ]
  },
  {
   "cell_type": "code",
   "execution_count": null,
   "id": "6c69ec61",
   "metadata": {},
   "outputs": [],
   "source": [
    "for i in range(10000, 10100, 10):\n",
    "    pivot = train_sample_data['pivot_cameras'][i]\n",
    "    print(pivot.tolist())"
   ]
  },
  {
   "cell_type": "code",
   "execution_count": null,
   "id": "55cb0a85",
   "metadata": {},
   "outputs": [],
   "source": [
    "for i in range(10000, 10100, 10):\n",
    "    pivot = train_sample_data['positive_cameras'][i]\n",
    "    print(pivot.tolist())"
   ]
  },
  {
   "cell_type": "code",
   "execution_count": null,
   "id": "f7af24bd",
   "metadata": {},
   "outputs": [],
   "source": [
    "train_sample_data['positive_cameras'][0]"
   ]
  },
  {
   "cell_type": "markdown",
   "id": "106b4f83",
   "metadata": {},
   "source": [
    "## Last\n",
    "\n",
    "\n",
    "$$\n",
    "(A @ B)^T = B^T @ A^T\n",
    "$$"
   ]
  },
  {
   "cell_type": "code",
   "execution_count": 30,
   "id": "5bff2701",
   "metadata": {
    "code_folding": [
     0
    ]
   },
   "outputs": [],
   "source": [
    "### R\n",
    "def rotate_x_axis(angle):\n",
    "    angle = math.radians(angle)\n",
    "    s = math.sin(angle)\n",
    "    c = math.cos(angle)\n",
    "\n",
    "    r = np.asarray([[1, 0, 0],\n",
    "                    [0, c, -s],\n",
    "                    [0, s, c]])\n",
    "    # r = np.transpose(r) # eq = np.linalg.inv(r)\n",
    "    return r\n",
    "\n",
    "def rotate_y_axis(angle):\n",
    "    angle = math.radians(angle)\n",
    "    s = math.sin(angle)\n",
    "    c = math.cos(angle)\n",
    "\n",
    "    r = np.asarray([[c, 0, s],\n",
    "                    [0, 1, 0],\n",
    "                    [-s, 0, c]])\n",
    "    # r = np.transpose(r)\n",
    "    return r\n"
   ]
  },
  {
   "cell_type": "code",
   "execution_count": 27,
   "id": "ea6ca38d",
   "metadata": {},
   "outputs": [
    {
     "data": {
      "text/plain": [
       "array([[ 1.        ,  0.        ,  0.        ],\n",
       "       [ 0.        ,  0.98480775, -0.17364818],\n",
       "       [ 0.        ,  0.17364818,  0.98480775]])"
      ]
     },
     "execution_count": 27,
     "metadata": {},
     "output_type": "execute_result"
    }
   ],
   "source": [
    "a = rotate_x_axis(10)\n",
    "a"
   ]
  },
  {
   "cell_type": "code",
   "execution_count": 32,
   "id": "b9708c47",
   "metadata": {},
   "outputs": [
    {
     "data": {
      "text/plain": [
       "array([[ 0.98480775,  0.        ,  0.17364818],\n",
       "       [ 0.        ,  1.        ,  0.        ],\n",
       "       [-0.17364818,  0.        ,  0.98480775]])"
      ]
     },
     "execution_count": 32,
     "metadata": {},
     "output_type": "execute_result"
    }
   ],
   "source": [
    "b = rotate_y_axis(10)\n",
    "b"
   ]
  },
  {
   "cell_type": "code",
   "execution_count": 40,
   "id": "147c7c4c",
   "metadata": {},
   "outputs": [
    {
     "data": {
      "text/plain": [
       "array([[ 0.98480775,  0.        ,  0.17364818],\n",
       "       [ 0.03015369,  0.98480775, -0.17101007],\n",
       "       [-0.17101007,  0.17364818,  0.96984631]])"
      ]
     },
     "execution_count": 40,
     "metadata": {},
     "output_type": "execute_result"
    }
   ],
   "source": [
    "ab = a @ b\n",
    "ab"
   ]
  },
  {
   "cell_type": "code",
   "execution_count": 43,
   "id": "744e80cc",
   "metadata": {
    "scrolled": true
   },
   "outputs": [
    {
     "data": {
      "text/plain": [
       "(array([[ 0.98480775,  0.03015369, -0.17101007],\n",
       "        [ 0.        ,  0.98480775,  0.17364818],\n",
       "        [ 0.17364818, -0.17101007,  0.96984631]]),\n",
       " array([[ 0.98480775,  0.        , -0.17364818],\n",
       "        [ 0.03015369,  0.98480775,  0.17101007],\n",
       "        [ 0.17101007, -0.17364818,  0.96984631]]),\n",
       " array([[ 0.98480775,  0.03015369, -0.17101007],\n",
       "        [ 0.        ,  0.98480775,  0.17364818],\n",
       "        [ 0.17364818, -0.17101007,  0.96984631]]))"
      ]
     },
     "execution_count": 43,
     "metadata": {},
     "output_type": "execute_result"
    }
   ],
   "source": [
    "ab.T, a.T @ b.T, b.T @ a.T"
   ]
  },
  {
   "cell_type": "code",
   "execution_count": 37,
   "id": "a17c2506",
   "metadata": {},
   "outputs": [
    {
     "data": {
      "text/plain": [
       "array([[ 0.98480775,  0.        , -0.17364818],\n",
       "       [ 0.03015369,  0.98480775,  0.17101007],\n",
       "       [ 0.17101007, -0.17364818,  0.96984631]])"
      ]
     },
     "execution_count": 37,
     "metadata": {},
     "output_type": "execute_result"
    }
   ],
   "source": [
    "c = a.T @ b.T\n",
    "c"
   ]
  },
  {
   "cell_type": "code",
   "execution_count": 38,
   "id": "c8acc645",
   "metadata": {},
   "outputs": [
    {
     "data": {
      "text/plain": [
       "array([[ 0.98480775,  0.03015369,  0.17101007],\n",
       "       [ 0.        ,  0.98480775, -0.17364818],\n",
       "       [-0.17364818,  0.17101007,  0.96984631]])"
      ]
     },
     "execution_count": 38,
     "metadata": {},
     "output_type": "execute_result"
    }
   ],
   "source": [
    "c.T"
   ]
  },
  {
   "cell_type": "markdown",
   "id": "66fec907",
   "metadata": {},
   "source": [
    "### A"
   ]
  },
  {
   "cell_type": "code",
   "execution_count": null,
   "id": "ab777239",
   "metadata": {},
   "outputs": [],
   "source": [
    "import cv2 as cv\n",
    "\n",
    "class RotationUtil:\n",
    "    @staticmethod\n",
    "    def rotate_x_axis(angle):\n",
    "        \"\"\"\n",
    "        rotate coordinate with X axis\n",
    "        https://en.wikipedia.org/wiki/Rotation_matrix + transpose\n",
    "        http://mathworld.wolfram.com/RotationMatrix.html\n",
    "        :param angle: in degree\n",
    "        :return:\n",
    "        \"\"\"\n",
    "        angle = math.radians(angle)\n",
    "        s = math.sin(angle)\n",
    "        c = math.cos(angle)\n",
    "\n",
    "        r = np.asarray([[1, 0, 0],\n",
    "                        [0, c, -s],\n",
    "                        [0, s, c]])\n",
    "        r = np.transpose(r)\n",
    "        return r\n",
    "\n",
    "    @staticmethod\n",
    "    def rotate_y_axis(angle):\n",
    "        \"\"\"\n",
    "        rotate coordinate with X axis\n",
    "        :param angle:\n",
    "        :return:\n",
    "        \"\"\"\n",
    "        angle = math.radians(angle)\n",
    "        s = math.sin(angle)\n",
    "        c = math.cos(angle)\n",
    "\n",
    "        r = np.asarray([[c, 0, s],\n",
    "                        [0, 1, 0],\n",
    "                        [-s, 0, c]])\n",
    "        r = np.transpose(r)\n",
    "        return r\n",
    "\n",
    "    @staticmethod\n",
    "    def rotate_z_axis(angle):\n",
    "        \"\"\"\n",
    "\n",
    "        :param angle:\n",
    "        :return:\n",
    "        \"\"\"\n",
    "        angle = math.radians(angle)\n",
    "        s = math.sin(angle)\n",
    "        c = math.cos(angle)\n",
    "\n",
    "        r = np.asarray([[c, -s, 0],\n",
    "                        [s, c, 0],\n",
    "                        [0, 0, 1]])\n",
    "        r = np.transpose(r)\n",
    "        return r\n",
    "\n",
    "    @staticmethod\n",
    "    def pan_y_tilt_x(pan, tilt):\n",
    "        \"\"\"\n",
    "        Rotation matrix of first pan, then tilt\n",
    "        :param pan:\n",
    "        :param tilt:\n",
    "        :return:\n",
    "        \"\"\"\n",
    "        r_tilt = RotationUtil.rotate_x_axis(tilt)\n",
    "        r_pan = RotationUtil.rotate_y_axis(pan)\n",
    "        m = r_tilt @ r_pan\n",
    "        return m\n",
    "\n",
    "    #  rot_vec, _ = cv.Rodrigues(rotation)\n",
    "    @staticmethod\n",
    "    def rotation_matrix_to_Rodrigues(m):\n",
    "        assert m.shape[0] == 3 and m.shape[1] == 3\n",
    "        rot_vec, _ = cv.Rodrigues(m)\n",
    "        return rot_vec"
   ]
  },
  {
   "cell_type": "code",
   "execution_count": 52,
   "id": "25e61c39",
   "metadata": {
    "code_folding": []
   },
   "outputs": [],
   "source": [
    "### A \n",
    "class ProjectiveCamera:\n",
    "    def __init__(self, fl, u, v, cc, rod_rot):\n",
    "        \"\"\"\n",
    "        :param fl:\n",
    "        :param u:\n",
    "        :param v:\n",
    "        :param cc:\n",
    "        :param rod_rot:\n",
    "        \"\"\"\n",
    "        self.K = np.zeros((3, 3)) # calibration matrix\n",
    "        self.camera_center = np.zeros(3)\n",
    "        self.rotation = np.zeros(3)\n",
    "\n",
    "        self.P = np.zeros((3, 4)) # projection matrix\n",
    "\n",
    "        self.set_calibration(fl, u, v)\n",
    "        self.set_camera_center(cc)\n",
    "        self.set_rotation(rod_rot)\n",
    "\n",
    "    def set_calibration(self, fl, u, v):\n",
    "        \"\"\"\n",
    "        :param fl:\n",
    "        :param u:\n",
    "        :param v:\n",
    "        :return:\n",
    "        \"\"\"\n",
    "        self.K = np.asarray([[fl, 0, u],\n",
    "                             [0, fl, v],\n",
    "                             [0, 0, 1]])\n",
    "        self._recompute_matrix()\n",
    "\n",
    "    def set_camera_center(self, cc):\n",
    "        assert cc.shape[0] == 3\n",
    "\n",
    "        self.camera_center[0] = cc[0]\n",
    "        self.camera_center[1] = cc[1]\n",
    "        self.camera_center[2] = cc[2]\n",
    "        self._recompute_matrix()\n",
    "\n",
    "    def set_rotation(self, rod_rot):\n",
    "        \"\"\"\n",
    "        :param rod_rot: Rodrigues vector\n",
    "        :return:\n",
    "        \"\"\"\n",
    "        assert rod_rot.shape[0] == 3\n",
    "\n",
    "        self.rotation[0] = rod_rot[0]\n",
    "        self.rotation[1] = rod_rot[1]\n",
    "        self.rotation[2] = rod_rot[2]\n",
    "        self._recompute_matrix()\n",
    "\n",
    "    def project_3d(self, x, y, z, w=1.0):\n",
    "        \"\"\"\n",
    "        :param x:\n",
    "        :param y:\n",
    "        :param z:\n",
    "        :return:\n",
    "        \"\"\"\n",
    "        p = np.zeros(4)\n",
    "        p[0],p[1],p[2], p[3] = x, y, z, w\n",
    "        q = self.P @ p\n",
    "        assert q[2] != 0.0\n",
    "        return (q[0]/q[2], q[1]/q[2])\n",
    "\n",
    "    def get_homography(self):\n",
    "        \"\"\"\n",
    "        homography matrix from the projection matrix\n",
    "        :return:\n",
    "        \"\"\"\n",
    "        h = self.P[:, [0, 1,3]]\n",
    "        return h\n",
    "\n",
    "\n",
    "    def _recompute_matrix(self):\n",
    "        \"\"\"\n",
    "        :return:\n",
    "        \"\"\"\n",
    "        P = np.zeros((3, 4))\n",
    "        for i in range(3):\n",
    "            P[i][i] = 1.0\n",
    "\n",
    "        for i in range(3):\n",
    "            P[i][3] = -self.camera_center[i]\n",
    "\n",
    "        r, _ = cv.Rodrigues(self.rotation)\n",
    "        #print(r)\n",
    "        #print('{} {} {}'.format(self.K.shape, r.shape, P.shape))\n",
    "        self.P = self.K @ r @ P"
   ]
  },
  {
   "cell_type": "code",
   "execution_count": 58,
   "id": "33b88a55",
   "metadata": {
    "code_folding": []
   },
   "outputs": [],
   "source": [
    "### B\n",
    "class SyntheticUtil:\n",
    "    @staticmethod\n",
    "    def camera_to_edge_image(camera_data,\n",
    "                             model_points, model_line_segment,\n",
    "                             im_h=720, im_w=1280, line_width=4):\n",
    "        \"\"\"\n",
    "         Project (line) model images using the camera\n",
    "        :param camera_data: 9 numbers\n",
    "        :param model_points:\n",
    "        :param model_line_segment:\n",
    "        :param im_h: 720\n",
    "        :param im_w: 1280\n",
    "        :return: H * W * 3 OpenCV image\n",
    "        \"\"\"\n",
    "        assert camera_data.shape[0] == 9\n",
    "\n",
    "        u, v, fl = camera_data[0:3]\n",
    "        rod_rot = camera_data[3:6]\n",
    "        cc = camera_data[6:9]\n",
    "\n",
    "        camera = ProjectiveCamera(fl, u, v, cc, rod_rot)\n",
    "        im = np.zeros((im_h, im_w, 3), dtype=np.uint8)\n",
    "        n = model_line_segment.shape[0]\n",
    "        color = (255,255,255)\n",
    "        for i in range(n):\n",
    "            idx1, idx2 = model_line_segment[i][0], model_line_segment[i][1]\n",
    "            p1, p2 = model_points[idx1], model_points[idx2]\n",
    "            q1 = camera.project_3d(p1[0], p1[1], 0.0, 1.0)\n",
    "            q2 = camera.project_3d(p2[0], p2[1], 0.0, 1.0)\n",
    "            q1 = np.rint(q1).astype(np.int32)\n",
    "            q2 = np.rint(q2).astype(np.int32)\n",
    "            cv.line(im, tuple(q1), tuple(q2), color, thickness=line_width)\n",
    "        return im\n",
    "\n",
    "    @staticmethod\n",
    "    def distance_transform(img):\n",
    "        \"\"\"\n",
    "        :param img: OpenCV Image\n",
    "        :return:\n",
    "        \"\"\"\n",
    "        h, w, c = img.shape\n",
    "        if c == 3:\n",
    "            img = cv.cvtColor(img, cv.COLOR_BGR2GRAY)\n",
    "        else:\n",
    "            assert c == 1\n",
    "\n",
    "        _, binary_im = cv.threshold(img, 10, 255, cv.THRESH_BINARY_INV)\n",
    "\n",
    "        dist_im = cv.distanceTransform(binary_im, cv.DIST_L2, cv.DIST_MASK_PRECISE)\n",
    "        return dist_im\n",
    "\n",
    "    @staticmethod\n",
    "    def find_transform(im_src, im_dst):\n",
    "        warp = np.eye(3, dtype=np.float32)\n",
    "        criteria = (cv.TERM_CRITERIA_EPS | cv.TERM_CRITERIA_COUNT, 50, 0.001)\n",
    "        # suggested by felibol\n",
    "        # https://github.com/lood339/SCCvSD/issues/8\n",
    "        try:\n",
    "            _, warp = cv.findTransformECC(im_src, im_dst, warp, cv.MOTION_HOMOGRAPHY, criteria, None, 5)\n",
    "        except:\n",
    "            print('Warning: find transform failed. Set warp as identity')\n",
    "        return warp\n",
    "\n",
    "    @staticmethod\n",
    "    def generate_ptz_cameras(cc_statistics,\n",
    "                             fl_statistics,\n",
    "                             roll_statistics,\n",
    "                             pan_range, tilt_range,\n",
    "                             u, v,\n",
    "                             camera_num):\n",
    "        \"\"\"\n",
    "        Input: PTZ camera base information\n",
    "        Output: randomly sampled camera parameters\n",
    "        :param cc_statistics:\n",
    "        :param fl_statistics:\n",
    "        :param roll_statistics:\n",
    "        :param pan_range:\n",
    "        :param tilt_range:\n",
    "        :param u:\n",
    "        :param v:\n",
    "        :param camera_num:\n",
    "        :return: N * 9 cameras\n",
    "        \"\"\"\n",
    "        cc_mean, cc_std, cc_min, cc_max = cc_statistics\n",
    "        fl_mean, fl_std, fl_min, fl_max = fl_statistics\n",
    "        roll_mean, roll_std, roll_min, roll_max = roll_statistics\n",
    "        pan_min, pan_max = pan_range\n",
    "        tilt_min, tilt_max = tilt_range\n",
    "\n",
    "        # generate random values from the distribution\n",
    "        camera_centers = np.random.normal(cc_mean, cc_std, (camera_num, 3))\n",
    "        focal_lengths = np.random.normal(fl_mean, fl_std, (camera_num, 1))\n",
    "        rolls = np.random.normal(roll_mean, roll_std, (camera_num, 1))\n",
    "        pans = np.random.uniform(pan_min, pan_max, camera_num)\n",
    "        tilts = np.random.uniform(tilt_min, tilt_max, camera_num)\n",
    "\n",
    "        cameras = np.zeros((camera_num, 9))\n",
    "        for i in range(camera_num):\n",
    "            base_rotation = RotationUtil.rotate_y_axis(0) @ RotationUtil.rotate_x_axis(rolls[i]) @\\\n",
    "                RotationUtil.rotate_x_axis(-90)\n",
    "            pan_tilt_rotation = RotationUtil.pan_y_tilt_x(pans[i], tilts[i])\n",
    "            rotation = pan_tilt_rotation @ base_rotation\n",
    "            rot_vec, _ = cv.Rodrigues(rotation)\n",
    "\n",
    "            cameras[i][0], cameras[i][1] = u, v\n",
    "            cameras[i][2] = focal_lengths[i]\n",
    "            cameras[i][3], cameras[i][4], cameras[i][5] = rot_vec[0], rot_vec[1], rot_vec[2]\n",
    "            cameras[i][6], cameras[i][7], cameras[i][8] = camera_centers[i][0], camera_centers[i][1], camera_centers[i][2]\n",
    "        return cameras\n",
    "\n",
    "    @staticmethod\n",
    "    def sample_positive_pair(pp, cc, base_roll, pan, tilt, fl,\n",
    "                             pan_std, tilt_std, fl_std):\n",
    "        \"\"\"\n",
    "        Sample a camera that has similar pan-tilt-zoom with (pan, tilt, fl).\n",
    "        The pair of the camera will be used a positive-pair in the training\n",
    "        :param pp: [u, v]\n",
    "        :param cc: camera center\n",
    "        :param base_roll: camera base, roll angle\n",
    "        :param pan:\n",
    "        :param tilt:\n",
    "        :param fl:\n",
    "        :param pan_std:\n",
    "        :param tilt_std:\n",
    "        :param fl_std:\n",
    "        :return:\n",
    "        \"\"\"\n",
    "\n",
    "        def get_nearby_data(d, std):\n",
    "            assert std > 0\n",
    "            delta = np.random.uniform(-0.5, 0.5, 1) * std\n",
    "            return d + delta\n",
    "\n",
    "        pan = get_nearby_data(pan, pan_std)\n",
    "        tilt = get_nearby_data(tilt, tilt_std)\n",
    "        fl = get_nearby_data(fl, fl_std)\n",
    "\n",
    "        camera = np.zeros(9)\n",
    "        camera[0] = pp[0]\n",
    "        camera[1] = pp[1]\n",
    "        camera[2] = fl\n",
    "\n",
    "        base_rotation = RotationUtil.rotate_y_axis(0) @ RotationUtil.rotate_y_axis(base_roll) @\\\n",
    "                        RotationUtil.rotate_x_axis(-90)\n",
    "        pan_tilt_rotation = RotationUtil.pan_y_tilt_x(pan, tilt)\n",
    "        rotation = pan_tilt_rotation @ base_rotation\n",
    "        rot_vec = RotationUtil.rotation_matrix_to_Rodrigues(rotation)\n",
    "        camera[3: 6] = rot_vec.squeeze()\n",
    "        camera[6: 9] = cc\n",
    "        return camera\n",
    "\n",
    "    @staticmethod\n",
    "    def generate_database_images(pivot_cameras, positive_cameras,\n",
    "                                 model_points, model_line_segment):\n",
    "\n",
    "        \"\"\"\n",
    "        Default size 180 x 320 (h x w)\n",
    "        Generate database image for siamese network training\n",
    "        :param pivot_cameras:\n",
    "        :param positive_cameras:\n",
    "        :return:\n",
    "        \"\"\"\n",
    "        n = pivot_cameras.shape[0]\n",
    "        assert n == positive_cameras.shape[0]\n",
    "\n",
    "        # N x 1 x H x W pivot images\n",
    "        # N x 1 x H x w positive image\n",
    "        # negative pairs are randomly selected\n",
    "        im_h, im_w = 180, 320\n",
    "        pivot_images = np.zeros((n, 1, im_h, im_w), dtype=np.uint8)\n",
    "        positive_images = np.zeros((n, 1, im_h, im_w), dtype=np.uint8)\n",
    "\n",
    "\n",
    "        for i in range(n):\n",
    "            piv_cam = pivot_cameras[i,:]\n",
    "            pos_cam = positive_cameras[i,:]\n",
    "\n",
    "            piv_im = SyntheticUtil.camera_to_edge_image(piv_cam, model_points, model_line_segment, 720, 1280, 4)\n",
    "            pos_im = SyntheticUtil.camera_to_edge_image(pos_cam, model_points, model_line_segment, 720, 1280, 4)\n",
    "\n",
    "            # to a smaller image\n",
    "            piv_im = cv.resize(piv_im, (im_w, im_h))\n",
    "            pos_im = cv.resize(pos_im, (im_w, im_h))\n",
    "\n",
    "            # to a gray image\n",
    "            piv_im = cv.cvtColor(piv_im, cv.COLOR_BGR2GRAY)\n",
    "            pos_im = cv.cvtColor(pos_im, cv.COLOR_RGB2GRAY)\n",
    "\n",
    "            pivot_images[i, 0,:,:] = piv_im\n",
    "            positive_images[i, 0, :,:] = pos_im\n",
    "\n",
    "        return (pivot_images, positive_images)"
   ]
  },
  {
   "cell_type": "code",
   "execution_count": 57,
   "id": "e72b8865",
   "metadata": {
    "code_folding": []
   },
   "outputs": [],
   "source": [
    "### C\n",
    "def ut_camera_to_edge_image():\n",
    "    import scipy.io as sio\n",
    "    # this camera is from UoT world cup dataset, train, index 16\n",
    "    camera_data = np.asarray([640,360, 3081.976880,\n",
    "                              1.746393, -0.321347,0.266827,\n",
    "                              52.816224,-54.753716, 19.960425])\n",
    "    data = sio.loadmat(f'{TOP_DIR}/data/worldcup2014.mat')\n",
    "    print(data.keys())\n",
    "    model_points = data['points']\n",
    "    model_line_index = data['line_segment_index']\n",
    "    im = SyntheticUtil.camera_to_edge_image(camera_data, model_points, model_line_index, 720, 1280, line_width=4)\n",
    "    return im\n",
    "\n",
    "def ut_generate_ptz_cameras():\n",
    "    \"\"\"\n",
    "    Generate PTZ camera demo:  Section 3.1\n",
    "    \"\"\"\n",
    "    import scipy.io as sio\n",
    "    data = sio.loadmat('../../data/worldcup_dataset_camera_parameter.mat')\n",
    "    print(data.keys())\n",
    "\n",
    "    cc_mean = data['cc_mean']\n",
    "    cc_std = data['cc_std']\n",
    "    cc_min = data['cc_min']\n",
    "    cc_max = data['cc_max']\n",
    "    cc_statistics = [cc_mean, cc_std, cc_min, cc_max]\n",
    "\n",
    "    fl_mean = data['fl_mean']\n",
    "    fl_std = data['fl_std']\n",
    "    fl_min = data['fl_min']\n",
    "    fl_max = data['fl_max']\n",
    "    fl_statistics = [fl_mean, fl_std, fl_min, fl_max]\n",
    "    roll_statistics = [0, 0.2, -1.0, 1.0]\n",
    "\n",
    "    pan_range = [-35.0, 35.0]\n",
    "    tilt_range = [-15.0, -5.0]\n",
    "    num_camera = 10\n",
    "\n",
    "    cameras = SyntheticUtil.generate_ptz_cameras(cc_statistics,\n",
    "                                                 fl_statistics,\n",
    "                                                 roll_statistics,\n",
    "                                                 pan_range, tilt_range,\n",
    "                                                 1280/2.0, 720/2.0,\n",
    "                                                 num_camera)\n",
    "\n",
    "    data = sio.loadmat('../../data/worldcup2014.mat')\n",
    "    model_points = data['points']\n",
    "    model_line_index = data['line_segment_index']\n",
    "    for i in range(num_camera):\n",
    "        cam = cameras[i]\n",
    "        print(cam[0:3])\n",
    "        im = SyntheticUtil.camera_to_edge_image(cam, model_points, model_line_index, 720, 1280, line_width=4)\n",
    "        print(im.shape)\n",
    "        cv.imshow('image from camera', im)\n",
    "        cv.waitKey(1000)\n",
    "    cv.destroyAllWindows()\n",
    "\n",
    "def ut_sample_positive_pair():\n",
    "    \"\"\"\n",
    "    def sample_positive_pair(pp, cc, base_roll, pan, tilt, fl,\n",
    "                             pan_std, tilt_std, fl_std):\n",
    "    \"\"\"\n",
    "    import scipy.io as sio\n",
    "    data = sio.loadmat('../../data/worldcup_dataset_camera_parameter.mat')\n",
    "    cc_mean = data['cc_mean']\n",
    "\n",
    "    pp = np.asarray([1280.0/2, 720.0/2])\n",
    "    cc = cc_mean\n",
    "    base_roll = np.random.uniform(-0.5, 0.5)\n",
    "    pan = 10.0\n",
    "    tilt = -10.0\n",
    "    fl = 3800\n",
    "    pan_std = 1.5\n",
    "    tilt_std = 0.75\n",
    "    fl_std = 30\n",
    "\n",
    "    camera = np.zeros(9)\n",
    "    camera[0] = 640.000000\n",
    "    camera[1] = 360.000000\n",
    "    camera[2] = fl\n",
    "\n",
    "    base_rotation = RotationUtil.rotate_y_axis(0) @ \\\n",
    "                    RotationUtil.rotate_z_axis(base_roll) @ \\\n",
    "                    RotationUtil.rotate_x_axis(-90)\n",
    "    pan_tilt_rotation = RotationUtil.pan_y_tilt_x(pan, tilt)\n",
    "    rotation = pan_tilt_rotation @ base_rotation\n",
    "    rot_vec, _ = cv.Rodrigues(rotation)\n",
    "    camera[3: 6] = rot_vec.squeeze()\n",
    "    camera[6: 9] = cc\n",
    "\n",
    "\n",
    "    pivot = camera\n",
    "\n",
    "    positive = SyntheticUtil.sample_positive_pair(pp, cc, base_roll, pan, tilt, fl,\n",
    "                                                  pan_std, tilt_std, fl_std)\n",
    "\n",
    "    data = sio.loadmat('../../data/worldcup2014.mat')\n",
    "    print(data.keys())\n",
    "    model_points = data['points']\n",
    "    model_line_index = data['line_segment_index']\n",
    "\n",
    "    im1 = SyntheticUtil.camera_to_edge_image(pivot, model_points, model_line_index, 720, 1280)\n",
    "    im2 = SyntheticUtil.camera_to_edge_image(positive, model_points, model_line_index, 720, 1280)\n",
    "    cv.imshow(\"pivot\", im1)\n",
    "    cv.imshow(\"positive\", im2)\n",
    "    cv.waitKey(5000)\n",
    "\n",
    "def ut_generate_database_images():\n",
    "    import scipy.io as sio\n",
    "    data = sio.loadmat('../../data/worldcup_sampled_cameras.mat')\n",
    "    pivot_cameras = data['pivot_cameras']\n",
    "    positive_cameras = data['positive_cameras']\n",
    "\n",
    "    n = 10000\n",
    "    pivot_cameras = pivot_cameras[0:n, :]\n",
    "    positive_cameras = positive_cameras[0:n,:]\n",
    "\n",
    "    data = sio.loadmat('../../data/worldcup2014.mat')\n",
    "    print(data.keys())\n",
    "    model_points = data['points']\n",
    "    model_line_index = data['line_segment_index']\n",
    "\n",
    "    pivot_images, positive_images = SyntheticUtil.generate_database_images(pivot_cameras, positive_cameras,\n",
    "                                                             model_points, model_line_index)\n",
    "\n",
    "    #print('{} {}'.format(pivot_images.shape, positive_images.shape))\n",
    "    sio.savemat('train_data_10k.mat', {'pivot_images':pivot_images,\n",
    "                                      'positive_images':positive_images,\n",
    "                                       'cameras':pivot_cameras})\n",
    "\n",
    "def ut_distance_transform():\n",
    "    im = cv.imread('../../data/16_edge_image.jpg')\n",
    "    dist_im = SyntheticUtil.distance_transform(im)\n",
    "\n",
    "    dist_im[dist_im > 255] = 255\n",
    "    dist_im = dist_im.astype(np.uint8)\n",
    "    cv.imshow('distance image', dist_im)\n",
    "    cv.waitKey()"
   ]
  },
  {
   "cell_type": "code",
   "execution_count": 59,
   "id": "fec97f49",
   "metadata": {},
   "outputs": [
    {
     "name": "stdout",
     "output_type": "stream",
     "text": [
      "dict_keys(['__header__', '__version__', '__globals__', 'points', 'line_segment_index', 'grid_points'])\n"
     ]
    }
   ],
   "source": [
    "img = ut_camera_to_edge_image()"
   ]
  },
  {
   "cell_type": "code",
   "execution_count": 60,
   "id": "e3b108e3",
   "metadata": {},
   "outputs": [
    {
     "data": {
      "image/png": "[encoded data removed]",
      "text/plain": [
       "<Figure size 864x576 with 1 Axes>"
      ]
     },
     "metadata": {
      "needs_background": "light"
     },
     "output_type": "display_data"
    }
   ],
   "source": [
    "show_image(img)"
   ]
  },
  {
   "cell_type": "code",
   "execution_count": 46,
   "id": "9717a548",
   "metadata": {},
   "outputs": [
    {
     "data": {
      "text/plain": [
       "array([[ 1.        ,  0.        ,  0.        ],\n",
       "       [ 0.        ,  0.00698126, -0.99997563],\n",
       "       [ 0.        ,  0.99997563,  0.00698126]])"
      ]
     },
     "execution_count": 46,
     "metadata": {},
     "output_type": "execute_result"
    }
   ],
   "source": [
    "base_rotation = RotationUtil.rotate_y_axis(0) @ RotationUtil.rotate_x_axis(0.4) @ RotationUtil.rotate_x_axis(-90)\n",
    "base_rotation"
   ]
  },
  {
   "cell_type": "code",
   "execution_count": 47,
   "id": "e97dd202",
   "metadata": {},
   "outputs": [
    {
     "data": {
      "text/plain": [
       "array([[ 9.99975631e-01,  4.27478904e-19, -6.98126030e-03],\n",
       "       [-6.98126030e-03,  6.12308478e-17, -9.99975631e-01],\n",
       "       [ 0.00000000e+00,  1.00000000e+00,  6.12323400e-17]])"
      ]
     },
     "execution_count": 47,
     "metadata": {},
     "output_type": "execute_result"
    }
   ],
   "source": [
    "base_rotation = RotationUtil.rotate_y_axis(0) @ RotationUtil.rotate_z_axis(0.4) @ RotationUtil.rotate_x_axis(-90)\n",
    "base_rotation"
   ]
  },
  {
   "cell_type": "markdown",
   "id": "7079429e",
   "metadata": {},
   "source": [
    "## Referencs"
   ]
  },
  {
   "cell_type": "markdown",
   "id": "c74bc1db",
   "metadata": {},
   "source": [
    "- https://wikiless.org/wiki/Rotation_matrix?lang=en\n",
    "- https://nhoma.github.io/ \"数据集\"\n",
    "- https://github.com/lood339/SCCvSD/"
   ]
  },
  {
   "cell_type": "code",
   "execution_count": null,
   "id": "abdf231f",
   "metadata": {},
   "outputs": [],
   "source": []
  }
 ],
 "metadata": {
  "hide_input": false,
  "kernelspec": {
   "display_name": "Python 3 (ipykernel)",
   "language": "python",
   "name": "python3"
  },
  "language_info": {
   "codemirror_mode": {
    "name": "ipython",
    "version": 3
   },
   "file_extension": ".py",
   "mimetype": "text/x-python",
   "name": "python",
   "nbconvert_exporter": "python",
   "pygments_lexer": "ipython3",
   "version": "3.8.10"
  },
  "toc": {
   "base_numbering": 1,
   "nav_menu": {},
   "number_sections": true,
   "sideBar": false,
   "skip_h1_title": true,
   "title_cell": "Contents",
   "title_sidebar": "Contents",
   "toc_cell": false,
   "toc_position": {
    "height": "678.182px",
    "left": "1396.36px",
    "top": "66.804px",
    "width": "349.091px"
   },
   "toc_section_display": true,
   "toc_window_display": true
  }
 },
 "nbformat": 4,
 "nbformat_minor": 5
}
