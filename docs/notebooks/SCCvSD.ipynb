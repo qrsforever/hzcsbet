{
 "cells": [
  {
   "cell_type": "markdown",
   "id": "abe184bc",
   "metadata": {
    "heading_collapsed": true
   },
   "source": [
    "## Import"
   ]
  },
  {
   "cell_type": "code",
   "execution_count": 1,
   "id": "72860380",
   "metadata": {
    "hidden": true
   },
   "outputs": [],
   "source": [
    "%reload_ext watermark\n",
    "%reload_ext autoreload\n",
    "%autoreload 2\n",
    "# %watermark -p numpy,sklearn,pandas\n",
    "# %watermark -p ipywidgets,cv2,PIL,matplotlib,plotly,netron\n",
    "# %watermark -p torch,torchvision,torchaudio\n",
    "# %watermark -p tensorflow,tensorboard,tflite\n",
    "# %watermark -p onnx,tf2onnx,onnxruntime,tensorrt,tvm\n",
    "# %matplotlib inline\n",
    "# %config InlineBackend.figure_format='retina'\n",
    "# %config IPCompleter.use_jedi = False\n",
    "\n",
    "%matplotlib inline\n",
    "# %matplotlib widget\n",
    "# from IPython.display import display, Markdown, HTML, IFrame, Image, Javascript\n",
    "# from IPython.core.magic import register_line_cell_magic, register_line_magic, register_cell_magic\n",
    "# display(HTML('<style>.container { width:%d%% !important; }</style>' % 90))\n",
    "\n",
    "import sys, os, io, logging, time, random, math\n",
    "import json, base64, requests, shutil\n",
    "import argparse, shlex, signal\n",
    "import numpy as np\n",
    "import scipy.io as sio\n",
    "\n",
    "argparse.ArgumentParser.exit = lambda *arg, **kwargs: _IGNORE_\n",
    "\n",
    "def _IMPORT(x, tag='main', debug=False):\n",
    "    def __request_text(url):\n",
    "        response = requests.get(url)\n",
    "        if response.status_code == 200:\n",
    "            return response.text\n",
    "        else:\n",
    "            raise RuntimeError(url)\n",
    "    try:\n",
    "        x = x.strip()\n",
    "        if x[0] == '/' or x[1] == '/':\n",
    "            with open(x) as fr:\n",
    "                x = fr.read()\n",
    "        elif 'github' in x or 'gitee' in x:\n",
    "            if x.startswith('import '):\n",
    "                x = x[7:]\n",
    "            if x.startswith('https://'):\n",
    "                x = x[8:]\n",
    "            if not x.endswith('.py'):\n",
    "                x = x + '.py'\n",
    "            x = x.replace('blob/main/', '').replace('blob/master/', '')\n",
    "            if x.startswith('raw.githubusercontent.com'):\n",
    "                x = 'https://' + x\n",
    "                x = __request_text(x)\n",
    "            elif x.startswith('github.com'):\n",
    "                x = x.replace('github.com', 'raw.githubusercontent.com')\n",
    "                mod = x.split('/')\n",
    "                x = 'https://' + '/'.join(mod[:3]) + f'/{tag}/' + '/'.join(mod[-3:])\n",
    "                x = __request_text(x)\n",
    "            elif x.startswith('gitee.com'):\n",
    "                mod = x.split('/')\n",
    "                x = 'https://' + '/'.join(mod[:3]) + f'/raw/{tag}/' + '/'.join(mod[3:])\n",
    "                x = __request_text(x)\n",
    "        if debug:\n",
    "            return x\n",
    "        else:\n",
    "            exec(x, globals())\n",
    "    except Exception as err:\n",
    "        # sys.stderr.write(f'request {x} : {err}')\n",
    "       pass\n",
    "\n",
    "def _DIR(x, dumps=True, ret=True):\n",
    "    attrs = sorted([y for y in dir(x) if not y.startswith('_')])\n",
    "    result = '%s: %s' % (str(type(x))[8:-2], json.dumps(attrs) if dumps else attrs)\n",
    "    if ret:\n",
    "        return result\n",
    "    print(result)\n",
    "\n",
    "\n",
    "###\n",
    "### Display ###\n",
    "###\n",
    "\n",
    "_IMPORT('import pandas as pd')\n",
    "_IMPORT('import cv2')\n",
    "_IMPORT('from PIL import Image')\n",
    "_IMPORT('import matplotlib.pyplot as plt')\n",
    "_IMPORT('import plotly')\n",
    "_IMPORT('import plotly.graph_objects as go')\n",
    "_IMPORT('import ipywidgets as widgets')\n",
    "_IMPORT('from ipywidgets import interact, interactive, fixed, interact_manual')\n",
    "\n",
    "# plotly.offline.init_notebook_mode(connected=False)\n",
    "\n",
    "plt.rcParams['figure.figsize'] = (12.0, 8.0)\n",
    "# from matplotlib.font_manager import FontProperties\n",
    "# simsun = FontProperties(fname='/sysfonts/simsun.ttc', size=12)\n",
    "\n",
    "    \n",
    "def show_image(imgsrc, width=None, height=None, rgb=True):\n",
    "    if isinstance(imgsrc, np.ndarray):\n",
    "        img = imgsrc\n",
    "        if width or height:\n",
    "            if width and height:\n",
    "                size = (width, height)\n",
    "            else:\n",
    "                rate = img.shape[1] / img.shape[0]\n",
    "                if width:\n",
    "                    size = (width, int(width/rate))\n",
    "                else:\n",
    "                    size = (int(height*rate), height)\n",
    "            img = cv2.resize(img, size)\n",
    "            plt.figure(figsize=(3*int(size[0]/80+1), 3*int(size[1]/80+1)), dpi=80)\n",
    "        plt.axis('off')\n",
    "        if len(img.shape) > 2:\n",
    "            if not rgb:\n",
    "                img = cv2.cvtColor(img, cv2.COLOR_BGR2RGB)\n",
    "            plt.imshow(img);\n",
    "        else:\n",
    "            plt.imshow(img, cmap='gray');\n",
    "        return\n",
    "\n",
    "    W, H = '', ''\n",
    "    if width:\n",
    "        W = 'width=%d' % width\n",
    "    if height:\n",
    "        H = 'height=%d' % height\n",
    "    if imgsrc.startswith('http'):\n",
    "        data_url = imgsrc\n",
    "    else:\n",
    "        if len(imgsrc) > 2048:\n",
    "            data_url = 'data:image/jpg;base64,' + imgsrc\n",
    "        else:\n",
    "            img = open(imgsrc, 'rb').read()\n",
    "            data_url = 'data:image/jpg;base64,' + base64.b64encode(img).decode()\n",
    "    return HTML('<center><img %s %s src=\"%s\"/></center>' % (W, H, data_url))"
   ]
  },
  {
   "cell_type": "markdown",
   "id": "3b3a39ab",
   "metadata": {
    "heading_collapsed": true
   },
   "source": [
    "## Global"
   ]
  },
  {
   "cell_type": "code",
   "execution_count": 8,
   "id": "61a35f36",
   "metadata": {
    "hidden": true
   },
   "outputs": [],
   "source": [
    "TOP_DIR='/jupyter/hzcsbet/gamebet'\n",
    "H = 720\n",
    "W = 1280\n",
    "\n",
    "class COLORS(object):\n",
    "    # BGR\n",
    "    GREEN      = (0   , 255 , 0)\n",
    "    RED        = (0   , 0   , 255)\n",
    "    BLACK      = (0   , 0   , 0)\n",
    "    YELLOW     = (0   , 255 , 255)\n",
    "    WHITE      = (255 , 255 , 255)\n",
    "    CYAN       = (255 , 255 , 0)\n",
    "    MAGENTA    = (255 , 0   , 242)\n",
    "    GOLDEN     = (32  , 218 , 165)\n",
    "    LIGHT_BLUE = (255 , 9   , 2)\n",
    "    PURPLE     = (128 , 0   , 128)\n",
    "    CHOCOLATE  = (30  , 105 , 210)\n",
    "    PINK       = (147 , 20  , 255)\n",
    "    ORANGE     = (0   , 69  , 255)\n",
    "\n",
    "sys.path.append(f'{TOP_DIR}/python')"
   ]
  },
  {
   "cell_type": "code",
   "execution_count": 9,
   "id": "c6601c09",
   "metadata": {
    "hidden": true
   },
   "outputs": [],
   "source": [
    "def _print_dictkeys_shape(d):\n",
    "    for k, v in d.items():\n",
    "        if k.startswith('__'):\n",
    "            continue\n",
    "        print(f'{k}: {v.shape}')\n",
    "        \n",
    "def _print_statistics(o, prefix=''):\n",
    "    if isinstance(o, np.ndarray):\n",
    "        print(f'{prefix} mean: {o.mean()}, std: {o.std()}, max: {o.max()}, min:{o.min()}')"
   ]
  },
  {
   "cell_type": "markdown",
   "id": "124aba0a",
   "metadata": {},
   "source": [
    "## Dataset"
   ]
  },
  {
   "cell_type": "markdown",
   "id": "0edc3947",
   "metadata": {
    "heading_collapsed": true
   },
   "source": [
    "### worldcup2014.mat"
   ]
  },
  {
   "cell_type": "code",
   "execution_count": 10,
   "id": "af0233d2",
   "metadata": {
    "hidden": true
   },
   "outputs": [
    {
     "name": "stdout",
     "output_type": "stream",
     "text": [
      "points: (302, 2)\n",
      "line_segment_index: (151, 2)\n",
      "grid_points: (2204, 2)\n"
     ]
    }
   ],
   "source": [
    "worldcup_2014_mat = sio.loadmat(f'{TOP_DIR}/data/worldcup2014.mat')\n",
    "_print_dictkeys_shape(worldcup_2014_mat)"
   ]
  },
  {
   "cell_type": "code",
   "execution_count": 13,
   "id": "c67ab742",
   "metadata": {
    "hidden": true
   },
   "outputs": [
    {
     "name": "stdout",
     "output_type": "stream",
     "text": [
      "points mean: 52.50027599999999, std: 27.479935120360008, max: 105.000552, min:0.0\n",
      "points mean: 34.001964, std: 11.397408419732242, max: 68.003928, min:0.0\n"
     ]
    }
   ],
   "source": [
    "points = worldcup_2014_mat['points']\n",
    "_print_statistics(points[:, 0], 'points'), _print_statistics(points[:, 1], 'points');"
   ]
  },
  {
   "cell_type": "code",
   "execution_count": 14,
   "id": "c51d3424",
   "metadata": {
    "hidden": true
   },
   "outputs": [
    {
     "data": {
      "text/plain": [
       "(1051, 681)"
      ]
     },
     "execution_count": 14,
     "metadata": {},
     "output_type": "execute_result"
    }
   ],
   "source": [
    "w, h = int(np.ceil(10 * points[:, 0].max())), int(np.ceil(10 * points[:, 1].max()))\n",
    "w, h"
   ]
  },
  {
   "cell_type": "code",
   "execution_count": 15,
   "id": "5059ef41",
   "metadata": {
    "hidden": true
   },
   "outputs": [
    {
     "data": {
      "image/png": "[encoded data removed]",
      "text/plain": [
       "<Figure size 864x576 with 1 Axes>"
      ]
     },
     "metadata": {
      "needs_background": "light"
     },
     "output_type": "display_data"
    }
   ],
   "source": [
    "img_lines = np.zeros((h, w, 3), dtype=np.uint8)\n",
    "for idx1, idx2 in worldcup_2014_mat['line_segment_index']:\n",
    "    p1, p2 = 10 * points[idx1], 10 * points[idx2]\n",
    "    q1 = np.rint(p1).astype(np.int32)\n",
    "    q2 = np.rint(p2).astype(np.int32)\n",
    "    cv2.line(img_lines, tuple(q1), tuple(q2), COLORS.WHITE, thickness=2)\n",
    "show_image(img_lines)"
   ]
  },
  {
   "cell_type": "markdown",
   "id": "edfffac9",
   "metadata": {},
   "source": [
    "### worldcup_dataset_camera_parameter.mat"
   ]
  },
  {
   "cell_type": "code",
   "execution_count": 16,
   "id": "74017cd4",
   "metadata": {},
   "outputs": [
    {
     "name": "stdout",
     "output_type": "stream",
     "text": [
      "cc_max: (1, 3)\n",
      "cc_mean: (1, 3)\n",
      "cc_min: (1, 3)\n",
      "cc_std: (1, 3)\n",
      "fl_max: (1, 1)\n",
      "fl_mean: (1, 1)\n",
      "fl_min: (1, 1)\n",
      "fl_std: (1, 1)\n"
     ]
    }
   ],
   "source": [
    "worldcup_camera_parameter = sio.loadmat(f'{TOP_DIR}/data/worldcup_dataset_camera_parameter.mat')\n",
    "_print_dictkeys_shape(worldcup_camera_parameter)"
   ]
  },
  {
   "cell_type": "code",
   "execution_count": 17,
   "id": "38f23e24",
   "metadata": {},
   "outputs": [
    {
     "data": {
      "text/plain": [
       "{'__header__': b'MATLAB 5.0 MAT-file, Platform: MACI64, Created on: Mon Jan 29 09:43:18 2018',\n",
       " '__version__': '1.0',\n",
       " '__globals__': [],\n",
       " 'cc_max': array([[ 60.84563315, -16.74178234,  23.01126126]]),\n",
       " 'cc_mean': array([[ 52.36618474, -45.15650112,  16.82156705]]),\n",
       " 'cc_min': array([[ 45.05679141, -66.0702037 ,  10.13871263]]),\n",
       " 'cc_std': array([[2.23192608, 9.3825635 , 2.94875254]]),\n",
       " 'fl_max': array([[5696.98454881]]),\n",
       " 'fl_mean': array([[3018.18139785]]),\n",
       " 'fl_min': array([[1463.16468414]]),\n",
       " 'fl_std': array([[716.06817106]])}"
      ]
     },
     "execution_count": 17,
     "metadata": {},
     "output_type": "execute_result"
    }
   ],
   "source": [
    "worldcup_camera_parameter"
   ]
  },
  {
   "cell_type": "markdown",
   "id": "f84c34e4",
   "metadata": {},
   "source": [
    "## Utils"
   ]
  },
  {
   "cell_type": "code",
   "execution_count": null,
   "id": "6acadd89",
   "metadata": {},
   "outputs": [],
   "source": [
    "from util.synthetic_util import SyntheticUtil"
   ]
  },
  {
   "cell_type": "code",
   "execution_count": null,
   "id": "5bac8663",
   "metadata": {},
   "outputs": [],
   "source": [
    "def _generate_ptz_cameras(data, num=10):\n",
    "    cc_statistics = [\n",
    "        data['cc_mean'],\n",
    "        data['cc_std'],\n",
    "        data['cc_min'],\n",
    "        data['cc_max']\n",
    "    ]\n",
    "    fl_statistics = [\n",
    "        data['fl_mean'], \n",
    "        data['fl_std'],\n",
    "        data['fl_min'],\n",
    "        data['fl_max']\n",
    "    ]\n",
    "    roll_statistics = [0, 0.2, -1.0, 1.0]\n",
    "    pan_range = [-35.0, 35.0]\n",
    "    tilt_range = [-15.0, -5.0]\n",
    "    cameras = SyntheticUtil.generate_ptz_cameras(\n",
    "        cc_statistics,\n",
    "        fl_statistics,\n",
    "        roll_statistics,\n",
    "        pan_range, tilt_range,\n",
    "        W/2.0, H/2.0,\n",
    "        num)\n",
    "\n",
    "_generate_ptz_cameras(worldcup_camera_parameter)"
   ]
  },
  {
   "cell_type": "code",
   "execution_count": null,
   "id": "10c72e0e",
   "metadata": {},
   "outputs": [],
   "source": [
    "img = cv2.imread(f'{TOP_DIR}/data/16_edge_image.jpg')\n",
    "show_image(img)"
   ]
  },
  {
   "cell_type": "code",
   "execution_count": null,
   "id": "926924ee",
   "metadata": {},
   "outputs": [],
   "source": [
    "img = cv2.cvtColor(img, cv.COLOR_BGR2GRAY)\n",
    "show_image(img)"
   ]
  },
  {
   "cell_type": "code",
   "execution_count": null,
   "id": "e8db1aac",
   "metadata": {},
   "outputs": [],
   "source": [
    "_, binary_im = cv2.threshold(img, 10, 255, cv.THRESH_BINARY_INV)\n",
    "show_image(binary_im)"
   ]
  },
  {
   "cell_type": "code",
   "execution_count": null,
   "id": "5ac38b59",
   "metadata": {},
   "outputs": [],
   "source": [
    "dist_im = cv2.distanceTransform(binary_im, cv.DIST_L2, cv.DIST_MASK_PRECISE)\n",
    "dist_im[dist_im > 255] = 255\n",
    "dist_im = dist_im.astype(np.uint8)\n",
    "show_image(dist_im)"
   ]
  },
  {
   "cell_type": "code",
   "execution_count": null,
   "id": "a14d2b04",
   "metadata": {},
   "outputs": [],
   "source": []
  },
  {
   "cell_type": "code",
   "execution_count": null,
   "id": "ea14907e",
   "metadata": {},
   "outputs": [],
   "source": []
  },
  {
   "cell_type": "code",
   "execution_count": null,
   "id": "a6953e28",
   "metadata": {},
   "outputs": [],
   "source": [
    "dist_im.max()"
   ]
  },
  {
   "cell_type": "code",
   "execution_count": null,
   "id": "aec19ab8",
   "metadata": {},
   "outputs": [],
   "source": [
    "train_sample_data = sio.loadmat('./worldcup_sampled_cameras.mat')"
   ]
  },
  {
   "cell_type": "code",
   "execution_count": null,
   "id": "23fca419",
   "metadata": {},
   "outputs": [],
   "source": [
    "train_sample_data.keys()"
   ]
  },
  {
   "cell_type": "code",
   "execution_count": null,
   "id": "25e16a94",
   "metadata": {},
   "outputs": [],
   "source": [
    "train_sample_data['pivot_cameras'].shape, train_sample_data['positive_cameras'].shape, train_sample_data['positive_ious'].shape"
   ]
  },
  {
   "cell_type": "code",
   "execution_count": null,
   "id": "6c69ec61",
   "metadata": {},
   "outputs": [],
   "source": [
    "for i in range(10000, 10100, 10):\n",
    "    pivot = train_sample_data['pivot_cameras'][i]\n",
    "    print(pivot.tolist())"
   ]
  },
  {
   "cell_type": "code",
   "execution_count": null,
   "id": "55cb0a85",
   "metadata": {},
   "outputs": [],
   "source": [
    "for i in range(10000, 10100, 10):\n",
    "    pivot = train_sample_data['positive_cameras'][i]\n",
    "    print(pivot.tolist())"
   ]
  },
  {
   "cell_type": "code",
   "execution_count": null,
   "id": "f7af24bd",
   "metadata": {},
   "outputs": [],
   "source": [
    "train_sample_data['positive_cameras'][0]"
   ]
  }
 ],
 "metadata": {
  "hide_input": false,
  "kernelspec": {
   "display_name": "Python 3 (ipykernel)",
   "language": "python",
   "name": "python3"
  },
  "language_info": {
   "codemirror_mode": {
    "name": "ipython",
    "version": 3
   },
   "file_extension": ".py",
   "mimetype": "text/x-python",
   "name": "python",
   "nbconvert_exporter": "python",
   "pygments_lexer": "ipython3",
   "version": "3.8.10"
  },
  "toc": {
   "base_numbering": 1,
   "nav_menu": {},
   "number_sections": true,
   "sideBar": false,
   "skip_h1_title": true,
   "title_cell": "Contents",
   "title_sidebar": "Contents",
   "toc_cell": false,
   "toc_position": {},
   "toc_section_display": true,
   "toc_window_display": false
  }
 },
 "nbformat": 4,
 "nbformat_minor": 5
}
